{
 "cells": [
  {
   "cell_type": "code",
   "execution_count": 3,
   "metadata": {},
   "outputs": [],
   "source": [
    "import findspark\n",
    "findspark.init()"
   ]
  },
  {
   "cell_type": "code",
   "execution_count": 4,
   "metadata": {},
   "outputs": [],
   "source": [
    "from pyspark.sql import SparkSession"
   ]
  },
  {
   "cell_type": "markdown",
   "metadata": {},
   "source": [
    "# Como crear una sesion de spark para computo distribuido "
   ]
  },
  {
   "cell_type": "code",
   "execution_count": 5,
   "metadata": {},
   "outputs": [
    {
     "name": "stderr",
     "output_type": "stream",
     "text": [
      "24/05/01 12:35:25 WARN Utils: Your hostname, Mac-Jaime.local resolves to a loopback address: 127.0.0.1; using 192.168.0.205 instead (on interface en0)\n",
      "24/05/01 12:35:25 WARN Utils: Set SPARK_LOCAL_IP if you need to bind to another address\n",
      "Setting default log level to \"WARN\".\n",
      "To adjust logging level use sc.setLogLevel(newLevel). For SparkR, use setLogLevel(newLevel).\n",
      "24/05/01 12:35:27 WARN NativeCodeLoader: Unable to load native-hadoop library for your platform... using builtin-java classes where applicable\n"
     ]
    }
   ],
   "source": [
    "spark = SparkSession.builder.appName('firstSession')\\\n",
    "    .config('spark.master', 'local[4]')\\\n",
    "    .config('spark.executor.memory', '1g')\\\n",
    "    .config(\"spark.sql.shuffle.partitions\", 1)\\\n",
    "    .config('spark.driver.memory','1g')\\\n",
    "    .getOrCreate()"
   ]
  },
  {
   "cell_type": "code",
   "execution_count": 6,
   "metadata": {},
   "outputs": [
    {
     "data": {
      "text/html": [
       "\n",
       "            <div>\n",
       "                <p><b>SparkSession - in-memory</b></p>\n",
       "                \n",
       "        <div>\n",
       "            <p><b>SparkContext</b></p>\n",
       "\n",
       "            <p><a href=\"http://192.168.0.205:4040\">Spark UI</a></p>\n",
       "\n",
       "            <dl>\n",
       "              <dt>Version</dt>\n",
       "                <dd><code>v3.5.1</code></dd>\n",
       "              <dt>Master</dt>\n",
       "                <dd><code>local[4]</code></dd>\n",
       "              <dt>AppName</dt>\n",
       "                <dd><code>firstSession</code></dd>\n",
       "            </dl>\n",
       "        </div>\n",
       "        \n",
       "            </div>\n",
       "        "
      ],
      "text/plain": [
       "<pyspark.sql.session.SparkSession at 0x1105e8650>"
      ]
     },
     "execution_count": 6,
     "metadata": {},
     "output_type": "execute_result"
    }
   ],
   "source": [
    "spark\n"
   ]
  },
  {
   "cell_type": "markdown",
   "metadata": {},
   "source": [
    "# Cómo generar un Dataframe\n",
    "## A partir de una lista "
   ]
  },
  {
   "cell_type": "code",
   "execution_count": 50,
   "metadata": {},
   "outputs": [
    {
     "data": {
      "text/plain": [
       "[(1, 'Aranza', 21), (2, 'Andres', 80), (3, 'Jaime', 23), (4, 'Uumami', 20)]"
      ]
     },
     "execution_count": 50,
     "metadata": {},
     "output_type": "execute_result"
    }
   ],
   "source": [
    "columnas = [\"id\", \"nombre\", \"edad\"]\n",
    "lista = [(1, \"Aranza\", 21), (2, \"Andres\", 80), (3, \"Jaime\", 23), (4, \"Uumami\", 20)]\n",
    "lista"
   ]
  },
  {
   "cell_type": "code",
   "execution_count": 53,
   "metadata": {},
   "outputs": [
    {
     "name": "stderr",
     "output_type": "stream",
     "text": [
      "[Stage 42:>                                                         (0 + 1) / 1]\r"
     ]
    },
    {
     "name": "stderr",
     "output_type": "stream",
     "text": [
      "[Stage 43:>                                                         (0 + 3) / 3]\r"
     ]
    },
    {
     "name": "stdout",
     "output_type": "stream",
     "text": [
      "+---+------+----+\n",
      "| id|nombre|edad|\n",
      "+---+------+----+\n",
      "|  1|Aranza|  21|\n",
      "|  2|Andres|  80|\n",
      "|  3| Jaime|  23|\n",
      "|  4|Uumami|  20|\n",
      "+---+------+----+\n",
      "\n"
     ]
    },
    {
     "name": "stderr",
     "output_type": "stream",
     "text": [
      "                                                                                \r"
     ]
    }
   ],
   "source": [
    "df_l = spark.createDataFrame(lista, schema=columnas)\n",
    "df_l.show()"
   ]
  },
  {
   "cell_type": "markdown",
   "metadata": {},
   "source": [
    "## A partir de un parquet"
   ]
  },
  {
   "cell_type": "code",
   "execution_count": 7,
   "metadata": {},
   "outputs": [
    {
     "name": "stderr",
     "output_type": "stream",
     "text": [
      "24/05/01 12:35:43 WARN GarbageCollectionMetrics: To enable non-built-in garbage collector(s) List(G1 Concurrent GC), users should configure it(them) to spark.eventLog.gcMetrics.youngGenerationGarbageCollectors or spark.eventLog.gcMetrics.oldGenerationGarbageCollectors\n",
      "                                                                                \r"
     ]
    },
    {
     "name": "stdout",
     "output_type": "stream",
     "text": [
      "+----------------+-------+----------+----------+------+-------+---------+--------------------+--------------------+--------------------+--------------------+--------------+--------------+--------------+\n",
      "|Series_reference| Period|Data_value|Suppressed|STATUS|  UNITS|Magnitude|             Subject|               Group|      Series_title_1|      Series_title_2|Series_title_3|Series_title_4|Series_title_5|\n",
      "+----------------+-------+----------+----------+------+-------+---------+--------------------+--------------------+--------------------+--------------------+--------------+--------------+--------------+\n",
      "|   BDCQ.SF1AA2CA|2016.06|  1116.386|      NULL|     F|Dollars|        6|Business Data Col...|Industry by finan...|Sales (operating ...|Forestry and Logging|Current prices|    Unadjusted|          NULL|\n",
      "|   BDCQ.SF1AA2CA|2016.09|  1070.874|      NULL|     F|Dollars|        6|Business Data Col...|Industry by finan...|Sales (operating ...|Forestry and Logging|Current prices|    Unadjusted|          NULL|\n",
      "|   BDCQ.SF1AA2CA|2016.12|  1054.408|      NULL|     F|Dollars|        6|Business Data Col...|Industry by finan...|Sales (operating ...|Forestry and Logging|Current prices|    Unadjusted|          NULL|\n",
      "|   BDCQ.SF1AA2CA|2017.03|  1010.665|      NULL|     F|Dollars|        6|Business Data Col...|Industry by finan...|Sales (operating ...|Forestry and Logging|Current prices|    Unadjusted|          NULL|\n",
      "|   BDCQ.SF1AA2CA|2017.06|    1233.7|      NULL|     F|Dollars|        6|Business Data Col...|Industry by finan...|Sales (operating ...|Forestry and Logging|Current prices|    Unadjusted|          NULL|\n",
      "|   BDCQ.SF1AA2CA|2017.09|  1282.436|      NULL|     F|Dollars|        6|Business Data Col...|Industry by finan...|Sales (operating ...|Forestry and Logging|Current prices|    Unadjusted|          NULL|\n",
      "|   BDCQ.SF1AA2CA|2017.12|   1290.82|      NULL|     F|Dollars|        6|Business Data Col...|Industry by finan...|Sales (operating ...|Forestry and Logging|Current prices|    Unadjusted|          NULL|\n",
      "|   BDCQ.SF1AA2CA|2018.03|  1412.007|      NULL|     F|Dollars|        6|Business Data Col...|Industry by finan...|Sales (operating ...|Forestry and Logging|Current prices|    Unadjusted|          NULL|\n",
      "|   BDCQ.SF1AA2CA|2018.06|  1488.055|      NULL|     F|Dollars|        6|Business Data Col...|Industry by finan...|Sales (operating ...|Forestry and Logging|Current prices|    Unadjusted|          NULL|\n",
      "|   BDCQ.SF1AA2CA|2018.09|  1497.678|      NULL|     F|Dollars|        6|Business Data Col...|Industry by finan...|Sales (operating ...|Forestry and Logging|Current prices|    Unadjusted|          NULL|\n",
      "|   BDCQ.SF1AA2CA|2018.12|  1570.507|      NULL|     F|Dollars|        6|Business Data Col...|Industry by finan...|Sales (operating ...|Forestry and Logging|Current prices|    Unadjusted|          NULL|\n",
      "|   BDCQ.SF1AA2CA|2019.03|  1393.749|      NULL|     F|Dollars|        6|Business Data Col...|Industry by finan...|Sales (operating ...|Forestry and Logging|Current prices|    Unadjusted|          NULL|\n",
      "|   BDCQ.SF1AA2CA|2019.06|  1517.143|      NULL|     F|Dollars|        6|Business Data Col...|Industry by finan...|Sales (operating ...|Forestry and Logging|Current prices|    Unadjusted|          NULL|\n",
      "|   BDCQ.SF1AA2CA|2019.09|  1381.514|      NULL|     F|Dollars|        6|Business Data Col...|Industry by finan...|Sales (operating ...|Forestry and Logging|Current prices|    Unadjusted|          NULL|\n",
      "|   BDCQ.SF1AA2CA|2019.12|  1370.985|      NULL|     F|Dollars|        6|Business Data Col...|Industry by finan...|Sales (operating ...|Forestry and Logging|Current prices|    Unadjusted|          NULL|\n",
      "|   BDCQ.SF1AA2CA|2020.03|  1073.017|      NULL|     F|Dollars|        6|Business Data Col...|Industry by finan...|Sales (operating ...|Forestry and Logging|Current prices|    Unadjusted|          NULL|\n",
      "|   BDCQ.SF1AA2CA|2020.06|  1131.445|      NULL|     F|Dollars|        6|Business Data Col...|Industry by finan...|Sales (operating ...|Forestry and Logging|Current prices|    Unadjusted|          NULL|\n",
      "|   BDCQ.SF1AA2CA|2020.09|  1440.101|      NULL|     F|Dollars|        6|Business Data Col...|Industry by finan...|Sales (operating ...|Forestry and Logging|Current prices|    Unadjusted|          NULL|\n",
      "|   BDCQ.SF1AA2CA|2020.12|  1489.979|      NULL|     F|Dollars|        6|Business Data Col...|Industry by finan...|Sales (operating ...|Forestry and Logging|Current prices|    Unadjusted|          NULL|\n",
      "|   BDCQ.SF1AA3CA|2016.06|  1189.735|      NULL|     F|Dollars|        6|Business Data Col...|Industry by finan...|Sales (operating ...|Fishing, Aquacult...|Current prices|    Unadjusted|          NULL|\n",
      "+----------------+-------+----------+----------+------+-------+---------+--------------------+--------------------+--------------------+--------------------+--------------+--------------+--------------+\n",
      "only showing top 20 rows\n",
      "\n"
     ]
    }
   ],
   "source": [
    "df_p = spark.read.parquet('ejemplo.parquet')\n",
    "df_p.show()"
   ]
  },
  {
   "cell_type": "markdown",
   "metadata": {},
   "source": [
    "### Podemos convertir a un DataFrame de pandas"
   ]
  },
  {
   "cell_type": "code",
   "execution_count": 9,
   "metadata": {},
   "outputs": [],
   "source": [
    "df_pandas = df_p.toPandas()"
   ]
  },
  {
   "cell_type": "code",
   "execution_count": 10,
   "metadata": {},
   "outputs": [
    {
     "data": {
      "text/html": [
       "<div>\n",
       "<style scoped>\n",
       "    .dataframe tbody tr th:only-of-type {\n",
       "        vertical-align: middle;\n",
       "    }\n",
       "\n",
       "    .dataframe tbody tr th {\n",
       "        vertical-align: top;\n",
       "    }\n",
       "\n",
       "    .dataframe thead th {\n",
       "        text-align: right;\n",
       "    }\n",
       "</style>\n",
       "<table border=\"1\" class=\"dataframe\">\n",
       "  <thead>\n",
       "    <tr style=\"text-align: right;\">\n",
       "      <th></th>\n",
       "      <th>Series_reference</th>\n",
       "      <th>Period</th>\n",
       "      <th>Data_value</th>\n",
       "      <th>Suppressed</th>\n",
       "      <th>STATUS</th>\n",
       "      <th>UNITS</th>\n",
       "      <th>Magnitude</th>\n",
       "      <th>Subject</th>\n",
       "      <th>Group</th>\n",
       "      <th>Series_title_1</th>\n",
       "      <th>Series_title_2</th>\n",
       "      <th>Series_title_3</th>\n",
       "      <th>Series_title_4</th>\n",
       "      <th>Series_title_5</th>\n",
       "    </tr>\n",
       "  </thead>\n",
       "  <tbody>\n",
       "    <tr>\n",
       "      <th>0</th>\n",
       "      <td>BDCQ.SF1AA2CA</td>\n",
       "      <td>2016.06</td>\n",
       "      <td>1116.386</td>\n",
       "      <td>None</td>\n",
       "      <td>F</td>\n",
       "      <td>Dollars</td>\n",
       "      <td>6</td>\n",
       "      <td>Business Data Collection - BDC</td>\n",
       "      <td>Industry by financial variable</td>\n",
       "      <td>Sales (operating income)</td>\n",
       "      <td>Forestry and Logging</td>\n",
       "      <td>Current prices</td>\n",
       "      <td>Unadjusted</td>\n",
       "      <td>None</td>\n",
       "    </tr>\n",
       "    <tr>\n",
       "      <th>1</th>\n",
       "      <td>BDCQ.SF1AA2CA</td>\n",
       "      <td>2016.09</td>\n",
       "      <td>1070.874</td>\n",
       "      <td>None</td>\n",
       "      <td>F</td>\n",
       "      <td>Dollars</td>\n",
       "      <td>6</td>\n",
       "      <td>Business Data Collection - BDC</td>\n",
       "      <td>Industry by financial variable</td>\n",
       "      <td>Sales (operating income)</td>\n",
       "      <td>Forestry and Logging</td>\n",
       "      <td>Current prices</td>\n",
       "      <td>Unadjusted</td>\n",
       "      <td>None</td>\n",
       "    </tr>\n",
       "    <tr>\n",
       "      <th>2</th>\n",
       "      <td>BDCQ.SF1AA2CA</td>\n",
       "      <td>2016.12</td>\n",
       "      <td>1054.408</td>\n",
       "      <td>None</td>\n",
       "      <td>F</td>\n",
       "      <td>Dollars</td>\n",
       "      <td>6</td>\n",
       "      <td>Business Data Collection - BDC</td>\n",
       "      <td>Industry by financial variable</td>\n",
       "      <td>Sales (operating income)</td>\n",
       "      <td>Forestry and Logging</td>\n",
       "      <td>Current prices</td>\n",
       "      <td>Unadjusted</td>\n",
       "      <td>None</td>\n",
       "    </tr>\n",
       "    <tr>\n",
       "      <th>3</th>\n",
       "      <td>BDCQ.SF1AA2CA</td>\n",
       "      <td>2017.03</td>\n",
       "      <td>1010.665</td>\n",
       "      <td>None</td>\n",
       "      <td>F</td>\n",
       "      <td>Dollars</td>\n",
       "      <td>6</td>\n",
       "      <td>Business Data Collection - BDC</td>\n",
       "      <td>Industry by financial variable</td>\n",
       "      <td>Sales (operating income)</td>\n",
       "      <td>Forestry and Logging</td>\n",
       "      <td>Current prices</td>\n",
       "      <td>Unadjusted</td>\n",
       "      <td>None</td>\n",
       "    </tr>\n",
       "    <tr>\n",
       "      <th>4</th>\n",
       "      <td>BDCQ.SF1AA2CA</td>\n",
       "      <td>2017.06</td>\n",
       "      <td>1233.7</td>\n",
       "      <td>None</td>\n",
       "      <td>F</td>\n",
       "      <td>Dollars</td>\n",
       "      <td>6</td>\n",
       "      <td>Business Data Collection - BDC</td>\n",
       "      <td>Industry by financial variable</td>\n",
       "      <td>Sales (operating income)</td>\n",
       "      <td>Forestry and Logging</td>\n",
       "      <td>Current prices</td>\n",
       "      <td>Unadjusted</td>\n",
       "      <td>None</td>\n",
       "    </tr>\n",
       "  </tbody>\n",
       "</table>\n",
       "</div>"
      ],
      "text/plain": [
       "  Series_reference   Period Data_value Suppressed STATUS    UNITS Magnitude  \\\n",
       "0    BDCQ.SF1AA2CA  2016.06   1116.386       None      F  Dollars         6   \n",
       "1    BDCQ.SF1AA2CA  2016.09   1070.874       None      F  Dollars         6   \n",
       "2    BDCQ.SF1AA2CA  2016.12   1054.408       None      F  Dollars         6   \n",
       "3    BDCQ.SF1AA2CA  2017.03   1010.665       None      F  Dollars         6   \n",
       "4    BDCQ.SF1AA2CA  2017.06     1233.7       None      F  Dollars         6   \n",
       "\n",
       "                          Subject                           Group  \\\n",
       "0  Business Data Collection - BDC  Industry by financial variable   \n",
       "1  Business Data Collection - BDC  Industry by financial variable   \n",
       "2  Business Data Collection - BDC  Industry by financial variable   \n",
       "3  Business Data Collection - BDC  Industry by financial variable   \n",
       "4  Business Data Collection - BDC  Industry by financial variable   \n",
       "\n",
       "             Series_title_1        Series_title_2  Series_title_3  \\\n",
       "0  Sales (operating income)  Forestry and Logging  Current prices   \n",
       "1  Sales (operating income)  Forestry and Logging  Current prices   \n",
       "2  Sales (operating income)  Forestry and Logging  Current prices   \n",
       "3  Sales (operating income)  Forestry and Logging  Current prices   \n",
       "4  Sales (operating income)  Forestry and Logging  Current prices   \n",
       "\n",
       "  Series_title_4 Series_title_5  \n",
       "0     Unadjusted           None  \n",
       "1     Unadjusted           None  \n",
       "2     Unadjusted           None  \n",
       "3     Unadjusted           None  \n",
       "4     Unadjusted           None  "
      ]
     },
     "execution_count": 10,
     "metadata": {},
     "output_type": "execute_result"
    }
   ],
   "source": [
    "df_pandas.head()"
   ]
  },
  {
   "cell_type": "markdown",
   "metadata": {},
   "source": [
    "## a partir de un csv"
   ]
  },
  {
   "cell_type": "code",
   "execution_count": 11,
   "metadata": {},
   "outputs": [
    {
     "name": "stderr",
     "output_type": "stream",
     "text": [
      "                                                                                \r"
     ]
    },
    {
     "name": "stdout",
     "output_type": "stream",
     "text": [
      "+----------------+-------------------+--------------------+------------+-----------+---------------+----------------------------+--------------------+-----------+----------------+----------------+----------------+\n",
      "|EJERCICIO FISCAL| ENTIDAD FEDERATIVA|      NOMBRE OFICINA|MES DE CORTE|     ORIGEN|   NOMBRE COMUN|PESO DESEMBARCADO KILOGRAMOS|PESO VIVO KILOGRAMOS|VALOR PESOS|NOMBRE PRINCIPAL|CLAVE DE ENTIDAD|CLAVE DE OFICINA|\n",
      "+----------------+-------------------+--------------------+------------+-----------+---------------+----------------------------+--------------------+-----------+----------------+----------------+----------------+\n",
      "|            2020|    BAJA CALIFORNIA|          EL ROSARIO|       JUNIO|    CAPTURA|ABULON AMARILLO|                         501|                 501|     59,327|          ABULON|               2|             202|\n",
      "|            2020|    BAJA CALIFORNIA|          EL ROSARIO|   DICIEMBRE|    CAPTURA|ABULON AMARILLO|                          73|                 173|     25,744|          ABULON|               2|             202|\n",
      "|            2020|    BAJA CALIFORNIA|          EL ROSARIO|   DICIEMBRE|    CAPTURA|ABULON AMARILLO|                         356|                 356|     22,502|          ABULON|               2|             202|\n",
      "|            2020|    BAJA CALIFORNIA|            ENSENADA|     OCTUBRE|ACUACULTURA|ABULON AMARILLO|                       1,240|               1,240|    347,663|          ABULON|               2|             203|\n",
      "|            2020|    BAJA CALIFORNIA|            ENSENADA|   NOVIEMBRE|    CAPTURA|ABULON AMARILLO|                         118|                 280|     47,359|          ABULON|               2|             203|\n",
      "|            2020|    BAJA CALIFORNIA|            ENSENADA|   NOVIEMBRE|    CAPTURA|ABULON AMARILLO|                           8|                   8|      3,184|          ABULON|               2|             203|\n",
      "|            2020|    BAJA CALIFORNIA|         ISLA CEDROS|       MARZO|    CAPTURA|ABULON AMARILLO|                       2,855|               2,855|  1,520,625|          ABULON|               2|             204|\n",
      "|            2020|    BAJA CALIFORNIA|         ISLA CEDROS|       ABRIL|    CAPTURA|ABULON AMARILLO|                       3,387|               3,387|  1,803,725|          ABULON|               2|             204|\n",
      "|            2020|    BAJA CALIFORNIA|         ISLA CEDROS|        MAYO|    CAPTURA|ABULON AMARILLO|                       2,282|               2,282|  1,215,430|          ABULON|               2|             204|\n",
      "|            2020|    BAJA CALIFORNIA|         ISLA CEDROS|       JUNIO|    CAPTURA|ABULON AMARILLO|                       4,166|               4,166|  2,218,824|          ABULON|               2|             204|\n",
      "|            2020|    BAJA CALIFORNIA|VILLA DE JESUS MARIA|       MARZO|    CAPTURA|ABULON AMARILLO|                          34|                  80|      3,661|          ABULON|               2|             210|\n",
      "|            2020|    BAJA CALIFORNIA|VILLA DE JESUS MARIA|       MARZO|    CAPTURA|ABULON AMARILLO|                           2|                   2|        246|          ABULON|               2|             210|\n",
      "|            2020|BAJA CALIFORNIA SUR|      BAHIA TORTUGAS|       ABRIL|    CAPTURA|ABULON AMARILLO|                           0|                   0|     20,494|          ABULON|               3|             301|\n",
      "|            2020|BAJA CALIFORNIA SUR|      BAHIA TORTUGAS|       ABRIL|    CAPTURA|ABULON AMARILLO|                         572|               1,361|    544,274|          ABULON|               3|             301|\n",
      "|            2020|BAJA CALIFORNIA SUR|      BAHIA TORTUGAS|       ABRIL|    CAPTURA|ABULON AMARILLO|                         172|                 172|    102,560|          ABULON|               3|             301|\n",
      "|            2020|BAJA CALIFORNIA SUR|      BAHIA TORTUGAS|       JUNIO|    CAPTURA|ABULON AMARILLO|                           0|                   0|     53,292|          ABULON|               3|             301|\n",
      "|            2020|BAJA CALIFORNIA SUR|      BAHIA TORTUGAS|       JUNIO|    CAPTURA|ABULON AMARILLO|                       1,586|               3,774|  1,509,761|          ABULON|               3|             301|\n",
      "|            2020|BAJA CALIFORNIA SUR|      BAHIA TORTUGAS|       JUNIO|    CAPTURA|ABULON AMARILLO|                         476|                 476|    284,492|          ABULON|               3|             301|\n",
      "|            2020|BAJA CALIFORNIA SUR|      BAHIA TORTUGAS|       JULIO|    CAPTURA|ABULON AMARILLO|                           0|                   0|     46,545|          ABULON|               3|             301|\n",
      "|            2020|BAJA CALIFORNIA SUR|      BAHIA TORTUGAS|       JULIO|    CAPTURA|ABULON AMARILLO|                       1,400|               3,332|  1,332,672|          ABULON|               3|             301|\n",
      "+----------------+-------------------+--------------------+------------+-----------+---------------+----------------------------+--------------------+-----------+----------------+----------------+----------------+\n",
      "only showing top 20 rows\n",
      "\n"
     ]
    }
   ],
   "source": [
    "df_c = spark.read.csv('Produccion_Pesquera_2020.csv', header=True, inferSchema=True)\n",
    "df_c.show()"
   ]
  },
  {
   "cell_type": "code",
   "execution_count": 57,
   "metadata": {},
   "outputs": [
    {
     "name": "stdout",
     "output_type": "stream",
     "text": [
      "root\n",
      " |-- EJERCICIO FISCAL: integer (nullable = true)\n",
      " |-- ENTIDAD FEDERATIVA: string (nullable = true)\n",
      " |-- NOMBRE OFICINA: string (nullable = true)\n",
      " |-- MES DE CORTE: string (nullable = true)\n",
      " |-- ORIGEN: string (nullable = true)\n",
      " |-- NOMBRE COMUN: string (nullable = true)\n",
      " |-- PESO DESEMBARCADO KILOGRAMOS: string (nullable = true)\n",
      " |-- PESO VIVO KILOGRAMOS: string (nullable = true)\n",
      " |-- VALOR PESOS: string (nullable = true)\n",
      " |-- NOMBRE PRINCIPAL: string (nullable = true)\n",
      " |-- CLAVE DE ENTIDAD: integer (nullable = true)\n",
      " |-- CLAVE DE OFICINA: integer (nullable = true)\n",
      "\n"
     ]
    }
   ],
   "source": [
    "df_c.printSchema()"
   ]
  },
  {
   "cell_type": "code",
   "execution_count": 59,
   "metadata": {},
   "outputs": [
    {
     "name": "stdout",
     "output_type": "stream",
     "text": [
      "root\n",
      " |-- EJERCICIO FISCAL: integer (nullable = true)\n",
      " |-- ENTIDAD FEDERATIVA: string (nullable = true)\n",
      " |-- NOMBRE OFICINA: string (nullable = true)\n",
      " |-- MES DE CORTE: string (nullable = true)\n",
      " |-- ORIGEN: string (nullable = true)\n",
      " |-- NOMBRE COMUN: string (nullable = true)\n",
      " |-- PESO DESEMBARCADO KILOGRAMOS: string (nullable = true)\n",
      " |-- PESO VIVO KILOGRAMOS: string (nullable = true)\n",
      " |-- VALOR PESOS: string (nullable = true)\n",
      " |-- NOMBRE PRINCIPAL: string (nullable = true)\n",
      " |-- CLAVE DE ENTIDAD: integer (nullable = true)\n",
      " |-- CLAVE DE OFICINA: integer (nullable = true)\n",
      "\n",
      "<class 'NoneType'>\n"
     ]
    }
   ],
   "source": [
    "type(df_c.printSchema())"
   ]
  },
  {
   "cell_type": "code",
   "execution_count": 54,
   "metadata": {},
   "outputs": [
    {
     "data": {
      "text/plain": [
       "DataFrame[EJERCICIO FISCAL: int, ENTIDAD FEDERATIVA: string, NOMBRE OFICINA: string, MES DE CORTE: string, ORIGEN: string, NOMBRE COMUN: string, PESO DESEMBARCADO KILOGRAMOS: string, PESO VIVO KILOGRAMOS: string, VALOR PESOS: string, NOMBRE PRINCIPAL: string, CLAVE DE ENTIDAD: int, CLAVE DE OFICINA: int]"
      ]
     },
     "execution_count": 54,
     "metadata": {},
     "output_type": "execute_result"
    }
   ],
   "source": [
    "df_c.dropna()"
   ]
  },
  {
   "cell_type": "code",
   "execution_count": 55,
   "metadata": {},
   "outputs": [
    {
     "name": "stderr",
     "output_type": "stream",
     "text": [
      "                                                                                \r"
     ]
    },
    {
     "data": {
      "text/plain": [
       "63236"
      ]
     },
     "execution_count": 55,
     "metadata": {},
     "output_type": "execute_result"
    }
   ],
   "source": [
    "df_c.count()"
   ]
  },
  {
   "cell_type": "code",
   "execution_count": 13,
   "metadata": {},
   "outputs": [
    {
     "name": "stderr",
     "output_type": "stream",
     "text": [
      "24/05/01 12:36:03 WARN SparkStringUtils: Truncated the string representation of a plan since it was too large. This behavior can be adjusted by setting 'spark.sql.debug.maxToStringFields'.\n",
      "[Stage 11:>                                                         (0 + 1) / 1]\r"
     ]
    },
    {
     "name": "stdout",
     "output_type": "stream",
     "text": [
      "+-------+--------------------+------------------+--------------+------------+-----------+------------+----------------------------+--------------------+-----------------+----------------+------------------+------------------+\n",
      "|summary|    EJERCICIO FISCAL|ENTIDAD FEDERATIVA|NOMBRE OFICINA|MES DE CORTE|     ORIGEN|NOMBRE COMUN|PESO DESEMBARCADO KILOGRAMOS|PESO VIVO KILOGRAMOS|      VALOR PESOS|NOMBRE PRINCIPAL|  CLAVE DE ENTIDAD|  CLAVE DE OFICINA|\n",
      "+-------+--------------------+------------------+--------------+------------+-----------+------------+----------------------------+--------------------+-----------------+----------------+------------------+------------------+\n",
      "|  count|               63236|             63236|         63236|       63236|      63236|       63236|                       63236|               63236|            63236|           63236|             63236|             63236|\n",
      "|   mean|              2020.0|              NULL|          NULL|        NULL|       NULL|        NULL|          302.34543889296305|  307.37846485357016|476.4068550497122|            NULL|17.805727750015812|1785.8420836232526|\n",
      "| stddev|1.006647691400854...|              NULL|          NULL|        NULL|       NULL|        NULL|          270.81621624363447|   271.9943221557184|290.4068594755689|            NULL|10.767052148191343|1077.0152332497275|\n",
      "|    min|                2020|    AGUASCALIENTES|    ACAPETAHUA|       ABRIL|ACUACULTURA|     ABADEJO|                           0|                   0|                0|          ABULON|                 1|               101|\n",
      "|    max|                2020|         ZACATECAS|     ZITACUARO|  SEPTIEMBRE|    CAPTURA|       ZORRO|                         999|                 999|          999,392|          TRUCHA|                32|              3201|\n",
      "+-------+--------------------+------------------+--------------+------------+-----------+------------+----------------------------+--------------------+-----------------+----------------+------------------+------------------+\n",
      "\n"
     ]
    },
    {
     "name": "stderr",
     "output_type": "stream",
     "text": [
      "                                                                                \r"
     ]
    }
   ],
   "source": [
    "df_c.describe().show()"
   ]
  },
  {
   "cell_type": "code",
   "execution_count": 56,
   "metadata": {},
   "outputs": [
    {
     "name": "stderr",
     "output_type": "stream",
     "text": [
      "[Stage 47:=============================>                            (1 + 1) / 2]\r"
     ]
    },
    {
     "name": "stdout",
     "output_type": "stream",
     "text": [
      "+-------+----------------------------+--------------------+\n",
      "|summary|PESO DESEMBARCADO KILOGRAMOS|PESO VIVO KILOGRAMOS|\n",
      "+-------+----------------------------+--------------------+\n",
      "|  count|                       63236|               63236|\n",
      "|   mean|          302.34543889296305|  307.37846485357016|\n",
      "| stddev|          270.81621624363447|   271.9943221557184|\n",
      "|    min|                           0|                   0|\n",
      "|    max|                         999|                 999|\n",
      "+-------+----------------------------+--------------------+\n",
      "\n"
     ]
    },
    {
     "name": "stderr",
     "output_type": "stream",
     "text": [
      "                                                                                \r"
     ]
    }
   ],
   "source": [
    "df_c.describe(['PESO DESEMBARCADO KILOGRAMOS', 'PESO VIVO KILOGRAMOS']).show()"
   ]
  },
  {
   "cell_type": "code",
   "execution_count": 62,
   "metadata": {},
   "outputs": [
    {
     "ename": "AttributeError",
     "evalue": "'DataFrame' object has no attribute 'group_by'",
     "output_type": "error",
     "traceback": [
      "\u001b[0;31m---------------------------------------------------------------------------\u001b[0m",
      "\u001b[0;31mAttributeError\u001b[0m                            Traceback (most recent call last)",
      "Cell \u001b[0;32mIn[62], line 2\u001b[0m\n\u001b[1;32m      1\u001b[0m cols \u001b[38;5;241m=\u001b[39m [ \u001b[38;5;124m'\u001b[39m\u001b[38;5;124mENTIDAD FEDERATIVA\u001b[39m\u001b[38;5;124m'\u001b[39m, \u001b[38;5;124m'\u001b[39m\u001b[38;5;124mVALOR PESOS\u001b[39m\u001b[38;5;124m'\u001b[39m]\n\u001b[0;32m----> 2\u001b[0m df_cols \u001b[38;5;241m=\u001b[39m\u001b[43mdf_c\u001b[49m\u001b[38;5;241;43m.\u001b[39;49m\u001b[43mgroup_by\u001b[49m(df_c\u001b[38;5;241m.\u001b[39mselect(\u001b[38;5;241m*\u001b[39mcols))\n\u001b[1;32m      3\u001b[0m df_cols\u001b[38;5;241m.\u001b[39mshow()\n",
      "File \u001b[0;32m/opt/miniconda3/envs/myenv/lib/python3.11/site-packages/pyspark/sql/dataframe.py:3127\u001b[0m, in \u001b[0;36mDataFrame.__getattr__\u001b[0;34m(self, name)\u001b[0m\n\u001b[1;32m   3094\u001b[0m \u001b[38;5;250m\u001b[39m\u001b[38;5;124;03m\"\"\"Returns the :class:`Column` denoted by ``name``.\u001b[39;00m\n\u001b[1;32m   3095\u001b[0m \n\u001b[1;32m   3096\u001b[0m \u001b[38;5;124;03m.. versionadded:: 1.3.0\u001b[39;00m\n\u001b[0;32m   (...)\u001b[0m\n\u001b[1;32m   3124\u001b[0m \u001b[38;5;124;03m+---+\u001b[39;00m\n\u001b[1;32m   3125\u001b[0m \u001b[38;5;124;03m\"\"\"\u001b[39;00m\n\u001b[1;32m   3126\u001b[0m \u001b[38;5;28;01mif\u001b[39;00m name \u001b[38;5;129;01mnot\u001b[39;00m \u001b[38;5;129;01min\u001b[39;00m \u001b[38;5;28mself\u001b[39m\u001b[38;5;241m.\u001b[39mcolumns:\n\u001b[0;32m-> 3127\u001b[0m     \u001b[38;5;28;01mraise\u001b[39;00m \u001b[38;5;167;01mAttributeError\u001b[39;00m(\n\u001b[1;32m   3128\u001b[0m         \u001b[38;5;124m\"\u001b[39m\u001b[38;5;124m'\u001b[39m\u001b[38;5;132;01m%s\u001b[39;00m\u001b[38;5;124m'\u001b[39m\u001b[38;5;124m object has no attribute \u001b[39m\u001b[38;5;124m'\u001b[39m\u001b[38;5;132;01m%s\u001b[39;00m\u001b[38;5;124m'\u001b[39m\u001b[38;5;124m\"\u001b[39m \u001b[38;5;241m%\u001b[39m (\u001b[38;5;28mself\u001b[39m\u001b[38;5;241m.\u001b[39m\u001b[38;5;18m__class__\u001b[39m\u001b[38;5;241m.\u001b[39m\u001b[38;5;18m__name__\u001b[39m, name)\n\u001b[1;32m   3129\u001b[0m     )\n\u001b[1;32m   3130\u001b[0m jc \u001b[38;5;241m=\u001b[39m \u001b[38;5;28mself\u001b[39m\u001b[38;5;241m.\u001b[39m_jdf\u001b[38;5;241m.\u001b[39mapply(name)\n\u001b[1;32m   3131\u001b[0m \u001b[38;5;28;01mreturn\u001b[39;00m Column(jc)\n",
      "\u001b[0;31mAttributeError\u001b[0m: 'DataFrame' object has no attribute 'group_by'"
     ]
    }
   ],
   "source": [
    "cols = [ 'ENTIDAD FEDERATIVA', 'VALOR PESOS']\n",
    "df_cols =df_c.group_by(df_c.select(*cols))\n",
    "df_cols.show()"
   ]
  },
  {
   "cell_type": "code",
   "execution_count": 17,
   "metadata": {},
   "outputs": [
    {
     "name": "stdout",
     "output_type": "stream",
     "text": [
      "+----------------------------+\n",
      "|PESO DESEMBARCADO KILOGRAMOS|\n",
      "+----------------------------+\n",
      "|                         501|\n",
      "|                          73|\n",
      "|                         356|\n",
      "|                       1,240|\n",
      "|                         118|\n",
      "|                           8|\n",
      "|                       2,855|\n",
      "|                       3,387|\n",
      "|                       2,282|\n",
      "|                       4,166|\n",
      "|                          34|\n",
      "|                           2|\n",
      "|                           0|\n",
      "|                         572|\n",
      "|                         172|\n",
      "|                           0|\n",
      "|                       1,586|\n",
      "|                         476|\n",
      "|                           0|\n",
      "|                       1,400|\n",
      "+----------------------------+\n",
      "only showing top 20 rows\n",
      "\n"
     ]
    }
   ],
   "source": [
    "df_c.select('PESO DESEMBARCADO KILOGRAMOS').show()"
   ]
  },
  {
   "cell_type": "code",
   "execution_count": 20,
   "metadata": {},
   "outputs": [
    {
     "name": "stderr",
     "output_type": "stream",
     "text": [
      "[Stage 15:=============================>                            (1 + 1) / 2]\r"
     ]
    },
    {
     "name": "stdout",
     "output_type": "stream",
     "text": [
      "+----------------------------+\n",
      "|PESO DESEMBARCADO KILOGRAMOS|\n",
      "+----------------------------+\n",
      "|                         501|\n",
      "|                          73|\n",
      "|                         356|\n",
      "|                       1,240|\n",
      "|                         118|\n",
      "|                           8|\n",
      "|                       2,855|\n",
      "|                       3,387|\n",
      "|                       2,282|\n",
      "|                       4,166|\n",
      "|                          34|\n",
      "|                           2|\n",
      "|                           0|\n",
      "|                         572|\n",
      "|                         172|\n",
      "|                       1,586|\n",
      "|                         476|\n",
      "|                       1,400|\n",
      "|                         420|\n",
      "|                         275|\n",
      "+----------------------------+\n",
      "only showing top 20 rows\n",
      "\n"
     ]
    },
    {
     "name": "stderr",
     "output_type": "stream",
     "text": [
      "                                                                                \r"
     ]
    }
   ],
   "source": []
  },
  {
   "cell_type": "code",
   "execution_count": 23,
   "metadata": {},
   "outputs": [
    {
     "name": "stderr",
     "output_type": "stream",
     "text": [
      "                                                                                \r"
     ]
    },
    {
     "name": "stdout",
     "output_type": "stream",
     "text": [
      "+----------------+-------------------+---------------+------------+-------+---------------+----------------------------+--------------------+-----------+----------------+----------------+----------------+\n",
      "|EJERCICIO FISCAL| ENTIDAD FEDERATIVA| NOMBRE OFICINA|MES DE CORTE| ORIGEN|   NOMBRE COMUN|PESO DESEMBARCADO KILOGRAMOS|PESO VIVO KILOGRAMOS|VALOR PESOS|NOMBRE PRINCIPAL|CLAVE DE ENTIDAD|CLAVE DE OFICINA|\n",
      "+----------------+-------------------+---------------+------------+-------+---------------+----------------------------+--------------------+-----------+----------------+----------------+----------------+\n",
      "|            2020|    BAJA CALIFORNIA|     EL ROSARIO|       JUNIO|CAPTURA|ABULON AMARILLO|                         501|                 501|     59,327|          ABULON|               2|             202|\n",
      "|            2020|             SONORA|        GUAYMAS|     FEBRERO|CAPTURA|          CHANO|                         501|                 501|      6,314|       BERRUGATA|              26|            2604|\n",
      "|            2020|         TAMAULIPAS|         ALDAMA|     OCTUBRE|CAPTURA|         BONITO|                         501|                 501|     13,475|          BONITO|              28|            2801|\n",
      "|            2020|         TAMAULIPAS|CIUDAD VICTORIA|       JUNIO|CAPTURA|       MEDREGAL|                         501|                 501|     13,103|      ESMEDREGAL|              28|            2803|\n",
      "|            2020|    BAJA CALIFORNIA|     SAN FELIPE|       MARZO|CAPTURA|    LENGUADO SE|                         501|                 627|      5,393|        LENGUADO|               2|             207|\n",
      "|            2020|            YUCATAN|       PROGRESO|      AGOSTO|CAPTURA|     MOJARRA SE|                         501|                 551|     28,494|         MOJARRA|              31|            3105|\n",
      "|            2020|         TAMAULIPAS|         ALDAMA|       JUNIO|CAPTURA|     TILAPIA SE|                         501|                 501|     14,852|         MOJARRA|              28|            2801|\n",
      "|            2020|         TAMAULIPAS|        TAMPICO|   NOVIEMBRE|CAPTURA|        GUABINA|                         501|                 501|     15,621|           OTRAS|              28|            2808|\n",
      "|            2020|BAJA CALIFORNIA SUR| BAHIA ASUNCION|   NOVIEMBRE|CAPTURA|    PEZ CORNETA|                         501|                 501|      9,299|         TIBURON|               3|             313|\n",
      "+----------------+-------------------+---------------+------------+-------+---------------+----------------------------+--------------------+-----------+----------------+----------------+----------------+\n",
      "\n"
     ]
    }
   ],
   "source": [
    "df_filter = df_c.filter(df_c['PESO DESEMBARCADO KILOGRAMOS'] == 501)\n",
    "df_filter.show()"
   ]
  },
  {
   "cell_type": "code",
   "execution_count": 32,
   "metadata": {},
   "outputs": [
    {
     "data": {
      "text/plain": [
       "Row(EJERCICIO FISCAL=2020, ENTIDAD FEDERATIVA='GUERRERO', NOMBRE OFICINA='ACAPULCO', MES DE CORTE='JULIO', ORIGEN='CAPTURA', NOMBRE COMUN='CARACOL SE', PESO DESEMBARCADO KILOGRAMOS='389', PESO VIVO KILOGRAMOS='389', VALOR PESOS='28,546', NOMBRE PRINCIPAL='CARACOL', CLAVE DE ENTIDAD=12, CLAVE DE OFICINA=1201)"
      ]
     },
     "execution_count": 32,
     "metadata": {},
     "output_type": "execute_result"
    }
   ],
   "source": [
    "df_c.take(10000)[-1]"
   ]
  },
  {
   "cell_type": "code",
   "execution_count": 31,
   "metadata": {},
   "outputs": [
    {
     "data": {
      "text/plain": [
       "list"
      ]
     },
     "execution_count": 31,
     "metadata": {},
     "output_type": "execute_result"
    }
   ],
   "source": [
    "type(df_c.take(10))"
   ]
  },
  {
   "cell_type": "code",
   "execution_count": 33,
   "metadata": {},
   "outputs": [],
   "source": [
    "cambio = [2020, 'BAJA CALIFORNIA', 'SAN FELIPE', 'JUNIO', 'CAPTURA', 'ATUN', 500, 500, 100000, 'MOJARRA', 2, 202]"
   ]
  },
  {
   "cell_type": "code",
   "execution_count": 34,
   "metadata": {},
   "outputs": [],
   "source": [
    "df_c.take(10)[-1] = cambio"
   ]
  },
  {
   "cell_type": "code",
   "execution_count": 36,
   "metadata": {},
   "outputs": [
    {
     "name": "stdout",
     "output_type": "stream",
     "text": [
      "+----------------+-------------------+--------------------+------------+-----------+---------------+----------------------------+--------------------+-----------+----------------+----------------+----------------+\n",
      "|EJERCICIO FISCAL| ENTIDAD FEDERATIVA|      NOMBRE OFICINA|MES DE CORTE|     ORIGEN|   NOMBRE COMUN|PESO DESEMBARCADO KILOGRAMOS|PESO VIVO KILOGRAMOS|VALOR PESOS|NOMBRE PRINCIPAL|CLAVE DE ENTIDAD|CLAVE DE OFICINA|\n",
      "+----------------+-------------------+--------------------+------------+-----------+---------------+----------------------------+--------------------+-----------+----------------+----------------+----------------+\n",
      "|            2020|    BAJA CALIFORNIA|          EL ROSARIO|       JUNIO|    CAPTURA|ABULON AMARILLO|                         501|                 501|     59,327|          ABULON|               2|             202|\n",
      "|            2020|    BAJA CALIFORNIA|          EL ROSARIO|   DICIEMBRE|    CAPTURA|ABULON AMARILLO|                          73|                 173|     25,744|          ABULON|               2|             202|\n",
      "|            2020|    BAJA CALIFORNIA|          EL ROSARIO|   DICIEMBRE|    CAPTURA|ABULON AMARILLO|                         356|                 356|     22,502|          ABULON|               2|             202|\n",
      "|            2020|    BAJA CALIFORNIA|            ENSENADA|     OCTUBRE|ACUACULTURA|ABULON AMARILLO|                       1,240|               1,240|    347,663|          ABULON|               2|             203|\n",
      "|            2020|    BAJA CALIFORNIA|            ENSENADA|   NOVIEMBRE|    CAPTURA|ABULON AMARILLO|                         118|                 280|     47,359|          ABULON|               2|             203|\n",
      "|            2020|    BAJA CALIFORNIA|            ENSENADA|   NOVIEMBRE|    CAPTURA|ABULON AMARILLO|                           8|                   8|      3,184|          ABULON|               2|             203|\n",
      "|            2020|    BAJA CALIFORNIA|         ISLA CEDROS|       MARZO|    CAPTURA|ABULON AMARILLO|                       2,855|               2,855|  1,520,625|          ABULON|               2|             204|\n",
      "|            2020|    BAJA CALIFORNIA|         ISLA CEDROS|       ABRIL|    CAPTURA|ABULON AMARILLO|                       3,387|               3,387|  1,803,725|          ABULON|               2|             204|\n",
      "|            2020|    BAJA CALIFORNIA|         ISLA CEDROS|        MAYO|    CAPTURA|ABULON AMARILLO|                       2,282|               2,282|  1,215,430|          ABULON|               2|             204|\n",
      "|            2020|    BAJA CALIFORNIA|         ISLA CEDROS|       JUNIO|    CAPTURA|ABULON AMARILLO|                       4,166|               4,166|  2,218,824|          ABULON|               2|             204|\n",
      "|            2020|    BAJA CALIFORNIA|VILLA DE JESUS MARIA|       MARZO|    CAPTURA|ABULON AMARILLO|                          34|                  80|      3,661|          ABULON|               2|             210|\n",
      "|            2020|    BAJA CALIFORNIA|VILLA DE JESUS MARIA|       MARZO|    CAPTURA|ABULON AMARILLO|                           2|                   2|        246|          ABULON|               2|             210|\n",
      "|            2020|BAJA CALIFORNIA SUR|      BAHIA TORTUGAS|       ABRIL|    CAPTURA|ABULON AMARILLO|                           0|                   0|     20,494|          ABULON|               3|             301|\n",
      "|            2020|BAJA CALIFORNIA SUR|      BAHIA TORTUGAS|       ABRIL|    CAPTURA|ABULON AMARILLO|                         572|               1,361|    544,274|          ABULON|               3|             301|\n",
      "|            2020|BAJA CALIFORNIA SUR|      BAHIA TORTUGAS|       ABRIL|    CAPTURA|ABULON AMARILLO|                         172|                 172|    102,560|          ABULON|               3|             301|\n",
      "|            2020|BAJA CALIFORNIA SUR|      BAHIA TORTUGAS|       JUNIO|    CAPTURA|ABULON AMARILLO|                           0|                   0|     53,292|          ABULON|               3|             301|\n",
      "|            2020|BAJA CALIFORNIA SUR|      BAHIA TORTUGAS|       JUNIO|    CAPTURA|ABULON AMARILLO|                       1,586|               3,774|  1,509,761|          ABULON|               3|             301|\n",
      "|            2020|BAJA CALIFORNIA SUR|      BAHIA TORTUGAS|       JUNIO|    CAPTURA|ABULON AMARILLO|                         476|                 476|    284,492|          ABULON|               3|             301|\n",
      "|            2020|BAJA CALIFORNIA SUR|      BAHIA TORTUGAS|       JULIO|    CAPTURA|ABULON AMARILLO|                           0|                   0|     46,545|          ABULON|               3|             301|\n",
      "|            2020|BAJA CALIFORNIA SUR|      BAHIA TORTUGAS|       JULIO|    CAPTURA|ABULON AMARILLO|                       1,400|               3,332|  1,332,672|          ABULON|               3|             301|\n",
      "+----------------+-------------------+--------------------+------------+-----------+---------------+----------------------------+--------------------+-----------+----------------+----------------+----------------+\n",
      "only showing top 20 rows\n",
      "\n"
     ]
    }
   ],
   "source": [
    "df_c.show()"
   ]
  },
  {
   "cell_type": "code",
   "execution_count": 44,
   "metadata": {},
   "outputs": [
    {
     "data": {
      "text/plain": [
       "83171"
      ]
     },
     "execution_count": 44,
     "metadata": {},
     "output_type": "execute_result"
    }
   ],
   "source": [
    "df_c.count()"
   ]
  },
  {
   "cell_type": "code",
   "execution_count": 45,
   "metadata": {},
   "outputs": [],
   "source": [
    "df_c = df_c.dropna()"
   ]
  },
  {
   "cell_type": "code",
   "execution_count": 46,
   "metadata": {},
   "outputs": [
    {
     "name": "stderr",
     "output_type": "stream",
     "text": [
      "                                                                                \r"
     ]
    },
    {
     "data": {
      "text/plain": [
       "63236"
      ]
     },
     "execution_count": 46,
     "metadata": {},
     "output_type": "execute_result"
    }
   ],
   "source": [
    "df_c.count()"
   ]
  },
  {
   "cell_type": "code",
   "execution_count": 48,
   "metadata": {},
   "outputs": [
    {
     "name": "stderr",
     "output_type": "stream",
     "text": [
      "                                                                                \r"
     ]
    },
    {
     "data": {
      "text/plain": [
       "[Row(EJERCICIO FISCAL=2020, ENTIDAD FEDERATIVA='VERACRUZ', NOMBRE OFICINA='VERACRUZ', MES DE CORTE='MARZO', ORIGEN='ACUACULTURA', NOMBRE COMUN='TRUCHA SE', PESO DESEMBARCADO KILOGRAMOS='248', PESO VIVO KILOGRAMOS='248', VALOR PESOS='17,340', NOMBRE PRINCIPAL='TRUCHA', CLAVE DE ENTIDAD=30, CLAVE DE OFICINA=3011)]"
      ]
     },
     "execution_count": 48,
     "metadata": {},
     "output_type": "execute_result"
    }
   ],
   "source": [
    "df_c.tail(1)"
   ]
  },
  {
   "cell_type": "code",
   "execution_count": null,
   "metadata": {},
   "outputs": [],
   "source": []
  }
 ],
 "metadata": {
  "kernelspec": {
   "display_name": "myenv",
   "language": "python",
   "name": "python3"
  },
  "language_info": {
   "codemirror_mode": {
    "name": "ipython",
    "version": 3
   },
   "file_extension": ".py",
   "mimetype": "text/x-python",
   "name": "python",
   "nbconvert_exporter": "python",
   "pygments_lexer": "ipython3",
   "version": "3.11.8"
  }
 },
 "nbformat": 4,
 "nbformat_minor": 2
}
