{
 "cells": [
  {
   "cell_type": "code",
   "execution_count": 1,
   "metadata": {},
   "outputs": [],
   "source": [
    "import findspark\n",
    "findspark.init()"
   ]
  },
  {
   "cell_type": "code",
   "execution_count": 2,
   "metadata": {},
   "outputs": [],
   "source": [
    "from pyspark.sql import SparkSession"
   ]
  },
  {
   "cell_type": "markdown",
   "metadata": {},
   "source": [
    "# Como crear una sesion de spark para computo distribuido "
   ]
  },
  {
   "cell_type": "code",
   "execution_count": 3,
   "metadata": {},
   "outputs": [
    {
     "name": "stderr",
     "output_type": "stream",
     "text": [
      "24/05/01 14:02:09 WARN Utils: Your hostname, andirious-AORUS-15P-YD resolves to a loopback address: 127.0.1.1; using 192.168.0.33 instead (on interface enp46s0)\n",
      "24/05/01 14:02:09 WARN Utils: Set SPARK_LOCAL_IP if you need to bind to another address\n",
      "Setting default log level to \"WARN\".\n",
      "To adjust logging level use sc.setLogLevel(newLevel). For SparkR, use setLogLevel(newLevel).\n",
      "24/05/01 14:02:09 WARN NativeCodeLoader: Unable to load native-hadoop library for your platform... using builtin-java classes where applicable\n",
      "24/05/01 14:02:10 WARN Utils: Service 'SparkUI' could not bind on port 4040. Attempting port 4041.\n"
     ]
    }
   ],
   "source": [
    "spark = SparkSession.builder.appName('firstSession')\\\n",
    "    .config('spark.master', 'local[4]')\\\n",
    "    .config('spark.executor.memory', '1g')\\\n",
    "    .config(\"spark.sql.shuffle.partitions\", 1)\\\n",
    "    .config('spark.driver.memory','1g')\\\n",
    "    .getOrCreate()"
   ]
  },
  {
   "cell_type": "code",
   "execution_count": 4,
   "metadata": {},
   "outputs": [
    {
     "data": {
      "text/html": [
       "\n",
       "            <div>\n",
       "                <p><b>SparkSession - in-memory</b></p>\n",
       "                \n",
       "        <div>\n",
       "            <p><b>SparkContext</b></p>\n",
       "\n",
       "            <p><a href=\"http://192.168.0.33:4041\">Spark UI</a></p>\n",
       "\n",
       "            <dl>\n",
       "              <dt>Version</dt>\n",
       "                <dd><code>v3.5.1</code></dd>\n",
       "              <dt>Master</dt>\n",
       "                <dd><code>local[4]</code></dd>\n",
       "              <dt>AppName</dt>\n",
       "                <dd><code>firstSession</code></dd>\n",
       "            </dl>\n",
       "        </div>\n",
       "        \n",
       "            </div>\n",
       "        "
      ],
      "text/plain": [
       "<pyspark.sql.session.SparkSession at 0x7a645370c550>"
      ]
     },
     "execution_count": 4,
     "metadata": {},
     "output_type": "execute_result"
    }
   ],
   "source": [
    "spark\n"
   ]
  },
  {
   "cell_type": "markdown",
   "metadata": {},
   "source": [
    "# Cómo generar un Dataframe\n",
    "## A partir de una lista "
   ]
  },
  {
   "cell_type": "code",
   "execution_count": 5,
   "metadata": {},
   "outputs": [
    {
     "data": {
      "text/plain": [
       "[(1, 'Aranza', 21), (2, 'Andres', 80), (3, 'Jaime', 23), (4, 'Uumami', 20)]"
      ]
     },
     "execution_count": 5,
     "metadata": {},
     "output_type": "execute_result"
    }
   ],
   "source": [
    "columnas = [\"id\", \"nombre\", \"edad\"]\n",
    "lista = [(1, \"Aranza\", 21), (2, \"Andres\", 80), (3, \"Jaime\", 23), (4, \"Uumami\", 20)]\n",
    "lista"
   ]
  },
  {
   "cell_type": "code",
   "execution_count": 6,
   "metadata": {},
   "outputs": [
    {
     "name": "stderr",
     "output_type": "stream",
     "text": [
      "                                                                                \r"
     ]
    },
    {
     "name": "stdout",
     "output_type": "stream",
     "text": [
      "+---+------+----+\n",
      "| id|nombre|edad|\n",
      "+---+------+----+\n",
      "|  1|Aranza|  21|\n",
      "|  2|Andres|  80|\n",
      "|  3| Jaime|  23|\n",
      "|  4|Uumami|  20|\n",
      "+---+------+----+\n",
      "\n"
     ]
    }
   ],
   "source": [
    "df_l = spark.createDataFrame(lista, schema=columnas)\n",
    "df_l.show()"
   ]
  },
  {
   "cell_type": "markdown",
   "metadata": {},
   "source": [
    "## A partir de un parquet"
   ]
  },
  {
   "cell_type": "code",
   "execution_count": 7,
   "metadata": {},
   "outputs": [
    {
     "name": "stdout",
     "output_type": "stream",
     "text": [
      "+----------------+-------+----------+----------+------+-------+---------+--------------------+--------------------+--------------------+--------------------+--------------+--------------+--------------+\n",
      "|Series_reference| Period|Data_value|Suppressed|STATUS|  UNITS|Magnitude|             Subject|               Group|      Series_title_1|      Series_title_2|Series_title_3|Series_title_4|Series_title_5|\n",
      "+----------------+-------+----------+----------+------+-------+---------+--------------------+--------------------+--------------------+--------------------+--------------+--------------+--------------+\n",
      "|   BDCQ.SF1AA2CA|2016.06|  1116.386|      NULL|     F|Dollars|        6|Business Data Col...|Industry by finan...|Sales (operating ...|Forestry and Logging|Current prices|    Unadjusted|          NULL|\n",
      "|   BDCQ.SF1AA2CA|2016.09|  1070.874|      NULL|     F|Dollars|        6|Business Data Col...|Industry by finan...|Sales (operating ...|Forestry and Logging|Current prices|    Unadjusted|          NULL|\n",
      "|   BDCQ.SF1AA2CA|2016.12|  1054.408|      NULL|     F|Dollars|        6|Business Data Col...|Industry by finan...|Sales (operating ...|Forestry and Logging|Current prices|    Unadjusted|          NULL|\n",
      "|   BDCQ.SF1AA2CA|2017.03|  1010.665|      NULL|     F|Dollars|        6|Business Data Col...|Industry by finan...|Sales (operating ...|Forestry and Logging|Current prices|    Unadjusted|          NULL|\n",
      "|   BDCQ.SF1AA2CA|2017.06|    1233.7|      NULL|     F|Dollars|        6|Business Data Col...|Industry by finan...|Sales (operating ...|Forestry and Logging|Current prices|    Unadjusted|          NULL|\n",
      "|   BDCQ.SF1AA2CA|2017.09|  1282.436|      NULL|     F|Dollars|        6|Business Data Col...|Industry by finan...|Sales (operating ...|Forestry and Logging|Current prices|    Unadjusted|          NULL|\n",
      "|   BDCQ.SF1AA2CA|2017.12|   1290.82|      NULL|     F|Dollars|        6|Business Data Col...|Industry by finan...|Sales (operating ...|Forestry and Logging|Current prices|    Unadjusted|          NULL|\n",
      "|   BDCQ.SF1AA2CA|2018.03|  1412.007|      NULL|     F|Dollars|        6|Business Data Col...|Industry by finan...|Sales (operating ...|Forestry and Logging|Current prices|    Unadjusted|          NULL|\n",
      "|   BDCQ.SF1AA2CA|2018.06|  1488.055|      NULL|     F|Dollars|        6|Business Data Col...|Industry by finan...|Sales (operating ...|Forestry and Logging|Current prices|    Unadjusted|          NULL|\n",
      "|   BDCQ.SF1AA2CA|2018.09|  1497.678|      NULL|     F|Dollars|        6|Business Data Col...|Industry by finan...|Sales (operating ...|Forestry and Logging|Current prices|    Unadjusted|          NULL|\n",
      "|   BDCQ.SF1AA2CA|2018.12|  1570.507|      NULL|     F|Dollars|        6|Business Data Col...|Industry by finan...|Sales (operating ...|Forestry and Logging|Current prices|    Unadjusted|          NULL|\n",
      "|   BDCQ.SF1AA2CA|2019.03|  1393.749|      NULL|     F|Dollars|        6|Business Data Col...|Industry by finan...|Sales (operating ...|Forestry and Logging|Current prices|    Unadjusted|          NULL|\n",
      "|   BDCQ.SF1AA2CA|2019.06|  1517.143|      NULL|     F|Dollars|        6|Business Data Col...|Industry by finan...|Sales (operating ...|Forestry and Logging|Current prices|    Unadjusted|          NULL|\n",
      "|   BDCQ.SF1AA2CA|2019.09|  1381.514|      NULL|     F|Dollars|        6|Business Data Col...|Industry by finan...|Sales (operating ...|Forestry and Logging|Current prices|    Unadjusted|          NULL|\n",
      "|   BDCQ.SF1AA2CA|2019.12|  1370.985|      NULL|     F|Dollars|        6|Business Data Col...|Industry by finan...|Sales (operating ...|Forestry and Logging|Current prices|    Unadjusted|          NULL|\n",
      "|   BDCQ.SF1AA2CA|2020.03|  1073.017|      NULL|     F|Dollars|        6|Business Data Col...|Industry by finan...|Sales (operating ...|Forestry and Logging|Current prices|    Unadjusted|          NULL|\n",
      "|   BDCQ.SF1AA2CA|2020.06|  1131.445|      NULL|     F|Dollars|        6|Business Data Col...|Industry by finan...|Sales (operating ...|Forestry and Logging|Current prices|    Unadjusted|          NULL|\n",
      "|   BDCQ.SF1AA2CA|2020.09|  1440.101|      NULL|     F|Dollars|        6|Business Data Col...|Industry by finan...|Sales (operating ...|Forestry and Logging|Current prices|    Unadjusted|          NULL|\n",
      "|   BDCQ.SF1AA2CA|2020.12|  1489.979|      NULL|     F|Dollars|        6|Business Data Col...|Industry by finan...|Sales (operating ...|Forestry and Logging|Current prices|    Unadjusted|          NULL|\n",
      "|   BDCQ.SF1AA3CA|2016.06|  1189.735|      NULL|     F|Dollars|        6|Business Data Col...|Industry by finan...|Sales (operating ...|Fishing, Aquacult...|Current prices|    Unadjusted|          NULL|\n",
      "+----------------+-------+----------+----------+------+-------+---------+--------------------+--------------------+--------------------+--------------------+--------------+--------------+--------------+\n",
      "only showing top 20 rows\n",
      "\n"
     ]
    }
   ],
   "source": [
    "df_p = spark.read.parquet('ejemplo.parquet')\n",
    "df_p.show()"
   ]
  },
  {
   "cell_type": "markdown",
   "metadata": {},
   "source": [
    "### Podemos convertir a un DataFrame de pandas"
   ]
  },
  {
   "cell_type": "code",
   "execution_count": 8,
   "metadata": {},
   "outputs": [],
   "source": [
    "df_pandas = df_p.toPandas()"
   ]
  },
  {
   "cell_type": "code",
   "execution_count": 9,
   "metadata": {},
   "outputs": [
    {
     "data": {
      "text/html": [
       "<div>\n",
       "<style scoped>\n",
       "    .dataframe tbody tr th:only-of-type {\n",
       "        vertical-align: middle;\n",
       "    }\n",
       "\n",
       "    .dataframe tbody tr th {\n",
       "        vertical-align: top;\n",
       "    }\n",
       "\n",
       "    .dataframe thead th {\n",
       "        text-align: right;\n",
       "    }\n",
       "</style>\n",
       "<table border=\"1\" class=\"dataframe\">\n",
       "  <thead>\n",
       "    <tr style=\"text-align: right;\">\n",
       "      <th></th>\n",
       "      <th>Series_reference</th>\n",
       "      <th>Period</th>\n",
       "      <th>Data_value</th>\n",
       "      <th>Suppressed</th>\n",
       "      <th>STATUS</th>\n",
       "      <th>UNITS</th>\n",
       "      <th>Magnitude</th>\n",
       "      <th>Subject</th>\n",
       "      <th>Group</th>\n",
       "      <th>Series_title_1</th>\n",
       "      <th>Series_title_2</th>\n",
       "      <th>Series_title_3</th>\n",
       "      <th>Series_title_4</th>\n",
       "      <th>Series_title_5</th>\n",
       "    </tr>\n",
       "  </thead>\n",
       "  <tbody>\n",
       "    <tr>\n",
       "      <th>0</th>\n",
       "      <td>BDCQ.SF1AA2CA</td>\n",
       "      <td>2016.06</td>\n",
       "      <td>1116.386</td>\n",
       "      <td>None</td>\n",
       "      <td>F</td>\n",
       "      <td>Dollars</td>\n",
       "      <td>6</td>\n",
       "      <td>Business Data Collection - BDC</td>\n",
       "      <td>Industry by financial variable</td>\n",
       "      <td>Sales (operating income)</td>\n",
       "      <td>Forestry and Logging</td>\n",
       "      <td>Current prices</td>\n",
       "      <td>Unadjusted</td>\n",
       "      <td>None</td>\n",
       "    </tr>\n",
       "    <tr>\n",
       "      <th>1</th>\n",
       "      <td>BDCQ.SF1AA2CA</td>\n",
       "      <td>2016.09</td>\n",
       "      <td>1070.874</td>\n",
       "      <td>None</td>\n",
       "      <td>F</td>\n",
       "      <td>Dollars</td>\n",
       "      <td>6</td>\n",
       "      <td>Business Data Collection - BDC</td>\n",
       "      <td>Industry by financial variable</td>\n",
       "      <td>Sales (operating income)</td>\n",
       "      <td>Forestry and Logging</td>\n",
       "      <td>Current prices</td>\n",
       "      <td>Unadjusted</td>\n",
       "      <td>None</td>\n",
       "    </tr>\n",
       "    <tr>\n",
       "      <th>2</th>\n",
       "      <td>BDCQ.SF1AA2CA</td>\n",
       "      <td>2016.12</td>\n",
       "      <td>1054.408</td>\n",
       "      <td>None</td>\n",
       "      <td>F</td>\n",
       "      <td>Dollars</td>\n",
       "      <td>6</td>\n",
       "      <td>Business Data Collection - BDC</td>\n",
       "      <td>Industry by financial variable</td>\n",
       "      <td>Sales (operating income)</td>\n",
       "      <td>Forestry and Logging</td>\n",
       "      <td>Current prices</td>\n",
       "      <td>Unadjusted</td>\n",
       "      <td>None</td>\n",
       "    </tr>\n",
       "    <tr>\n",
       "      <th>3</th>\n",
       "      <td>BDCQ.SF1AA2CA</td>\n",
       "      <td>2017.03</td>\n",
       "      <td>1010.665</td>\n",
       "      <td>None</td>\n",
       "      <td>F</td>\n",
       "      <td>Dollars</td>\n",
       "      <td>6</td>\n",
       "      <td>Business Data Collection - BDC</td>\n",
       "      <td>Industry by financial variable</td>\n",
       "      <td>Sales (operating income)</td>\n",
       "      <td>Forestry and Logging</td>\n",
       "      <td>Current prices</td>\n",
       "      <td>Unadjusted</td>\n",
       "      <td>None</td>\n",
       "    </tr>\n",
       "    <tr>\n",
       "      <th>4</th>\n",
       "      <td>BDCQ.SF1AA2CA</td>\n",
       "      <td>2017.06</td>\n",
       "      <td>1233.7</td>\n",
       "      <td>None</td>\n",
       "      <td>F</td>\n",
       "      <td>Dollars</td>\n",
       "      <td>6</td>\n",
       "      <td>Business Data Collection - BDC</td>\n",
       "      <td>Industry by financial variable</td>\n",
       "      <td>Sales (operating income)</td>\n",
       "      <td>Forestry and Logging</td>\n",
       "      <td>Current prices</td>\n",
       "      <td>Unadjusted</td>\n",
       "      <td>None</td>\n",
       "    </tr>\n",
       "  </tbody>\n",
       "</table>\n",
       "</div>"
      ],
      "text/plain": [
       "  Series_reference   Period Data_value Suppressed STATUS    UNITS Magnitude  \\\n",
       "0    BDCQ.SF1AA2CA  2016.06   1116.386       None      F  Dollars         6   \n",
       "1    BDCQ.SF1AA2CA  2016.09   1070.874       None      F  Dollars         6   \n",
       "2    BDCQ.SF1AA2CA  2016.12   1054.408       None      F  Dollars         6   \n",
       "3    BDCQ.SF1AA2CA  2017.03   1010.665       None      F  Dollars         6   \n",
       "4    BDCQ.SF1AA2CA  2017.06     1233.7       None      F  Dollars         6   \n",
       "\n",
       "                          Subject                           Group  \\\n",
       "0  Business Data Collection - BDC  Industry by financial variable   \n",
       "1  Business Data Collection - BDC  Industry by financial variable   \n",
       "2  Business Data Collection - BDC  Industry by financial variable   \n",
       "3  Business Data Collection - BDC  Industry by financial variable   \n",
       "4  Business Data Collection - BDC  Industry by financial variable   \n",
       "\n",
       "             Series_title_1        Series_title_2  Series_title_3  \\\n",
       "0  Sales (operating income)  Forestry and Logging  Current prices   \n",
       "1  Sales (operating income)  Forestry and Logging  Current prices   \n",
       "2  Sales (operating income)  Forestry and Logging  Current prices   \n",
       "3  Sales (operating income)  Forestry and Logging  Current prices   \n",
       "4  Sales (operating income)  Forestry and Logging  Current prices   \n",
       "\n",
       "  Series_title_4 Series_title_5  \n",
       "0     Unadjusted           None  \n",
       "1     Unadjusted           None  \n",
       "2     Unadjusted           None  \n",
       "3     Unadjusted           None  \n",
       "4     Unadjusted           None  "
      ]
     },
     "execution_count": 9,
     "metadata": {},
     "output_type": "execute_result"
    }
   ],
   "source": [
    "df_pandas.head()"
   ]
  },
  {
   "cell_type": "markdown",
   "metadata": {},
   "source": [
    "## a partir de un csv"
   ]
  },
  {
   "cell_type": "code",
   "execution_count": 10,
   "metadata": {},
   "outputs": [
    {
     "name": "stdout",
     "output_type": "stream",
     "text": [
      "+----------------+-------------------+--------------------+------------+-----------+---------------+----------------------------+--------------------+-----------+----------------+----------------+----------------+\n",
      "|EJERCICIO FISCAL| ENTIDAD FEDERATIVA|      NOMBRE OFICINA|MES DE CORTE|     ORIGEN|   NOMBRE COMUN|PESO DESEMBARCADO KILOGRAMOS|PESO VIVO KILOGRAMOS|VALOR PESOS|NOMBRE PRINCIPAL|CLAVE DE ENTIDAD|CLAVE DE OFICINA|\n",
      "+----------------+-------------------+--------------------+------------+-----------+---------------+----------------------------+--------------------+-----------+----------------+----------------+----------------+\n",
      "|            2020|    BAJA CALIFORNIA|          EL ROSARIO|       JUNIO|    CAPTURA|ABULON AMARILLO|                         501|                 501|     59,327|          ABULON|               2|             202|\n",
      "|            2020|    BAJA CALIFORNIA|          EL ROSARIO|   DICIEMBRE|    CAPTURA|ABULON AMARILLO|                          73|                 173|     25,744|          ABULON|               2|             202|\n",
      "|            2020|    BAJA CALIFORNIA|          EL ROSARIO|   DICIEMBRE|    CAPTURA|ABULON AMARILLO|                         356|                 356|     22,502|          ABULON|               2|             202|\n",
      "|            2020|    BAJA CALIFORNIA|            ENSENADA|     OCTUBRE|ACUACULTURA|ABULON AMARILLO|                       1,240|               1,240|    347,663|          ABULON|               2|             203|\n",
      "|            2020|    BAJA CALIFORNIA|            ENSENADA|   NOVIEMBRE|    CAPTURA|ABULON AMARILLO|                         118|                 280|     47,359|          ABULON|               2|             203|\n",
      "|            2020|    BAJA CALIFORNIA|            ENSENADA|   NOVIEMBRE|    CAPTURA|ABULON AMARILLO|                           8|                   8|      3,184|          ABULON|               2|             203|\n",
      "|            2020|    BAJA CALIFORNIA|         ISLA CEDROS|       MARZO|    CAPTURA|ABULON AMARILLO|                       2,855|               2,855|  1,520,625|          ABULON|               2|             204|\n",
      "|            2020|    BAJA CALIFORNIA|         ISLA CEDROS|       ABRIL|    CAPTURA|ABULON AMARILLO|                       3,387|               3,387|  1,803,725|          ABULON|               2|             204|\n",
      "|            2020|    BAJA CALIFORNIA|         ISLA CEDROS|        MAYO|    CAPTURA|ABULON AMARILLO|                       2,282|               2,282|  1,215,430|          ABULON|               2|             204|\n",
      "|            2020|    BAJA CALIFORNIA|         ISLA CEDROS|       JUNIO|    CAPTURA|ABULON AMARILLO|                       4,166|               4,166|  2,218,824|          ABULON|               2|             204|\n",
      "|            2020|    BAJA CALIFORNIA|VILLA DE JESUS MARIA|       MARZO|    CAPTURA|ABULON AMARILLO|                          34|                  80|      3,661|          ABULON|               2|             210|\n",
      "|            2020|    BAJA CALIFORNIA|VILLA DE JESUS MARIA|       MARZO|    CAPTURA|ABULON AMARILLO|                           2|                   2|        246|          ABULON|               2|             210|\n",
      "|            2020|BAJA CALIFORNIA SUR|      BAHIA TORTUGAS|       ABRIL|    CAPTURA|ABULON AMARILLO|                           0|                   0|     20,494|          ABULON|               3|             301|\n",
      "|            2020|BAJA CALIFORNIA SUR|      BAHIA TORTUGAS|       ABRIL|    CAPTURA|ABULON AMARILLO|                         572|               1,361|    544,274|          ABULON|               3|             301|\n",
      "|            2020|BAJA CALIFORNIA SUR|      BAHIA TORTUGAS|       ABRIL|    CAPTURA|ABULON AMARILLO|                         172|                 172|    102,560|          ABULON|               3|             301|\n",
      "|            2020|BAJA CALIFORNIA SUR|      BAHIA TORTUGAS|       JUNIO|    CAPTURA|ABULON AMARILLO|                           0|                   0|     53,292|          ABULON|               3|             301|\n",
      "|            2020|BAJA CALIFORNIA SUR|      BAHIA TORTUGAS|       JUNIO|    CAPTURA|ABULON AMARILLO|                       1,586|               3,774|  1,509,761|          ABULON|               3|             301|\n",
      "|            2020|BAJA CALIFORNIA SUR|      BAHIA TORTUGAS|       JUNIO|    CAPTURA|ABULON AMARILLO|                         476|                 476|    284,492|          ABULON|               3|             301|\n",
      "|            2020|BAJA CALIFORNIA SUR|      BAHIA TORTUGAS|       JULIO|    CAPTURA|ABULON AMARILLO|                           0|                   0|     46,545|          ABULON|               3|             301|\n",
      "|            2020|BAJA CALIFORNIA SUR|      BAHIA TORTUGAS|       JULIO|    CAPTURA|ABULON AMARILLO|                       1,400|               3,332|  1,332,672|          ABULON|               3|             301|\n",
      "+----------------+-------------------+--------------------+------------+-----------+---------------+----------------------------+--------------------+-----------+----------------+----------------+----------------+\n",
      "only showing top 20 rows\n",
      "\n"
     ]
    }
   ],
   "source": [
    "df_c = spark.read.csv('Produccion_Pesquera_2020.csv', header=True, inferSchema=True)\n",
    "df_c.show()"
   ]
  },
  {
   "cell_type": "code",
   "execution_count": 11,
   "metadata": {},
   "outputs": [
    {
     "name": "stdout",
     "output_type": "stream",
     "text": [
      "root\n",
      " |-- EJERCICIO FISCAL: integer (nullable = true)\n",
      " |-- ENTIDAD FEDERATIVA: string (nullable = true)\n",
      " |-- NOMBRE OFICINA: string (nullable = true)\n",
      " |-- MES DE CORTE: string (nullable = true)\n",
      " |-- ORIGEN: string (nullable = true)\n",
      " |-- NOMBRE COMUN: string (nullable = true)\n",
      " |-- PESO DESEMBARCADO KILOGRAMOS: string (nullable = true)\n",
      " |-- PESO VIVO KILOGRAMOS: string (nullable = true)\n",
      " |-- VALOR PESOS: string (nullable = true)\n",
      " |-- NOMBRE PRINCIPAL: string (nullable = true)\n",
      " |-- CLAVE DE ENTIDAD: integer (nullable = true)\n",
      " |-- CLAVE DE OFICINA: integer (nullable = true)\n",
      "\n"
     ]
    }
   ],
   "source": [
    "df_c.printSchema()"
   ]
  },
  {
   "cell_type": "code",
   "execution_count": 12,
   "metadata": {},
   "outputs": [
    {
     "name": "stdout",
     "output_type": "stream",
     "text": [
      "root\n",
      " |-- EJERCICIO FISCAL: integer (nullable = true)\n",
      " |-- ENTIDAD FEDERATIVA: string (nullable = true)\n",
      " |-- NOMBRE OFICINA: string (nullable = true)\n",
      " |-- MES DE CORTE: string (nullable = true)\n",
      " |-- ORIGEN: string (nullable = true)\n",
      " |-- NOMBRE COMUN: string (nullable = true)\n",
      " |-- PESO DESEMBARCADO KILOGRAMOS: string (nullable = true)\n",
      " |-- PESO VIVO KILOGRAMOS: string (nullable = true)\n",
      " |-- VALOR PESOS: string (nullable = true)\n",
      " |-- NOMBRE PRINCIPAL: string (nullable = true)\n",
      " |-- CLAVE DE ENTIDAD: integer (nullable = true)\n",
      " |-- CLAVE DE OFICINA: integer (nullable = true)\n",
      "\n"
     ]
    },
    {
     "data": {
      "text/plain": [
       "NoneType"
      ]
     },
     "execution_count": 12,
     "metadata": {},
     "output_type": "execute_result"
    }
   ],
   "source": [
    "type(df_c.printSchema())"
   ]
  },
  {
   "cell_type": "code",
   "execution_count": 13,
   "metadata": {},
   "outputs": [],
   "source": [
    "df_c= df_c.dropna()"
   ]
  },
  {
   "cell_type": "code",
   "execution_count": 14,
   "metadata": {},
   "outputs": [
    {
     "data": {
      "text/plain": [
       "63236"
      ]
     },
     "execution_count": 14,
     "metadata": {},
     "output_type": "execute_result"
    }
   ],
   "source": [
    "df_c.count()"
   ]
  },
  {
   "cell_type": "code",
   "execution_count": 15,
   "metadata": {},
   "outputs": [
    {
     "name": "stdout",
     "output_type": "stream",
     "text": [
      "+----------------------------+\n",
      "|PESO DESEMBARCADO KILOGRAMOS|\n",
      "+----------------------------+\n",
      "|                         501|\n",
      "|                          73|\n",
      "|                         356|\n",
      "|                       1,240|\n",
      "|                         118|\n",
      "|                           8|\n",
      "|                       2,855|\n",
      "|                       3,387|\n",
      "|                       2,282|\n",
      "|                       4,166|\n",
      "|                          34|\n",
      "|                           2|\n",
      "|                           0|\n",
      "|                         572|\n",
      "|                         172|\n",
      "|                           0|\n",
      "|                       1,586|\n",
      "|                         476|\n",
      "|                           0|\n",
      "|                       1,400|\n",
      "+----------------------------+\n",
      "only showing top 20 rows\n",
      "\n"
     ]
    }
   ],
   "source": [
    "df_c.select('PESO DESEMBARCADO KILOGRAMOS').show()"
   ]
  },
  {
   "cell_type": "code",
   "execution_count": 16,
   "metadata": {},
   "outputs": [
    {
     "name": "stderr",
     "output_type": "stream",
     "text": [
      "24/05/01 14:02:17 WARN SparkStringUtils: Truncated the string representation of a plan since it was too large. This behavior can be adjusted by setting 'spark.sql.debug.maxToStringFields'.\n",
      "[Stage 12:=============================>                            (1 + 1) / 2]\r"
     ]
    },
    {
     "name": "stdout",
     "output_type": "stream",
     "text": [
      "+-------+--------------------+------------------+--------------+------------+-----------+------------+----------------------------+--------------------+-----------------+----------------+------------------+------------------+\n",
      "|summary|    EJERCICIO FISCAL|ENTIDAD FEDERATIVA|NOMBRE OFICINA|MES DE CORTE|     ORIGEN|NOMBRE COMUN|PESO DESEMBARCADO KILOGRAMOS|PESO VIVO KILOGRAMOS|      VALOR PESOS|NOMBRE PRINCIPAL|  CLAVE DE ENTIDAD|  CLAVE DE OFICINA|\n",
      "+-------+--------------------+------------------+--------------+------------+-----------+------------+----------------------------+--------------------+-----------------+----------------+------------------+------------------+\n",
      "|  count|               63236|             63236|         63236|       63236|      63236|       63236|                       63236|               63236|            63236|           63236|             63236|             63236|\n",
      "|   mean|              2020.0|              NULL|          NULL|        NULL|       NULL|        NULL|          302.34543889296305|  307.37846485357016|476.4068550497122|            NULL|17.805727750015812|1785.8420836232526|\n",
      "| stddev|1.006647691400854...|              NULL|          NULL|        NULL|       NULL|        NULL|          270.81621624363447|   271.9943221557184|290.4068594755689|            NULL|10.767052148191343|1077.0152332497275|\n",
      "|    min|                2020|    AGUASCALIENTES|    ACAPETAHUA|       ABRIL|ACUACULTURA|     ABADEJO|                           0|                   0|                0|          ABULON|                 1|               101|\n",
      "|    max|                2020|         ZACATECAS|     ZITACUARO|  SEPTIEMBRE|    CAPTURA|       ZORRO|                         999|                 999|          999,392|          TRUCHA|                32|              3201|\n",
      "+-------+--------------------+------------------+--------------+------------+-----------+------------+----------------------------+--------------------+-----------------+----------------+------------------+------------------+\n",
      "\n"
     ]
    },
    {
     "name": "stderr",
     "output_type": "stream",
     "text": [
      "                                                                                \r"
     ]
    }
   ],
   "source": [
    "df_c.describe().show()"
   ]
  },
  {
   "cell_type": "code",
   "execution_count": 17,
   "metadata": {},
   "outputs": [
    {
     "name": "stdout",
     "output_type": "stream",
     "text": [
      "+-------+----------------------------+--------------------+\n",
      "|summary|PESO DESEMBARCADO KILOGRAMOS|PESO VIVO KILOGRAMOS|\n",
      "+-------+----------------------------+--------------------+\n",
      "|  count|                       63236|               63236|\n",
      "|   mean|          302.34543889296305|  307.37846485357016|\n",
      "| stddev|          270.81621624363447|   271.9943221557184|\n",
      "|    min|                           0|                   0|\n",
      "|    max|                         999|                 999|\n",
      "+-------+----------------------------+--------------------+\n",
      "\n"
     ]
    }
   ],
   "source": [
    "df_c.describe(['PESO DESEMBARCADO KILOGRAMOS', 'PESO VIVO KILOGRAMOS']).show()"
   ]
  },
  {
   "cell_type": "markdown",
   "metadata": {},
   "source": [
    "### Funciones \"complejas\" con PySpark"
   ]
  },
  {
   "cell_type": "code",
   "execution_count": 18,
   "metadata": {},
   "outputs": [
    {
     "name": "stdout",
     "output_type": "stream",
     "text": [
      "+-------------------+----------------+\n",
      "| ENTIDAD FEDERATIVA|sum(VALOR PESOS)|\n",
      "+-------------------+----------------+\n",
      "|    BAJA CALIFORNIA|        212235.0|\n",
      "|BAJA CALIFORNIA SUR|        344662.0|\n",
      "|             COLIMA|         21759.0|\n",
      "|           GUERRERO|         44695.0|\n",
      "|            SINALOA|        132577.0|\n",
      "|         TAMAULIPAS|        186744.0|\n",
      "|           VERACRUZ|        279495.0|\n",
      "|     AGUASCALIENTES|         16266.0|\n",
      "|             SONORA|         59330.0|\n",
      "|            NAYARIT|        115852.0|\n",
      "|          MICHOACAN|         24744.0|\n",
      "|           CAMPECHE|        129375.0|\n",
      "|       QUINTANA ROO|         29363.0|\n",
      "|            TABASCO|         40727.0|\n",
      "|            YUCATAN|        112157.0|\n",
      "|            JALISCO|         17241.0|\n",
      "|             OAXACA|         23889.0|\n",
      "|            CHIAPAS|          2770.0|\n",
      "|           COAHUILA|         14103.0|\n",
      "|            DURANGO|          1797.0|\n",
      "+-------------------+----------------+\n",
      "only showing top 20 rows\n",
      "\n"
     ]
    }
   ],
   "source": [
    "from pyspark.sql.functions import col, sum\n",
    "df = df_c.withColumn('VALOR PESOS', col('VALOR PESOS').cast('float'))\n",
    "resultado = df.groupBy('ENTIDAD FEDERATIVA').sum('VALOR PESOS')\n",
    "resultado.show()"
   ]
  },
  {
   "cell_type": "markdown",
   "metadata": {},
   "source": [
    "### filter"
   ]
  },
  {
   "cell_type": "code",
   "execution_count": 19,
   "metadata": {},
   "outputs": [
    {
     "name": "stdout",
     "output_type": "stream",
     "text": [
      "+----------------+-------------------+---------------+------------+-------+---------------+----------------------------+--------------------+-----------+----------------+----------------+----------------+\n",
      "|EJERCICIO FISCAL| ENTIDAD FEDERATIVA| NOMBRE OFICINA|MES DE CORTE| ORIGEN|   NOMBRE COMUN|PESO DESEMBARCADO KILOGRAMOS|PESO VIVO KILOGRAMOS|VALOR PESOS|NOMBRE PRINCIPAL|CLAVE DE ENTIDAD|CLAVE DE OFICINA|\n",
      "+----------------+-------------------+---------------+------------+-------+---------------+----------------------------+--------------------+-----------+----------------+----------------+----------------+\n",
      "|            2020|    BAJA CALIFORNIA|     EL ROSARIO|       JUNIO|CAPTURA|ABULON AMARILLO|                         501|                 501|     59,327|          ABULON|               2|             202|\n",
      "|            2020|             SONORA|        GUAYMAS|     FEBRERO|CAPTURA|          CHANO|                         501|                 501|      6,314|       BERRUGATA|              26|            2604|\n",
      "|            2020|         TAMAULIPAS|         ALDAMA|     OCTUBRE|CAPTURA|         BONITO|                         501|                 501|     13,475|          BONITO|              28|            2801|\n",
      "|            2020|         TAMAULIPAS|CIUDAD VICTORIA|       JUNIO|CAPTURA|       MEDREGAL|                         501|                 501|     13,103|      ESMEDREGAL|              28|            2803|\n",
      "|            2020|    BAJA CALIFORNIA|     SAN FELIPE|       MARZO|CAPTURA|    LENGUADO SE|                         501|                 627|      5,393|        LENGUADO|               2|             207|\n",
      "|            2020|            YUCATAN|       PROGRESO|      AGOSTO|CAPTURA|     MOJARRA SE|                         501|                 551|     28,494|         MOJARRA|              31|            3105|\n",
      "|            2020|         TAMAULIPAS|         ALDAMA|       JUNIO|CAPTURA|     TILAPIA SE|                         501|                 501|     14,852|         MOJARRA|              28|            2801|\n",
      "|            2020|         TAMAULIPAS|        TAMPICO|   NOVIEMBRE|CAPTURA|        GUABINA|                         501|                 501|     15,621|           OTRAS|              28|            2808|\n",
      "|            2020|BAJA CALIFORNIA SUR| BAHIA ASUNCION|   NOVIEMBRE|CAPTURA|    PEZ CORNETA|                         501|                 501|      9,299|         TIBURON|               3|             313|\n",
      "+----------------+-------------------+---------------+------------+-------+---------------+----------------------------+--------------------+-----------+----------------+----------------+----------------+\n",
      "\n"
     ]
    }
   ],
   "source": [
    "df_filter = df_c.filter(df_c['PESO DESEMBARCADO KILOGRAMOS'] == 501)\n",
    "df_filter.show()"
   ]
  },
  {
   "cell_type": "code",
   "execution_count": 20,
   "metadata": {},
   "outputs": [
    {
     "name": "stdout",
     "output_type": "stream",
     "text": [
      "+----------------+-------------------+--------------------+------------+-----------+----------------+----------------------------+--------------------+-----------+----------------+----------------+----------------+\n",
      "|EJERCICIO FISCAL| ENTIDAD FEDERATIVA|      NOMBRE OFICINA|MES DE CORTE|     ORIGEN|    NOMBRE COMUN|PESO DESEMBARCADO KILOGRAMOS|PESO VIVO KILOGRAMOS|VALOR PESOS|NOMBRE PRINCIPAL|CLAVE DE ENTIDAD|CLAVE DE OFICINA|\n",
      "+----------------+-------------------+--------------------+------------+-----------+----------------+----------------------------+--------------------+-----------+----------------+----------------+----------------+\n",
      "|            2020|    BAJA CALIFORNIA|          EL ROSARIO|       JUNIO|    CAPTURA| ABULON AMARILLO|                         501|                 501|     59,327|          ABULON|               2|             202|\n",
      "|            2020|    BAJA CALIFORNIA|VILLA DE JESUS MARIA|       JUNIO|    CAPTURA|       ABULON SE|                         672|               1,598|     75,497|          ABULON|               2|             210|\n",
      "|            2020|    BAJA CALIFORNIA|          SAN FELIPE|       JUNIO|    CAPTURA|   ALMEJA BLANCA|                         525|                 525|      9,323|          ALMEJA|               2|             207|\n",
      "|            2020|             SONORA|     PUERTO PE?�ASCO|       JUNIO|    CAPTURA|   ALMEJA BLANCA|                         533|                 533|     17,275|          ALMEJA|              26|            2607|\n",
      "|            2020|BAJA CALIFORNIA SUR|          SAN CARLOS|       JUNIO|    CAPTURA| ALMEJA CATARINA|                         683|                 683|      6,758|          ALMEJA|               3|             311|\n",
      "|            2020|BAJA CALIFORNIA SUR|              LA PAZ|       JUNIO|    CAPTURA|ALMEJA CHOCOLATA|                         751|                 751|      7,434|          ALMEJA|               3|             305|\n",
      "|            2020|           VERACRUZ|            ALVARADO|       JUNIO|    CAPTURA|  ALMEJA GALLITO|                         712|                 712|      7,177|          ALMEJA|              30|            3001|\n",
      "|            2020|             SONORA|     PUERTO LIBERTAD|       JUNIO|    CAPTURA|     ALMEJA ROJA|                         533|                 533|     36,950|          ALMEJA|              26|            2612|\n",
      "|            2020|            SINALOA|            NAVOLATO|       JUNIO|ACUACULTURA|       ALMEJA SE|                         992|                 992|      8,036|          ALMEJA|              25|            2509|\n",
      "|            2020|            YUCATAN|            PROGRESO|       JUNIO|    CAPTURA|        BOQUERON|                         525|                 578|      9,928|       ANCHOVETA|              31|            3105|\n",
      "|            2020|    BAJA CALIFORNIA|            ENSENADA|       JUNIO|    CAPTURA| ATUN ALETA AZUL|                         883|               1,059|     18,804|            ATUN|               2|             203|\n",
      "|            2020|    BAJA CALIFORNIA|            ENSENADA|       JUNIO|    CAPTURA| ATUN ALETA AZUL|                         998|                 998|    127,476|            ATUN|               2|             203|\n",
      "|            2020|BAJA CALIFORNIA SUR|    CD. CONSTITUCION|       JUNIO|    CAPTURA|         ATUN SE|                         683|                 683|     12,671|            ATUN|               3|             303|\n",
      "|            2020|            DURANGO|             DURANGO|       JUNIO|ACUACULTURA|  BAGRE DE CANAL|                         809|                 809|     31,482|           BAGRE|              10|            1001|\n",
      "|            2020|            JALISCO|     PUERTO VALLARTA|       JUNIO|ACUACULTURA|  BAGRE DE CANAL|                         595|                 655|     22,838|           BAGRE|              14|            1406|\n",
      "|            2020|            CHIAPAS|        VILLA FLORES|       JUNIO|    CAPTURA|        BAGRE SE|                         525|                 578|     16,547|           BAGRE|               7|             707|\n",
      "|            2020|            JALISCO|         GUADALAJARA|       JUNIO|ACUACULTURA|        BAGRE SE|                         682|                 682|    290,761|           BAGRE|              14|            1404|\n",
      "|            2020|          QUERETARO|           QUERETARO|       JUNIO|ACUACULTURA|        BAGRE SE|                         620|                 620|     36,800|           BAGRE|              22|            2201|\n",
      "|            2020|            SINALOA|            CULIACAN|       JUNIO|    CAPTURA|        BAGRE SE|                         564|                 621|     14,152|           BAGRE|              25|            2501|\n",
      "|            2020|            SINALOA|             GUASAVE|       JUNIO|    CAPTURA|        BAGRE SE|                         563|                 563|     17,488|           BAGRE|              25|            2505|\n",
      "+----------------+-------------------+--------------------+------------+-----------+----------------+----------------------------+--------------------+-----------+----------------+----------------+----------------+\n",
      "only showing top 20 rows\n",
      "\n"
     ]
    }
   ],
   "source": [
    "df_filterDos = df_c.filter((df_c['PESO DESEMBARCADO KILOGRAMOS'] > 500) & (df_c['MES DE CORTE'] == 'JUNIO'))\n",
    "df_filterDos.show()"
   ]
  },
  {
   "cell_type": "markdown",
   "metadata": {},
   "source": [
    "### take"
   ]
  },
  {
   "cell_type": "code",
   "execution_count": 21,
   "metadata": {},
   "outputs": [
    {
     "data": {
      "text/plain": [
       "Row(EJERCICIO FISCAL=2020, ENTIDAD FEDERATIVA='GUERRERO', NOMBRE OFICINA='ACAPULCO', MES DE CORTE='JULIO', ORIGEN='CAPTURA', NOMBRE COMUN='CARACOL SE', PESO DESEMBARCADO KILOGRAMOS='389', PESO VIVO KILOGRAMOS='389', VALOR PESOS='28,546', NOMBRE PRINCIPAL='CARACOL', CLAVE DE ENTIDAD=12, CLAVE DE OFICINA=1201)"
      ]
     },
     "execution_count": 21,
     "metadata": {},
     "output_type": "execute_result"
    }
   ],
   "source": [
    "df_c.take(10000)[-1]"
   ]
  },
  {
   "cell_type": "code",
   "execution_count": 22,
   "metadata": {},
   "outputs": [
    {
     "data": {
      "text/plain": [
       "list"
      ]
     },
     "execution_count": 22,
     "metadata": {},
     "output_type": "execute_result"
    }
   ],
   "source": [
    "type(df_c.take(10))"
   ]
  },
  {
   "cell_type": "markdown",
   "metadata": {},
   "source": [
    "### withColumn, when"
   ]
  },
  {
   "cell_type": "code",
   "execution_count": 23,
   "metadata": {},
   "outputs": [
    {
     "name": "stdout",
     "output_type": "stream",
     "text": [
      "+----------------+-------------------+--------------+------------+-----------+---------------+----------------------------+--------------------+-----------+----------------+----------------+----------------+\n",
      "|EJERCICIO FISCAL| ENTIDAD FEDERATIVA|NOMBRE OFICINA|MES DE CORTE|     ORIGEN|   NOMBRE COMUN|PESO DESEMBARCADO KILOGRAMOS|PESO VIVO KILOGRAMOS|VALOR PESOS|NOMBRE PRINCIPAL|CLAVE DE ENTIDAD|CLAVE DE OFICINA|\n",
      "+----------------+-------------------+--------------+------------+-----------+---------------+----------------------------+--------------------+-----------+----------------+----------------+----------------+\n",
      "|            2020|BAJA CALIFORNIA SUR|    EL ROSARIO|       JUNIO|    CAPTURA|ABULON AMARILLO|                         501|                 501|     59,327|          ABULON|               2|             202|\n",
      "|            2020|BAJA CALIFORNIA SUR|    EL ROSARIO|   DICIEMBRE|    CAPTURA|ABULON AMARILLO|                          73|                 173|     25,744|          ABULON|               2|             202|\n",
      "|            2020|BAJA CALIFORNIA SUR|    EL ROSARIO|   DICIEMBRE|    CAPTURA|ABULON AMARILLO|                         356|                 356|     22,502|          ABULON|               2|             202|\n",
      "|            2020|BAJA CALIFORNIA SUR|      ENSENADA|     OCTUBRE|ACUACULTURA|ABULON AMARILLO|                       1,240|               1,240|    347,663|          ABULON|               2|             203|\n",
      "|            2020|BAJA CALIFORNIA SUR|      ENSENADA|   NOVIEMBRE|    CAPTURA|ABULON AMARILLO|                         118|                 280|     47,359|          ABULON|               2|             203|\n",
      "|            2020|BAJA CALIFORNIA SUR|      ENSENADA|   NOVIEMBRE|    CAPTURA|ABULON AMARILLO|                           8|                   8|      3,184|          ABULON|               2|             203|\n",
      "|            2020|BAJA CALIFORNIA SUR|   ISLA CEDROS|       MARZO|    CAPTURA|ABULON AMARILLO|                       2,855|               2,855|  1,520,625|          ABULON|               2|             204|\n",
      "|            2020|BAJA CALIFORNIA SUR|   ISLA CEDROS|       ABRIL|    CAPTURA|ABULON AMARILLO|                       3,387|               3,387|  1,803,725|          ABULON|               2|             204|\n",
      "|            2020|BAJA CALIFORNIA SUR|   ISLA CEDROS|        MAYO|    CAPTURA|ABULON AMARILLO|                       2,282|               2,282|  1,215,430|          ABULON|               2|             204|\n",
      "|            2020|BAJA CALIFORNIA SUR|   ISLA CEDROS|       JUNIO|    CAPTURA|ABULON AMARILLO|                       4,166|               4,166|  2,218,824|          ABULON|               2|             204|\n",
      "+----------------+-------------------+--------------+------------+-----------+---------------+----------------------------+--------------------+-----------+----------------+----------------+----------------+\n",
      "only showing top 10 rows\n",
      "\n"
     ]
    }
   ],
   "source": [
    "from pyspark.sql.functions import when\n",
    "df_modificado = df_c.withColumn('ENTIDAD FEDERATIVA', when(df_c['ENTIDAD FEDERATIVA'] == 'BAJA CALIFORNIA', 'BAJA CALIFORNIA SUR').otherwise(df_c['ENTIDAD FEDERATIVA']))\n",
    "df_modificado.show(10)"
   ]
  },
  {
   "cell_type": "code",
   "execution_count": 24,
   "metadata": {},
   "outputs": [
    {
     "name": "stdout",
     "output_type": "stream",
     "text": [
      "+----------------+------------------+--------------+------------+-----------+---------------+----------------------------+--------------------+-----------+----------------+----------------+----------------+\n",
      "|EJERCICIO FISCAL|ENTIDAD FEDERATIVA|NOMBRE OFICINA|MES DE CORTE|     ORIGEN|   NOMBRE COMUN|PESO DESEMBARCADO KILOGRAMOS|PESO VIVO KILOGRAMOS|VALOR PESOS|NOMBRE PRINCIPAL|CLAVE DE ENTIDAD|CLAVE DE OFICINA|\n",
      "+----------------+------------------+--------------+------------+-----------+---------------+----------------------------+--------------------+-----------+----------------+----------------+----------------+\n",
      "|            2020|   BAJA CALIFORNIA|    EL ROSARIO|       JUNIO|    CAPTURA|ABULON AMARILLO|                         501|                 501|     59,327|          ABULON|               2|             202|\n",
      "|            2020|   BAJA CALIFORNIA|    EL ROSARIO|   DICIEMBRE|    CAPTURA|ABULON AMARILLO|                          73|                 173|     25,744|          ABULON|               2|             202|\n",
      "|            2020|   BAJA CALIFORNIA|    EL ROSARIO|   DICIEMBRE|    CAPTURA|ABULON AMARILLO|                         356|                 356|     22,502|          ABULON|               2|             202|\n",
      "|            2020|   BAJA CALIFORNIA|      ENSENADA|     OCTUBRE|ACUACULTURA|ABULON AMARILLO|                       1,240|               1,240|    347,663|          ABULON|               2|             203|\n",
      "|            2020|   BAJA CALIFORNIA|      ENSENADA|   NOVIEMBRE|    CAPTURA|ABULON AMARILLO|                         118|                 280|     47,359|          ABULON|               2|             203|\n",
      "|            2020|   BAJA CALIFORNIA|      ENSENADA|   NOVIEMBRE|    CAPTURA|ABULON AMARILLO|                           8|                   8|      3,184|          ABULON|               2|             203|\n",
      "|            2020|   BAJA CALIFORNIA|   ISLA CEDROS|       MARZO|    CAPTURA|ABULON AMARILLO|                       2,855|               2,855|  1,520,625|          ABULON|               2|             204|\n",
      "|            2020|   BAJA CALIFORNIA|   ISLA CEDROS|       ABRIL|    CAPTURA|ABULON AMARILLO|                       3,387|               3,387|  1,803,725|          ABULON|               2|             204|\n",
      "|            2020|   BAJA CALIFORNIA|   ISLA CEDROS|        MAYO|    CAPTURA|ABULON AMARILLO|                       2,282|               2,282|  1,215,430|          ABULON|               2|             204|\n",
      "|            2020|   BAJA CALIFORNIA|   ISLA CEDROS|       JUNIO|    CAPTURA|ABULON AMARILLO|                       4,166|               4,166|  2,218,824|          ABULON|               2|             204|\n",
      "+----------------+------------------+--------------+------------+-----------+---------------+----------------------------+--------------------+-----------+----------------+----------------+----------------+\n",
      "only showing top 10 rows\n",
      "\n"
     ]
    }
   ],
   "source": [
    "df_c.show(10)"
   ]
  },
  {
   "cell_type": "markdown",
   "metadata": {},
   "source": [
    "### Split"
   ]
  },
  {
   "cell_type": "code",
   "execution_count": 25,
   "metadata": {},
   "outputs": [
    {
     "name": "stdout",
     "output_type": "stream",
     "text": [
      "+---------------+\n",
      "|         nombre|\n",
      "+---------------+\n",
      "|Andres Schafler|\n",
      "|  Aranza Ibarra|\n",
      "|     Jaime Uria|\n",
      "|  Mario Vazquez|\n",
      "+---------------+\n",
      "\n"
     ]
    }
   ],
   "source": [
    "from pyspark.sql.functions import split\n",
    "nombres = ['Andres Schafler', 'Aranza Ibarra', 'Jaime Uria', 'Mario Vazquez']\n",
    "df_nombres = spark.createDataFrame(nombres, 'string').toDF('nombre')\n",
    "df_nombres.show()"
   ]
  },
  {
   "cell_type": "code",
   "execution_count": 26,
   "metadata": {},
   "outputs": [
    {
     "name": "stdout",
     "output_type": "stream",
     "text": [
      "+------+--------+\n",
      "|Nombre|Apellido|\n",
      "+------+--------+\n",
      "|Andres|Schafler|\n",
      "|Aranza|  Ibarra|\n",
      "| Jaime|    Uria|\n",
      "| Mario| Vazquez|\n",
      "+------+--------+\n",
      "\n"
     ]
    }
   ],
   "source": [
    "df_intermedio = df_nombres.withColumn(\"nombre_split\", split(col(\"nombre\"), \" \")) #Utilizamos un df intermedio para separar el nombre por espacio\n",
    "df_split = df_intermedio.withColumn(\"Nombre\", col(\"nombre_split\")[0])\\\n",
    "                        .withColumn(\"Apellido\", col(\"nombre_split\")[1])\n",
    "df_split = df_split.drop(\"nombre_split\")\n",
    "df_split.show()\n"
   ]
  },
  {
   "cell_type": "code",
   "execution_count": 34,
   "metadata": {},
   "outputs": [
    {
     "name": "stdout",
     "output_type": "stream",
     "text": [
      "+-------------------+----------------+\n",
      "| ENTIDAD FEDERATIVA|sum(VALOR PESOS)|\n",
      "+-------------------+----------------+\n",
      "|BAJA CALIFORNIA SUR|        344662.0|\n",
      "|           VERACRUZ|        279495.0|\n",
      "|    BAJA CALIFORNIA|        212235.0|\n",
      "|         TAMAULIPAS|        186744.0|\n",
      "|            SINALOA|        132577.0|\n",
      "|           CAMPECHE|        129375.0|\n",
      "|            NAYARIT|        115852.0|\n",
      "|            YUCATAN|        112157.0|\n",
      "|             SONORA|         59330.0|\n",
      "|           GUERRERO|         44695.0|\n",
      "|            TABASCO|         40727.0|\n",
      "|       QUINTANA ROO|         29363.0|\n",
      "|          MICHOACAN|         24744.0|\n",
      "|             OAXACA|         23889.0|\n",
      "|             COLIMA|         21759.0|\n",
      "|            JALISCO|         17241.0|\n",
      "|     AGUASCALIENTES|         16266.0|\n",
      "|           COAHUILA|         14103.0|\n",
      "|            HIDALGO|          9506.0|\n",
      "|            CHIAPAS|          2770.0|\n",
      "+-------------------+----------------+\n",
      "only showing top 20 rows\n",
      "\n"
     ]
    }
   ],
   "source": [
    "from pyspark.sql import functions as f\n",
    "resultado.sort(f.desc('sum(VALOR PESOS)')).show()"
   ]
  }
 ],
 "metadata": {
  "kernelspec": {
   "display_name": "myenv",
   "language": "python",
   "name": "python3"
  },
  "language_info": {
   "codemirror_mode": {
    "name": "ipython",
    "version": 3
   },
   "file_extension": ".py",
   "mimetype": "text/x-python",
   "name": "python",
   "nbconvert_exporter": "python",
   "pygments_lexer": "ipython3",
   "version": "3.11.8"
  }
 },
 "nbformat": 4,
 "nbformat_minor": 2
}
