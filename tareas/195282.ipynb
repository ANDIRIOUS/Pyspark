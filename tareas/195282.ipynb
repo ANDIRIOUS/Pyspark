{
 "cells": [
  {
   "cell_type": "markdown",
   "metadata": {},
   "source": [
    "Victor H Esparza Díaz\n",
    "195282"
   ]
  },
  {
   "cell_type": "code",
   "execution_count": 1,
   "metadata": {},
   "outputs": [],
   "source": [
    "import findspark\n",
    "findspark.init()"
   ]
  },
  {
   "cell_type": "code",
   "execution_count": 4,
   "metadata": {},
   "outputs": [],
   "source": [
    "from pyspark.sql import SparkSession"
   ]
  },
  {
   "cell_type": "markdown",
   "metadata": {},
   "source": [
    "# Tarea PySpark"
   ]
  },
  {
   "cell_type": "markdown",
   "metadata": {},
   "source": [
    "### Objetivo:\n",
    " Analizar la eficiencia de los jugadores en términos generales y por posición, así como determinar la contribución al equipo por jugador tomando en cuenta los datos obtenidos"
   ]
  },
  {
   "cell_type": "markdown",
   "metadata": {},
   "source": [
    "Usarás la base de datos del archivo 'fusbol.csv' para obtener tus datos. Checa la estructura del archivo para ver si es necesario limpiar la informacion, ver su estructura y así sea más fácil completar la tarea. Besos."
   ]
  },
  {
   "cell_type": "markdown",
   "metadata": {},
   "source": [
    "### Ejercicio 1:\n",
    "Carga la base de datos en un DataFrame de Pyspark (con 2 nucleos). Valida los rangos de los valores donde sea aplicable, así como su corrección (en caso de ser necesaria). \n",
    "Después, utilizando las variables más relevantes como 'Ast/90', 'PassCmp%', etc., concluye qué ligas tienen los mejores jugadores por posición. Es decir, si los mejores jugadores defensas son de la liga francesa, inglesa, etc., por ejemplo.\n",
    "Como cada persona tiene una definición de \"mejor\", utiliza las siguientes metricas por posición:\n",
    "- Delanteros: npG+A/90 y npxG+xA/90\n",
    "- Medios: KeyPass/90 y PassCmp%\n",
    "- Defensas: PressSucc% y Interceptions/90\n",
    "\n",
    "Con los resultados obtenidos, grafica por posición para que tu conclusión tenga un respaldo visual también."
   ]
  },
  {
   "cell_type": "code",
   "execution_count": 5,
   "metadata": {
    "vscode": {
     "languageId": "plaintext"
    }
   },
   "outputs": [],
   "source": [
    "spark = SparkSession.builder.appName('firstSession')\\\n",
    "    .config('spark.master', 'local[2]')\\\n",
    "    .config('spark.executor.memory', '1g')\\\n",
    "    .config(\"spark.sql.shuffle.partitions\", 10)\\\n",
    "    .config('spark.driver.memory','1g')\\\n",
    "    .getOrCreate()"
   ]
  },
  {
   "cell_type": "code",
   "execution_count": 6,
   "metadata": {
    "scrolled": true
   },
   "outputs": [
    {
     "data": {
      "text/html": [
       "\n",
       "            <div>\n",
       "                <p><b>SparkSession - in-memory</b></p>\n",
       "                \n",
       "        <div>\n",
       "            <p><b>SparkContext</b></p>\n",
       "\n",
       "            <p><a href=\"http://233fd6d7bd21:4040\">Spark UI</a></p>\n",
       "\n",
       "            <dl>\n",
       "              <dt>Version</dt>\n",
       "                <dd><code>v3.5.0</code></dd>\n",
       "              <dt>Master</dt>\n",
       "                <dd><code>local[2]</code></dd>\n",
       "              <dt>AppName</dt>\n",
       "                <dd><code>firstSession</code></dd>\n",
       "            </dl>\n",
       "        </div>\n",
       "        \n",
       "            </div>\n",
       "        "
      ],
      "text/plain": [
       "<pyspark.sql.session.SparkSession at 0x7fc35acb4410>"
      ]
     },
     "execution_count": 6,
     "metadata": {},
     "output_type": "execute_result"
    }
   ],
   "source": [
    "spark"
   ]
  },
  {
   "cell_type": "code",
   "execution_count": 20,
   "metadata": {},
   "outputs": [],
   "source": [
    "df=spark.read.csv('fusbol.csv', header=True, inferSchema=True)"
   ]
  },
  {
   "cell_type": "code",
   "execution_count": 21,
   "metadata": {
    "scrolled": true
   },
   "outputs": [
    {
     "data": {
      "text/plain": [
       "['Player',\n",
       " 'Nation',\n",
       " 'Pos',\n",
       " 'Squad',\n",
       " 'Comp',\n",
       " 'Age',\n",
       " 'Born',\n",
       " 'MP',\n",
       " 'Starts',\n",
       " 'Min',\n",
       " '90s',\n",
       " 'Ast/90',\n",
       " 'npG/90',\n",
       " 'npG+A/90',\n",
       " 'xA/90',\n",
       " 'npxG/90',\n",
       " 'npxG+xA/90',\n",
       " 'Shots/90',\n",
       " 'SoTs/90',\n",
       " 'SoT%',\n",
       " 'Gls/Shot',\n",
       " 'Gls/SoT',\n",
       " 'AvgShotDist',\n",
       " 'FKSht/90',\n",
       " 'npxG/Shot',\n",
       " 'np:G-xG',\n",
       " 'PassCmp/90',\n",
       " 'PassAtt/90',\n",
       " 'PassCmp%',\n",
       " 'TotDistPass/90',\n",
       " 'PrgDistPass/90',\n",
       " 'ShortCmp/90',\n",
       " 'ShortAtt/90',\n",
       " 'ShortCmp%',\n",
       " 'MedCmp/90',\n",
       " 'MedAtt/90',\n",
       " 'MedCmp%',\n",
       " 'LongCmp/90',\n",
       " 'LongAtt/90',\n",
       " 'LongCmp%',\n",
       " 'KeyPass/90',\n",
       " 'PassIntoThird/90',\n",
       " 'PassIntoBox/90',\n",
       " 'CrossIntoBox/90',\n",
       " 'ProgPass/90',\n",
       " 'LivePassAtt/90',\n",
       " 'DeadPassAtt/90',\n",
       " 'FKPassAtt/90',\n",
       " 'TBCmp/90',\n",
       " 'PassUnderPress/90',\n",
       " 'Switches/90',\n",
       " 'Crosses/90',\n",
       " 'GroundPass/90',\n",
       " 'LowPass/90',\n",
       " 'HighPass/90',\n",
       " 'LeftPass/90',\n",
       " 'RightPass/90',\n",
       " 'HeadPass/90',\n",
       " 'ThrowPass/90',\n",
       " 'OtherPartPass/90',\n",
       " 'OffsidePass/90',\n",
       " 'OutOBPass/90',\n",
       " 'PassesInt/90',\n",
       " 'PassesBlk/90',\n",
       " 'SCA/90',\n",
       " 'PassLiveSCA/90',\n",
       " 'PassDeadSCA/90',\n",
       " 'DribSCA/90',\n",
       " 'ShSCA/90',\n",
       " 'FoulSCA/90',\n",
       " 'DefSCA/90',\n",
       " 'GCA/90',\n",
       " 'PassLiveGCA/90',\n",
       " 'PassDeadGCA/90',\n",
       " 'DribGCA/90',\n",
       " 'ShGCA/90',\n",
       " 'FoulGCA/90',\n",
       " 'DefGCA/90',\n",
       " 'TklAtt/90',\n",
       " 'TklW/90',\n",
       " 'Def 3rdTkl/90',\n",
       " 'Mid 3rdTkl/90',\n",
       " 'Att 3rdTkl/90',\n",
       " 'TklvDribW/90',\n",
       " 'TklvDribAtt/90',\n",
       " 'Tkl%vDrib',\n",
       " 'DribPast/90',\n",
       " 'PressAtt/90',\n",
       " 'SuccPress/90',\n",
       " 'PressSucc%',\n",
       " 'Def 3rdPress/90',\n",
       " 'Mid 3rdPress/90',\n",
       " 'Att 3rdPress/90',\n",
       " 'Blocks/90',\n",
       " 'ShotBlocks/90',\n",
       " 'PassBlk/90',\n",
       " 'Interceptions/90',\n",
       " 'Clearances/90',\n",
       " 'ErrToShot/90',\n",
       " 'Touches/90',\n",
       " 'Def PenTchs/90',\n",
       " 'Def 3rdTchs/90',\n",
       " 'Mid 3rdTchs/90',\n",
       " 'Att 3rdTchs/90',\n",
       " 'Att PenTchs/90',\n",
       " '%TchsDefPen',\n",
       " '%TchsDefThrd',\n",
       " '%TchsMidThrd',\n",
       " '%TchsAttThrd',\n",
       " '%TchsAttPen',\n",
       " 'LiveTchs/90',\n",
       " 'SuccDrib/90',\n",
       " 'AttDrib/90',\n",
       " 'DribSucc%',\n",
       " 'PlayersDribPast/90',\n",
       " 'Megs/90',\n",
       " 'Carries/90',\n",
       " 'TotDistCarry/90',\n",
       " 'PrgDistCarry/90',\n",
       " 'ProgCarry/90',\n",
       " 'CarryIntoThird/90',\n",
       " 'CarryIntoBox/90',\n",
       " 'Miscontrol/90',\n",
       " 'Dispossessed/90',\n",
       " 'PassTarget/90',\n",
       " 'PassesReceived/90',\n",
       " 'PassRec%',\n",
       " 'ProgPassReceived/90']"
      ]
     },
     "execution_count": 21,
     "metadata": {},
     "output_type": "execute_result"
    }
   ],
   "source": [
    "df.columns"
   ]
  },
  {
   "cell_type": "code",
   "execution_count": 22,
   "metadata": {},
   "outputs": [],
   "source": [
    "df=df.dropna()"
   ]
  },
  {
   "cell_type": "code",
   "execution_count": 23,
   "metadata": {
    "scrolled": true
   },
   "outputs": [
    {
     "name": "stdout",
     "output_type": "stream",
     "text": [
      "root\n",
      " |-- Player: string (nullable = true)\n",
      " |-- Nation: string (nullable = true)\n",
      " |-- Pos: string (nullable = true)\n",
      " |-- Squad: string (nullable = true)\n",
      " |-- Comp: string (nullable = true)\n",
      " |-- Age: double (nullable = true)\n",
      " |-- Born: double (nullable = true)\n",
      " |-- MP: integer (nullable = true)\n",
      " |-- Starts: integer (nullable = true)\n",
      " |-- Min: integer (nullable = true)\n",
      " |-- 90s: double (nullable = true)\n",
      " |-- Ast/90: double (nullable = true)\n",
      " |-- npG/90: double (nullable = true)\n",
      " |-- npG+A/90: double (nullable = true)\n",
      " |-- xA/90: double (nullable = true)\n",
      " |-- npxG/90: double (nullable = true)\n",
      " |-- npxG+xA/90: double (nullable = true)\n",
      " |-- Shots/90: double (nullable = true)\n",
      " |-- SoTs/90: double (nullable = true)\n",
      " |-- SoT%: double (nullable = true)\n",
      " |-- Gls/Shot: double (nullable = true)\n",
      " |-- Gls/SoT: double (nullable = true)\n",
      " |-- AvgShotDist: double (nullable = true)\n",
      " |-- FKSht/90: double (nullable = true)\n",
      " |-- npxG/Shot: double (nullable = true)\n",
      " |-- np:G-xG: double (nullable = true)\n",
      " |-- PassCmp/90: double (nullable = true)\n",
      " |-- PassAtt/90: double (nullable = true)\n",
      " |-- PassCmp%: double (nullable = true)\n",
      " |-- TotDistPass/90: double (nullable = true)\n",
      " |-- PrgDistPass/90: double (nullable = true)\n",
      " |-- ShortCmp/90: double (nullable = true)\n",
      " |-- ShortAtt/90: double (nullable = true)\n",
      " |-- ShortCmp%: double (nullable = true)\n",
      " |-- MedCmp/90: double (nullable = true)\n",
      " |-- MedAtt/90: double (nullable = true)\n",
      " |-- MedCmp%: double (nullable = true)\n",
      " |-- LongCmp/90: double (nullable = true)\n",
      " |-- LongAtt/90: double (nullable = true)\n",
      " |-- LongCmp%: double (nullable = true)\n",
      " |-- KeyPass/90: double (nullable = true)\n",
      " |-- PassIntoThird/90: double (nullable = true)\n",
      " |-- PassIntoBox/90: double (nullable = true)\n",
      " |-- CrossIntoBox/90: double (nullable = true)\n",
      " |-- ProgPass/90: double (nullable = true)\n",
      " |-- LivePassAtt/90: double (nullable = true)\n",
      " |-- DeadPassAtt/90: double (nullable = true)\n",
      " |-- FKPassAtt/90: double (nullable = true)\n",
      " |-- TBCmp/90: double (nullable = true)\n",
      " |-- PassUnderPress/90: double (nullable = true)\n",
      " |-- Switches/90: double (nullable = true)\n",
      " |-- Crosses/90: double (nullable = true)\n",
      " |-- GroundPass/90: double (nullable = true)\n",
      " |-- LowPass/90: double (nullable = true)\n",
      " |-- HighPass/90: double (nullable = true)\n",
      " |-- LeftPass/90: double (nullable = true)\n",
      " |-- RightPass/90: double (nullable = true)\n",
      " |-- HeadPass/90: double (nullable = true)\n",
      " |-- ThrowPass/90: double (nullable = true)\n",
      " |-- OtherPartPass/90: double (nullable = true)\n",
      " |-- OffsidePass/90: double (nullable = true)\n",
      " |-- OutOBPass/90: double (nullable = true)\n",
      " |-- PassesInt/90: double (nullable = true)\n",
      " |-- PassesBlk/90: double (nullable = true)\n",
      " |-- SCA/90: double (nullable = true)\n",
      " |-- PassLiveSCA/90: double (nullable = true)\n",
      " |-- PassDeadSCA/90: double (nullable = true)\n",
      " |-- DribSCA/90: double (nullable = true)\n",
      " |-- ShSCA/90: double (nullable = true)\n",
      " |-- FoulSCA/90: double (nullable = true)\n",
      " |-- DefSCA/90: double (nullable = true)\n",
      " |-- GCA/90: double (nullable = true)\n",
      " |-- PassLiveGCA/90: double (nullable = true)\n",
      " |-- PassDeadGCA/90: double (nullable = true)\n",
      " |-- DribGCA/90: double (nullable = true)\n",
      " |-- ShGCA/90: double (nullable = true)\n",
      " |-- FoulGCA/90: double (nullable = true)\n",
      " |-- DefGCA/90: double (nullable = true)\n",
      " |-- TklAtt/90: double (nullable = true)\n",
      " |-- TklW/90: double (nullable = true)\n",
      " |-- Def 3rdTkl/90: double (nullable = true)\n",
      " |-- Mid 3rdTkl/90: double (nullable = true)\n",
      " |-- Att 3rdTkl/90: double (nullable = true)\n",
      " |-- TklvDribW/90: double (nullable = true)\n",
      " |-- TklvDribAtt/90: double (nullable = true)\n",
      " |-- Tkl%vDrib: double (nullable = true)\n",
      " |-- DribPast/90: double (nullable = true)\n",
      " |-- PressAtt/90: double (nullable = true)\n",
      " |-- SuccPress/90: double (nullable = true)\n",
      " |-- PressSucc%: double (nullable = true)\n",
      " |-- Def 3rdPress/90: double (nullable = true)\n",
      " |-- Mid 3rdPress/90: double (nullable = true)\n",
      " |-- Att 3rdPress/90: double (nullable = true)\n",
      " |-- Blocks/90: double (nullable = true)\n",
      " |-- ShotBlocks/90: double (nullable = true)\n",
      " |-- PassBlk/90: double (nullable = true)\n",
      " |-- Interceptions/90: double (nullable = true)\n",
      " |-- Clearances/90: double (nullable = true)\n",
      " |-- ErrToShot/90: double (nullable = true)\n",
      " |-- Touches/90: double (nullable = true)\n",
      " |-- Def PenTchs/90: double (nullable = true)\n",
      " |-- Def 3rdTchs/90: double (nullable = true)\n",
      " |-- Mid 3rdTchs/90: double (nullable = true)\n",
      " |-- Att 3rdTchs/90: double (nullable = true)\n",
      " |-- Att PenTchs/90: double (nullable = true)\n",
      " |-- %TchsDefPen: double (nullable = true)\n",
      " |-- %TchsDefThrd: double (nullable = true)\n",
      " |-- %TchsMidThrd: double (nullable = true)\n",
      " |-- %TchsAttThrd: double (nullable = true)\n",
      " |-- %TchsAttPen: double (nullable = true)\n",
      " |-- LiveTchs/90: double (nullable = true)\n",
      " |-- SuccDrib/90: double (nullable = true)\n",
      " |-- AttDrib/90: double (nullable = true)\n",
      " |-- DribSucc%: double (nullable = true)\n",
      " |-- PlayersDribPast/90: double (nullable = true)\n",
      " |-- Megs/90: double (nullable = true)\n",
      " |-- Carries/90: double (nullable = true)\n",
      " |-- TotDistCarry/90: double (nullable = true)\n",
      " |-- PrgDistCarry/90: double (nullable = true)\n",
      " |-- ProgCarry/90: double (nullable = true)\n",
      " |-- CarryIntoThird/90: double (nullable = true)\n",
      " |-- CarryIntoBox/90: double (nullable = true)\n",
      " |-- Miscontrol/90: double (nullable = true)\n",
      " |-- Dispossessed/90: double (nullable = true)\n",
      " |-- PassTarget/90: double (nullable = true)\n",
      " |-- PassesReceived/90: double (nullable = true)\n",
      " |-- PassRec%: double (nullable = true)\n",
      " |-- ProgPassReceived/90: double (nullable = true)\n",
      "\n"
     ]
    }
   ],
   "source": [
    "df.printSchema()"
   ]
  },
  {
   "cell_type": "code",
   "execution_count": 25,
   "metadata": {
    "scrolled": true
   },
   "outputs": [
    {
     "name": "stdout",
     "output_type": "stream",
     "text": [
      "+-----+-----+\n",
      "|  Pos|count|\n",
      "+-----+-----+\n",
      "|DF,MF|   55|\n",
      "|FW,DF|   16|\n",
      "|MF,DF|   47|\n",
      "|   GK|    2|\n",
      "|   MF|  399|\n",
      "|   DF|  582|\n",
      "|DF,FW|   18|\n",
      "|   FW|  282|\n",
      "|FW,MF|  244|\n",
      "|MF,FW|  194|\n",
      "+-----+-----+\n",
      "\n"
     ]
    }
   ],
   "source": [
    "posiciones=df.groupBy('Pos').count()\n",
    "posiciones.show()"
   ]
  },
  {
   "cell_type": "markdown",
   "metadata": {},
   "source": [
    "Primero voy a separar las posiciones para poder trabajar con los jugadores que tienen 2 posiciones"
   ]
  },
  {
   "cell_type": "code",
   "execution_count": 56,
   "metadata": {
    "scrolled": true
   },
   "outputs": [
    {
     "data": {
      "text/plain": [
       "['Player',\n",
       " 'Nation',\n",
       " 'Pos',\n",
       " 'Squad',\n",
       " 'Comp',\n",
       " 'Age',\n",
       " 'Born',\n",
       " 'MP',\n",
       " 'Starts',\n",
       " 'Min',\n",
       " '90s',\n",
       " 'Ast/90',\n",
       " 'npG/90',\n",
       " 'npG+A/90',\n",
       " 'xA/90',\n",
       " 'npxG/90',\n",
       " 'npxG+xA/90',\n",
       " 'Shots/90',\n",
       " 'SoTs/90',\n",
       " 'SoT%',\n",
       " 'Gls/Shot',\n",
       " 'Gls/SoT',\n",
       " 'AvgShotDist',\n",
       " 'FKSht/90',\n",
       " 'npxG/Shot',\n",
       " 'np:G-xG',\n",
       " 'PassCmp/90',\n",
       " 'PassAtt/90',\n",
       " 'PassCmp%',\n",
       " 'TotDistPass/90',\n",
       " 'PrgDistPass/90',\n",
       " 'ShortCmp/90',\n",
       " 'ShortAtt/90',\n",
       " 'ShortCmp%',\n",
       " 'MedCmp/90',\n",
       " 'MedAtt/90',\n",
       " 'MedCmp%',\n",
       " 'LongCmp/90',\n",
       " 'LongAtt/90',\n",
       " 'LongCmp%',\n",
       " 'KeyPass/90',\n",
       " 'PassIntoThird/90',\n",
       " 'PassIntoBox/90',\n",
       " 'CrossIntoBox/90',\n",
       " 'ProgPass/90',\n",
       " 'LivePassAtt/90',\n",
       " 'DeadPassAtt/90',\n",
       " 'FKPassAtt/90',\n",
       " 'TBCmp/90',\n",
       " 'PassUnderPress/90',\n",
       " 'Switches/90',\n",
       " 'Crosses/90',\n",
       " 'GroundPass/90',\n",
       " 'LowPass/90',\n",
       " 'HighPass/90',\n",
       " 'LeftPass/90',\n",
       " 'RightPass/90',\n",
       " 'HeadPass/90',\n",
       " 'ThrowPass/90',\n",
       " 'OtherPartPass/90',\n",
       " 'OffsidePass/90',\n",
       " 'OutOBPass/90',\n",
       " 'PassesInt/90',\n",
       " 'PassesBlk/90',\n",
       " 'SCA/90',\n",
       " 'PassLiveSCA/90',\n",
       " 'PassDeadSCA/90',\n",
       " 'DribSCA/90',\n",
       " 'ShSCA/90',\n",
       " 'FoulSCA/90',\n",
       " 'DefSCA/90',\n",
       " 'GCA/90',\n",
       " 'PassLiveGCA/90',\n",
       " 'PassDeadGCA/90',\n",
       " 'DribGCA/90',\n",
       " 'ShGCA/90',\n",
       " 'FoulGCA/90',\n",
       " 'DefGCA/90',\n",
       " 'TklAtt/90',\n",
       " 'TklW/90',\n",
       " 'Def 3rdTkl/90',\n",
       " 'Mid 3rdTkl/90',\n",
       " 'Att 3rdTkl/90',\n",
       " 'TklvDribW/90',\n",
       " 'TklvDribAtt/90',\n",
       " 'Tkl%vDrib',\n",
       " 'DribPast/90',\n",
       " 'PressAtt/90',\n",
       " 'SuccPress/90',\n",
       " 'PressSucc%',\n",
       " 'Def 3rdPress/90',\n",
       " 'Mid 3rdPress/90',\n",
       " 'Att 3rdPress/90',\n",
       " 'Blocks/90',\n",
       " 'ShotBlocks/90',\n",
       " 'PassBlk/90',\n",
       " 'Interceptions/90',\n",
       " 'Clearances/90',\n",
       " 'ErrToShot/90',\n",
       " 'Touches/90',\n",
       " 'Def PenTchs/90',\n",
       " 'Def 3rdTchs/90',\n",
       " 'Mid 3rdTchs/90',\n",
       " 'Att 3rdTchs/90',\n",
       " 'Att PenTchs/90',\n",
       " '%TchsDefPen',\n",
       " '%TchsDefThrd',\n",
       " '%TchsMidThrd',\n",
       " '%TchsAttThrd',\n",
       " '%TchsAttPen',\n",
       " 'LiveTchs/90',\n",
       " 'SuccDrib/90',\n",
       " 'AttDrib/90',\n",
       " 'DribSucc%',\n",
       " 'PlayersDribPast/90',\n",
       " 'Megs/90',\n",
       " 'Carries/90',\n",
       " 'TotDistCarry/90',\n",
       " 'PrgDistCarry/90',\n",
       " 'ProgCarry/90',\n",
       " 'CarryIntoThird/90',\n",
       " 'CarryIntoBox/90',\n",
       " 'Miscontrol/90',\n",
       " 'Dispossessed/90',\n",
       " 'PassTarget/90',\n",
       " 'PassesReceived/90',\n",
       " 'PassRec%',\n",
       " 'ProgPassReceived/90',\n",
       " 'Posicion 1',\n",
       " 'Posicion 2']"
      ]
     },
     "execution_count": 56,
     "metadata": {},
     "output_type": "execute_result"
    }
   ],
   "source": [
    "from pyspark.sql.functions import split, col\n",
    "df_split=df.withColumn(\"Pos 2\", split(col(\"Pos\"), \",\"))\n",
    "df_split2=df_split.withColumn(\"Posicion 1\", col(\"Pos 2\")[0])\\\n",
    "                    .withColumn(\"Posicion 2\", col(\"Pos 2\")[1])\n",
    "df_split2= df_split2.drop(\"Pos 2\")\n",
    "\n",
    "\n",
    "df2=df_split2\n",
    "df2.columns"
   ]
  },
  {
   "cell_type": "code",
   "execution_count": 50,
   "metadata": {
    "scrolled": true
   },
   "outputs": [
    {
     "name": "stdout",
     "output_type": "stream",
     "text": [
      "+----------+-----+\n",
      "|Posicion 1|count|\n",
      "+----------+-----+\n",
      "|        GK|    2|\n",
      "|        MF|  640|\n",
      "|        DF|  655|\n",
      "|        FW|  542|\n",
      "+----------+-----+\n",
      "\n"
     ]
    }
   ],
   "source": [
    "posiciones1=df2.groupBy('Posicion 1').count()\n",
    "posiciones1.show()"
   ]
  },
  {
   "cell_type": "code",
   "execution_count": 51,
   "metadata": {
    "scrolled": true
   },
   "outputs": [
    {
     "name": "stdout",
     "output_type": "stream",
     "text": [
      "+----------+-----+\n",
      "|Posicion 2|count|\n",
      "+----------+-----+\n",
      "|      NULL| 1265|\n",
      "|        MF|  299|\n",
      "|        FW|  212|\n",
      "|        DF|   63|\n",
      "+----------+-----+\n",
      "\n"
     ]
    }
   ],
   "source": [
    "posiciones2=df2.groupBy('Posicion 2').count()\n",
    "posiciones2.show()"
   ]
  },
  {
   "cell_type": "markdown",
   "metadata": {},
   "source": [
    "Para el análisis, solo consideraré a los jugadores por su posición primaria, de esta forma creo que se evita que se repitan en múltiples posiciones"
   ]
  },
  {
   "cell_type": "markdown",
   "metadata": {},
   "source": [
    "Empezando con los defensas, para poder hacer una métrica donde todo esté bajo la misma \"medida\", voy a usar solo estadísticas que tengan el \"/90\", pues esto considera la misma cantidad de minutos jugados para todos los jugadores"
   ]
  },
  {
   "cell_type": "markdown",
   "metadata": {},
   "source": [
    "Crearé una métrica en la que sumaré: \n",
    "TklW/90\n",
    "Blocks/90\n",
    "Interceptions/90\n",
    "Clearances/90\n",
    "Y le restaré: FoulSCA/90"
   ]
  },
  {
   "cell_type": "code",
   "execution_count": 93,
   "metadata": {},
   "outputs": [
    {
     "name": "stdout",
     "output_type": "stream",
     "text": [
      "+------------------+-----------------+\n",
      "|              Comp|  avg(Métrica DF)|\n",
      "+------------------+-----------------+\n",
      "|        fr Ligue 1|      8.273828125|\n",
      "|eng Premier League|8.238515625000002|\n",
      "|     de Bundesliga|       8.19578125|\n",
      "|        es La Liga|7.759841269841268|\n",
      "|        it Serie A|7.441999999999999|\n",
      "+------------------+-----------------+\n",
      "\n"
     ]
    }
   ],
   "source": [
    "from pyspark.sql.functions import expr\n",
    "df_def=df2.filter(col(\"Posicion 1\")==\"DF\")\n",
    "\n",
    "from pyspark.sql.functions import expr\n",
    "df_def2 = df_def.withColumn(\"Métrica DF\", col(\"TklW/90\") + col(\"Blocks/90\") + col(\"Interceptions/90\") + col(\"Clearances/90\") - col(\"FoulSCA/90\"))\n",
    "\n",
    "df_def3=df_def2.groupby(\"Comp\").avg(\"Métrica DF\").orderBy(\"avg(Métrica DF)\", ascending=False)\n",
    "df_def3.show()"
   ]
  },
  {
   "cell_type": "markdown",
   "metadata": {},
   "source": [
    "Concluimos que los mejores Defensas son de la Ligue 1"
   ]
  },
  {
   "cell_type": "markdown",
   "metadata": {},
   "source": [
    "Haremos algo similar para el resto de posiciones"
   ]
  },
  {
   "cell_type": "code",
   "execution_count": 92,
   "metadata": {},
   "outputs": [
    {
     "name": "stdout",
     "output_type": "stream",
     "text": [
      "+------------------+------------------+\n",
      "|              Comp|   avg(Métrica MF)|\n",
      "+------------------+------------------+\n",
      "|        it Serie A|2.2205263157894737|\n",
      "|     de Bundesliga|2.1953465346534653|\n",
      "|eng Premier League|2.1950406504065034|\n",
      "|        fr Ligue 1|2.0900000000000003|\n",
      "|        es La Liga|2.0490972222222226|\n",
      "+------------------+------------------+\n",
      "\n"
     ]
    }
   ],
   "source": [
    "df_med=df2.filter(col(\"Posicion 1\")==\"MF\")\n",
    "\n",
    "df_med2 = df_med.withColumn(\"Métrica MF\", col(\"npG+A/90\") + col(\"SuccDrib/90\") + col(\"KeyPass/90\") + col(\"Interceptions/90\") - col(\"Dispossessed/90\"))\n",
    "\n",
    "df_med3=df_med2.groupby(\"Comp\").avg(\"Métrica MF\").orderBy(\"avg(Métrica MF)\", ascending=False)\n",
    "df_med3.show()"
   ]
  },
  {
   "cell_type": "markdown",
   "metadata": {},
   "source": [
    "Nuevamente, los medios son mejores en la Serie A"
   ]
  },
  {
   "cell_type": "code",
   "execution_count": 96,
   "metadata": {},
   "outputs": [
    {
     "name": "stdout",
     "output_type": "stream",
     "text": [
      "+------------------+------------------+\n",
      "|              Comp|   avg(Métrica FW)|\n",
      "+------------------+------------------+\n",
      "|        it Serie A|1.1875229357798165|\n",
      "|     de Bundesliga|1.1374766355140185|\n",
      "|eng Premier League|1.0780769230769223|\n",
      "|        fr Ligue 1|0.9383185840707968|\n",
      "|        es La Liga|0.9249541284403666|\n",
      "+------------------+------------------+\n",
      "\n"
     ]
    },
    {
     "data": {
      "text/plain": [
       "['Comp', 'avg(Métrica FW)']"
      ]
     },
     "execution_count": 96,
     "metadata": {},
     "output_type": "execute_result"
    }
   ],
   "source": [
    "df_del=df2.filter(col(\"Posicion 1\")==\"FW\")\n",
    "\n",
    "df_del2 = df_del.withColumn(\"Métrica FW\", col(\"npxG+xA/90\") + col(\"SuccDrib/90\") + col(\"SoTs/90\") + col(\"Att 3rdTkl/90\") - col(\"Dispossessed/90\"))\n",
    "\n",
    "df_del3=df_del2.groupby(\"Comp\").avg(\"Métrica FW\").orderBy(\"avg(Métrica FW)\", ascending=False)\n",
    "df_del3.show()\n",
    "df_del3.columns"
   ]
  },
  {
   "cell_type": "markdown",
   "metadata": {},
   "source": [
    "Y curiosamente, nuevamente son los delanteros de la SerieA los que mejores métricas tienen"
   ]
  },
  {
   "cell_type": "code",
   "execution_count": 99,
   "metadata": {},
   "outputs": [
    {
     "name": "stderr",
     "output_type": "stream",
     "text": [
      "/opt/conda/lib/python3.11/site-packages/IPython/core/pylabtools.py:152: MatplotlibDeprecationWarning: savefig() got unexpected keyword argument \"orientation\" which is no longer supported as of 3.3 and will become an error two minor releases later\n",
      "  fig.canvas.print_figure(bytes_io, **kw)\n",
      "/opt/conda/lib/python3.11/site-packages/IPython/core/pylabtools.py:152: MatplotlibDeprecationWarning: savefig() got unexpected keyword argument \"dpi\" which is no longer supported as of 3.3 and will become an error two minor releases later\n",
      "  fig.canvas.print_figure(bytes_io, **kw)\n",
      "/opt/conda/lib/python3.11/site-packages/IPython/core/pylabtools.py:152: MatplotlibDeprecationWarning: savefig() got unexpected keyword argument \"facecolor\" which is no longer supported as of 3.3 and will become an error two minor releases later\n",
      "  fig.canvas.print_figure(bytes_io, **kw)\n",
      "/opt/conda/lib/python3.11/site-packages/IPython/core/pylabtools.py:152: MatplotlibDeprecationWarning: savefig() got unexpected keyword argument \"edgecolor\" which is no longer supported as of 3.3 and will become an error two minor releases later\n",
      "  fig.canvas.print_figure(bytes_io, **kw)\n",
      "/opt/conda/lib/python3.11/site-packages/IPython/core/pylabtools.py:152: MatplotlibDeprecationWarning: savefig() got unexpected keyword argument \"bbox_inches_restore\" which is no longer supported as of 3.3 and will become an error two minor releases later\n",
      "  fig.canvas.print_figure(bytes_io, **kw)\n"
     ]
    },
    {
     "data": {
      "image/png": "[encoded data removed]",
      "text/plain": [
       "<Figure size 1000x600 with 1 Axes>"
      ]
     },
     "metadata": {},
     "output_type": "display_data"
    }
   ],
   "source": [
    "import matplotlib.pyplot as plt\n",
    "import pandas as pd\n",
    "\n",
    "df_defp = df_def3.toPandas()\n",
    "\n",
    "plt.figure(figsize=(10, 6))\n",
    "plt.bar(df_defp['Comp'], df_defp['avg(Métrica DF)'])\n",
    "plt.xlabel('Liga')\n",
    "plt.ylabel('Métrica')\n",
    "plt.title('Gráfico de Barras')\n",
    "plt.show()"
   ]
  },
  {
   "cell_type": "code",
   "execution_count": 100,
   "metadata": {},
   "outputs": [
    {
     "name": "stderr",
     "output_type": "stream",
     "text": [
      "/opt/conda/lib/python3.11/site-packages/IPython/core/pylabtools.py:152: MatplotlibDeprecationWarning: savefig() got unexpected keyword argument \"orientation\" which is no longer supported as of 3.3 and will become an error two minor releases later\n",
      "  fig.canvas.print_figure(bytes_io, **kw)\n",
      "/opt/conda/lib/python3.11/site-packages/IPython/core/pylabtools.py:152: MatplotlibDeprecationWarning: savefig() got unexpected keyword argument \"dpi\" which is no longer supported as of 3.3 and will become an error two minor releases later\n",
      "  fig.canvas.print_figure(bytes_io, **kw)\n",
      "/opt/conda/lib/python3.11/site-packages/IPython/core/pylabtools.py:152: MatplotlibDeprecationWarning: savefig() got unexpected keyword argument \"facecolor\" which is no longer supported as of 3.3 and will become an error two minor releases later\n",
      "  fig.canvas.print_figure(bytes_io, **kw)\n",
      "/opt/conda/lib/python3.11/site-packages/IPython/core/pylabtools.py:152: MatplotlibDeprecationWarning: savefig() got unexpected keyword argument \"edgecolor\" which is no longer supported as of 3.3 and will become an error two minor releases later\n",
      "  fig.canvas.print_figure(bytes_io, **kw)\n",
      "/opt/conda/lib/python3.11/site-packages/IPython/core/pylabtools.py:152: MatplotlibDeprecationWarning: savefig() got unexpected keyword argument \"bbox_inches_restore\" which is no longer supported as of 3.3 and will become an error two minor releases later\n",
      "  fig.canvas.print_figure(bytes_io, **kw)\n"
     ]
    },
    {
     "data": {
      "image/png": "[encoded data removed]",
      "text/plain": [
       "<Figure size 1000x600 with 1 Axes>"
      ]
     },
     "metadata": {},
     "output_type": "display_data"
    }
   ],
   "source": [
    "df_medp = df_med3.toPandas()\n",
    "\n",
    "plt.figure(figsize=(10, 6))\n",
    "plt.bar(df_medp['Comp'], df_medp['avg(Métrica MF)'])\n",
    "plt.xlabel('Liga')\n",
    "plt.ylabel('Métrica')\n",
    "plt.title('Gráfico de Barras')\n",
    "plt.show()"
   ]
  },
  {
   "cell_type": "code",
   "execution_count": 101,
   "metadata": {},
   "outputs": [
    {
     "name": "stderr",
     "output_type": "stream",
     "text": [
      "/opt/conda/lib/python3.11/site-packages/IPython/core/pylabtools.py:152: MatplotlibDeprecationWarning: savefig() got unexpected keyword argument \"orientation\" which is no longer supported as of 3.3 and will become an error two minor releases later\n",
      "  fig.canvas.print_figure(bytes_io, **kw)\n",
      "/opt/conda/lib/python3.11/site-packages/IPython/core/pylabtools.py:152: MatplotlibDeprecationWarning: savefig() got unexpected keyword argument \"dpi\" which is no longer supported as of 3.3 and will become an error two minor releases later\n",
      "  fig.canvas.print_figure(bytes_io, **kw)\n",
      "/opt/conda/lib/python3.11/site-packages/IPython/core/pylabtools.py:152: MatplotlibDeprecationWarning: savefig() got unexpected keyword argument \"facecolor\" which is no longer supported as of 3.3 and will become an error two minor releases later\n",
      "  fig.canvas.print_figure(bytes_io, **kw)\n",
      "/opt/conda/lib/python3.11/site-packages/IPython/core/pylabtools.py:152: MatplotlibDeprecationWarning: savefig() got unexpected keyword argument \"edgecolor\" which is no longer supported as of 3.3 and will become an error two minor releases later\n",
      "  fig.canvas.print_figure(bytes_io, **kw)\n",
      "/opt/conda/lib/python3.11/site-packages/IPython/core/pylabtools.py:152: MatplotlibDeprecationWarning: savefig() got unexpected keyword argument \"bbox_inches_restore\" which is no longer supported as of 3.3 and will become an error two minor releases later\n",
      "  fig.canvas.print_figure(bytes_io, **kw)\n"
     ]
    },
    {
     "data": {
      "image/png": "[encoded data removed]",
      "text/plain": [
       "<Figure size 1000x600 with 1 Axes>"
      ]
     },
     "metadata": {},
     "output_type": "display_data"
    }
   ],
   "source": [
    "df_delp = df_del3.toPandas()\n",
    "\n",
    "plt.figure(figsize=(10, 6))\n",
    "plt.bar(df_delp['Comp'], df_delp['avg(Métrica FW)'])\n",
    "plt.xlabel('Liga')\n",
    "plt.ylabel('Métrica')\n",
    "plt.title('Gráfico de Barras')\n",
    "plt.show()"
   ]
  },
  {
   "cell_type": "markdown",
   "metadata": {
    "vscode": {
     "languageId": "plaintext"
    }
   },
   "source": [
    "### Ejercicio 2:"
   ]
  },
  {
   "cell_type": "markdown",
   "metadata": {},
   "source": [
    "Ahora hagamos algo un poco más interesante. Escoge algún jugador de todos los disponibles y toma 5 metricas, las que quieras. Debes concluir en qué percentil se encuentra el jugador en esas métricas que escogiste. Obviamente, vas a comparar sus valores con todos los demás con los que comparte posición y liga, para no tener un sesgo y que la información no pierda robustez. Por último, genera un DataFrame de Pyspark con todos los datos solicitados. Muestra el DataFrame y conviertelo a otro de tipo pandas. Muestra los dos."
   ]
  },
  {
   "cell_type": "code",
   "execution_count": 119,
   "metadata": {
    "vscode": {
     "languageId": "plaintext"
    }
   },
   "outputs": [
    {
     "name": "stdout",
     "output_type": "stream",
     "text": [
      "+-------+-------------------+------------------+------------------+------------------+------------------+\n",
      "|summary|           npG+A/90|       SuccDrib/90|        KeyPass/90|  Interceptions/90|   Dispossessed/90|\n",
      "+-------+-------------------+------------------+------------------+------------------+------------------+\n",
      "|  count|                133|               133|               133|               133|               133|\n",
      "|   mean|0.21067669172932332|  1.05624060150376|              1.15|1.0625563909774434|1.2589473684210528|\n",
      "| stddev| 0.1967662645417138|0.6006216495555144|0.7038594901101937|0.5181722746979657|0.6269131484454441|\n",
      "|    min|                0.0|               0.0|               0.0|               0.0|               0.0|\n",
      "|    max|               1.32|              3.15|               4.0|               3.4|              2.99|\n",
      "+-------+-------------------+------------------+------------------+------------------+------------------+\n",
      "\n"
     ]
    }
   ],
   "source": [
    "df_ej2 = df2.filter((col(\"Posicion 1\") == \"MF\") & (col(\"Comp\") == \"it Serie A\"))\n",
    "jugador=df_ej2.filter(col(\"Player\")==\"Nicolò Barella\").select(\"npG+A/90\", \"SuccDrib/90\", \"KeyPass/90\", \"Interceptions/90\", \"Dispossessed/90\")\n",
    "comparacion=df_ej2.select(\"npG+A/90\", \"SuccDrib/90\", \"KeyPass/90\", \"Interceptions/90\", \"Dispossessed/90\")\n",
    "\n",
    "comparacion.describe().show()"
   ]
  },
  {
   "cell_type": "code",
   "execution_count": 138,
   "metadata": {},
   "outputs": [
    {
     "data": {
      "text/plain": [
       "[72.93233082706767,\n",
       " 65.41353383458647,\n",
       " 75.93984962406014,\n",
       " 47.368421052631575,\n",
       " 56.390977443609025]"
      ]
     },
     "execution_count": 138,
     "metadata": {},
     "output_type": "execute_result"
    }
   ],
   "source": [
    "jugador_metrica=jugador.collect()[0]\n",
    "comparacion_metrica=comparacion.collect()\n",
    "nombre=\"Nicolò Barella\"\n",
    "metricas_selec=[\"npG+A/90\", \"SuccDrib/90\", \"KeyPass/90\", \"Interceptions/90\", \"Dispossessed/90\"]\n",
    "\n",
    "percentiles = []\n",
    "for metricas in [\"npG+A/90\", \"SuccDrib/90\", \"KeyPass/90\", \"Interceptions/90\", \"Dispossessed/90\"]:\n",
    "    metrica_jugador = getattr(jugador_metrica, metricas)\n",
    "    metrica_otros = [getattr(jugador, metricas) for jugador in comparacion_metrica]\n",
    "    percentile = sum(1 for value in metrica_otros if value <= metrica_jugador) / len(metrica_otros) * 100\n",
    "    percentiles.append(percentile)\n",
    "\n",
    "percentiles"
   ]
  },
  {
   "cell_type": "code",
   "execution_count": 140,
   "metadata": {},
   "outputs": [
    {
     "data": {
      "text/plain": [
       "[('npG+A/90', 72.93233082706767),\n",
       " ('SuccDrib/90', 65.41353383458647),\n",
       " ('KeyPass/90', 75.93984962406014),\n",
       " ('Interceptions/90', 47.368421052631575),\n",
       " ('Dispossessed/90', 56.390977443609025)]"
      ]
     },
     "execution_count": 140,
     "metadata": {},
     "output_type": "execute_result"
    }
   ],
   "source": [
    "columnas = [\"Métrica\", \"Percentil\"]\n",
    "filas=[]\n",
    "for metrica, percentile in zip(metricas_selec, percentiles):\n",
    "    filas.append((metrica, percentile))\n",
    "filas"
   ]
  },
  {
   "cell_type": "code",
   "execution_count": 142,
   "metadata": {},
   "outputs": [
    {
     "name": "stdout",
     "output_type": "stream",
     "text": [
      "+----------------+------------------+\n",
      "|         Métrica|         Percentil|\n",
      "+----------------+------------------+\n",
      "|        npG+A/90| 72.93233082706767|\n",
      "|     SuccDrib/90| 65.41353383458647|\n",
      "|      KeyPass/90| 75.93984962406014|\n",
      "|Interceptions/90|47.368421052631575|\n",
      "| Dispossessed/90|56.390977443609025|\n",
      "+----------------+------------------+\n",
      "\n"
     ]
    }
   ],
   "source": [
    "df_l = spark.createDataFrame(filas, schema=columnas)\n",
    "df_l.show()"
   ]
  },
  {
   "cell_type": "code",
   "execution_count": 145,
   "metadata": {},
   "outputs": [
    {
     "data": {
      "text/html": [
       "<div>\n",
       "<style scoped>\n",
       "    .dataframe tbody tr th:only-of-type {\n",
       "        vertical-align: middle;\n",
       "    }\n",
       "\n",
       "    .dataframe tbody tr th {\n",
       "        vertical-align: top;\n",
       "    }\n",
       "\n",
       "    .dataframe thead th {\n",
       "        text-align: right;\n",
       "    }\n",
       "</style>\n",
       "<table border=\"1\" class=\"dataframe\">\n",
       "  <thead>\n",
       "    <tr style=\"text-align: right;\">\n",
       "      <th></th>\n",
       "      <th>Métrica</th>\n",
       "      <th>Percentil</th>\n",
       "    </tr>\n",
       "  </thead>\n",
       "  <tbody>\n",
       "    <tr>\n",
       "      <th>0</th>\n",
       "      <td>npG+A/90</td>\n",
       "      <td>72.932331</td>\n",
       "    </tr>\n",
       "    <tr>\n",
       "      <th>1</th>\n",
       "      <td>SuccDrib/90</td>\n",
       "      <td>65.413534</td>\n",
       "    </tr>\n",
       "    <tr>\n",
       "      <th>2</th>\n",
       "      <td>KeyPass/90</td>\n",
       "      <td>75.939850</td>\n",
       "    </tr>\n",
       "    <tr>\n",
       "      <th>3</th>\n",
       "      <td>Interceptions/90</td>\n",
       "      <td>47.368421</td>\n",
       "    </tr>\n",
       "    <tr>\n",
       "      <th>4</th>\n",
       "      <td>Dispossessed/90</td>\n",
       "      <td>56.390977</td>\n",
       "    </tr>\n",
       "  </tbody>\n",
       "</table>\n",
       "</div>"
      ],
      "text/plain": [
       "            Métrica  Percentil\n",
       "0          npG+A/90  72.932331\n",
       "1       SuccDrib/90  65.413534\n",
       "2        KeyPass/90  75.939850\n",
       "3  Interceptions/90  47.368421\n",
       "4   Dispossessed/90  56.390977"
      ]
     },
     "execution_count": 145,
     "metadata": {},
     "output_type": "execute_result"
    }
   ],
   "source": [
    "df_pandas = df_l.toPandas()\n",
    "df_pandas.head()"
   ]
  },
  {
   "cell_type": "code",
   "execution_count": null,
   "metadata": {},
   "outputs": [],
   "source": []
  }
 ],
 "metadata": {
  "kernelspec": {
   "display_name": "Python 3 (ipykernel)",
   "language": "python",
   "name": "python3"
  },
  "language_info": {
   "codemirror_mode": {
    "name": "ipython",
    "version": 3
   },
   "file_extension": ".py",
   "mimetype": "text/x-python",
   "name": "python",
   "nbconvert_exporter": "python",
   "pygments_lexer": "ipython3",
   "version": "3.11.6"
  }
 },
 "nbformat": 4,
 "nbformat_minor": 4
}
