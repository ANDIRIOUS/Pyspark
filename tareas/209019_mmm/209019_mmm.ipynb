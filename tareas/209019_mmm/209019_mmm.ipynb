{
 "cells": [
  {
   "cell_type": "markdown",
   "metadata": {},
   "source": [
    "# Tarea PySpark"
   ]
  },
  {
   "cell_type": "markdown",
   "metadata": {},
   "source": [
    "### Objetivo:\n",
    " Analizar la eficiencia de los jugadores en términos generales y por posición, así como determinar la contribución al equipo por jugador tomando en cuenta los datos obtenidos"
   ]
  },
  {
   "cell_type": "markdown",
   "metadata": {},
   "source": [
    "Usarás la base de datos del archivo 'fusbol.csv' para obtener tus datos. Checa la estructura del archivo para ver si es necesario limpiar la informacion, ver su estructura y así sea más fácil completar la tarea. Besos."
   ]
  },
  {
   "cell_type": "markdown",
   "metadata": {},
   "source": [
    "### Ejercicio 1:\n",
    "Carga la base de datos en un DataFrame de Pyspark (con 2 nucleos). Valida los rangos de los valores donde sea aplicable, así como su corrección (en caso de ser necesaria). \n",
    "Después, utilizando las variables más relevantes como 'Ast/90', 'PassCmp%', etc., concluye qué ligas tienen los mejores jugadores por posición. Es decir, si los mejores jugadores defensas son de la liga francesa, inglesa, etc., por ejemplo.\n",
    "Como cada persona tiene una definición de \"mejor\", utiliza las siguientes metricas por posición:\n",
    "- Delanteros: npG+A/90 y npxG+xA/90\n",
    "- Medios: KeyPass/90 y PassCmp%\n",
    "- Defensas: PressSucc% y Interceptions/90\n",
    "\n",
    "Con los resultados obtenidos, grafica por posición para que tu conclusión tenga un respaldo visual también."
   ]
  },
  {
   "cell_type": "code",
   "execution_count": null,
   "metadata": {},
   "outputs": [],
   "source": [
    "import findspark\n",
    "findspark.init()\n",
    "from pyspark.sql import SparkSession\n",
    "from pyspark.sql.functions import col, sum, when, avg, percent_rank\n",
    "from pyspark.sql.window import Window\n",
    "import matplotlib.pyplot as plt\n",
    "import numpy as np"
   ]
  },
  {
   "cell_type": "code",
   "execution_count": null,
   "metadata": {},
   "outputs": [],
   "source": [
    "spark = SparkSession.builder.appName('tareaPySpark')\\\n",
    "    .config('spark.master', 'local[2]')\\\n",
    "    .config('spark.executor.memory', '1g')\\\n",
    "    .config(\"spark.sql.shuffle.partitions\", 10)\\\n",
    "    .config('spark.driver.memory','1g')\\\n",
    "    .getOrCreate()"
   ]
  },
  {
   "cell_type": "code",
   "execution_count": null,
   "metadata": {},
   "outputs": [],
   "source": [
    "df_futbol = spark.read.csv('fusbol.csv', header=True, inferSchema=True)\n",
    "df_futbol.show()"
   ]
  },
  {
   "cell_type": "code",
   "execution_count": null,
   "metadata": {},
   "outputs": [],
   "source": [
    "#Observamos la estructura del df para checar que los dateos sean coherentes\n",
    "df_futbol.printSchema()"
   ]
  },
  {
   "cell_type": "code",
   "execution_count": null,
   "metadata": {},
   "outputs": [],
   "source": [
    "#Tiramos nulls\n",
    "df_futbol= df_futbol.dropna()\n",
    "df_futbol.count()"
   ]
  },
  {
   "cell_type": "code",
   "execution_count": null,
   "metadata": {},
   "outputs": [],
   "source": [
    "#Validamos los porcentajes que vamos a usar (PassCmp% y PressSucc%)\n",
    "#Si está por arriba de 100 lo toopamos en 100, si está por debajo de 0 lo ponemos en 0\n",
    "df_futbol = df_futbol.withColumn('PassCmp%', when(col('PassCmp%') > 100, 100).otherwise(col('PassCmp%')))\n",
    "df_futbol = df_futbol.withColumn('PassCmp%', when(col('PassCmp%') < 0, 0).otherwise(col('PassCmp%')))\n",
    "df_futbol = df_futbol.withColumn('PressSucc%', when(col('PressSucc%') > 100, 100).otherwise(col('PressSucc%')))\n",
    "df_futbol = df_futbol.withColumn('PressSucc%', when(col('PressSucc%') < 0, 0).otherwise(col('PressSucc%')))"
   ]
  },
  {
   "cell_type": "code",
   "execution_count": null,
   "metadata": {},
   "outputs": [],
   "source": [
    "#Incluimos todos los que sean delanteros, aunque también jueguen de medios\n",
    "delanteros=df_futbol.filter(col('pos').like(\"%FW%\"))"
   ]
  },
  {
   "cell_type": "code",
   "execution_count": null,
   "metadata": {},
   "outputs": [],
   "source": [
    "#Agrupamos por liga\n",
    "delanteros_stats=delanteros.groupBy('Comp').agg(avg('npG+A/90').alias('avg_npG+A/90'), avg('npxG+xA/90').alias('avg_npxG+xA/90'))\n",
    "delanteros_stats_pd=delanteros_stats.toPandas()\n",
    "delanteros_stats.show()"
   ]
  },
  {
   "cell_type": "markdown",
   "metadata": {},
   "source": [
    "Parece ser que los mejores delanteros son los de la Serie A, seguidos de cerca por los de la Bundesliga"
   ]
  },
  {
   "cell_type": "code",
   "execution_count": null,
   "metadata": {},
   "outputs": [],
   "source": [
    "# Configuración de la figura\n",
    "plt.figure(figsize=(10, 8))\n",
    "\n",
    "# Crear un scatter plot\n",
    "for comp in delanteros_stats_pd['Comp'].unique():\n",
    "    subset = delanteros_stats_pd[delanteros_stats_pd['Comp'] == comp]\n",
    "    plt.scatter(subset['avg_npG+A/90'], subset['avg_npxG+xA/90'], label=comp, s=50)  # s controla el tamaño del punto\n",
    "\n",
    "# Añadir leyenda\n",
    "plt.legend(title='Competition')\n",
    "\n",
    "# Añadir títulos y etiquetas\n",
    "plt.title('Comparison of Average Performance Metrics by Competition')\n",
    "plt.xlabel('Average Goals and Assists per 90')\n",
    "plt.ylabel('Average Expected Goals and Assists per 90')\n",
    "\n",
    "# Mostrar la gráfica\n",
    "plt.show()"
   ]
  },
  {
   "cell_type": "code",
   "execution_count": null,
   "metadata": {},
   "outputs": [],
   "source": [
    "medios=df_futbol.filter(col('pos').like(\"%MF%\"))"
   ]
  },
  {
   "cell_type": "code",
   "execution_count": null,
   "metadata": {},
   "outputs": [],
   "source": [
    "medios_stats=medios.groupBy('Comp').agg(avg('KeyPass/90').alias('avg_KeyPass/90'), avg('PassCmp%').alias('avg_PassCmp%'))\n",
    "medios_stats_pd=medios_stats.toPandas()\n",
    "medios_stats.show()"
   ]
  },
  {
   "cell_type": "markdown",
   "metadata": {},
   "source": [
    "En este caso es un poco más difícil ver qué liga es superior. Depende cuál de las dos estadísticas valoremos más. Sin embargo, parece que las mejores son la Serie A, mientras los peores son los de La Liga."
   ]
  },
  {
   "cell_type": "code",
   "execution_count": null,
   "metadata": {},
   "outputs": [],
   "source": [
    "# Configuración de la figura\n",
    "plt.figure(figsize=(10, 8))\n",
    "\n",
    "# Crear un scatter plot\n",
    "for comp in medios_stats_pd['Comp'].unique():\n",
    "    subset = medios_stats_pd[medios_stats_pd['Comp'] == comp]\n",
    "    plt.scatter(subset['avg_KeyPass/90'], subset['avg_PassCmp%'], label=comp, s=50)  # s controla el tamaño del punto\n",
    "\n",
    "# Añadir leyenda\n",
    "plt.legend(title='Competition')\n",
    "\n",
    "# Añadir títulos y etiquetas\n",
    "plt.title('Comparison of Average Midfield Performance Metrics by Competition')\n",
    "plt.xlabel('Average Key Passes per 90')\n",
    "plt.ylabel('Average Pass Completion %')\n",
    "\n",
    "# Mostrar la gráfica\n",
    "plt.show()"
   ]
  },
  {
   "cell_type": "code",
   "execution_count": null,
   "metadata": {},
   "outputs": [],
   "source": [
    "defensas=df_futbol.filter(col('pos').like(\"%DF%\"))"
   ]
  },
  {
   "cell_type": "code",
   "execution_count": null,
   "metadata": {},
   "outputs": [],
   "source": [
    "defensas_stats=defensas.groupBy('Comp').agg(avg('PressSucc%').alias('avg_PressSucc%'), avg('Interceptions/90').alias('avg_Interceptions/90'))\n",
    "defensas_stats_pd=defensas_stats.toPandas()\n",
    "defensas_stats.show()"
   ]
  },
  {
   "cell_type": "markdown",
   "metadata": {},
   "source": [
    "Aquí se aprecia claramente que los defensas de la Bundesliga y la Ligue 1 son los mejores."
   ]
  },
  {
   "cell_type": "code",
   "execution_count": null,
   "metadata": {},
   "outputs": [],
   "source": [
    "# Configuración de la figura\n",
    "plt.figure(figsize=(10, 8))\n",
    "\n",
    "# Crear un scatter plot\n",
    "for comp in defensas_stats_pd['Comp'].unique():\n",
    "    subset = defensas_stats_pd[defensas_stats_pd['Comp'] == comp]\n",
    "    plt.scatter(subset['avg_PressSucc%'], subset['avg_Interceptions/90'], label=comp, s=50)  # s controla el tamaño del punto\n",
    "\n",
    "# Añadir leyenda\n",
    "plt.legend(title='Competition')\n",
    "\n",
    "# Añadir títulos y etiquetas\n",
    "plt.title('Comparison of Average Defensive Performance Metrics by Competition')\n",
    "plt.xlabel('Average Press Success %')\n",
    "plt.ylabel('Average Interceptions per 90')\n",
    "\n",
    "# Mostrar la gráfica\n",
    "plt.show()"
   ]
  },
  {
   "cell_type": "markdown",
   "metadata": {
    "vscode": {
     "languageId": "plaintext"
    }
   },
   "source": [
    "### Ejercicio 2:"
   ]
  },
  {
   "cell_type": "markdown",
   "metadata": {},
   "source": [
    "Ahora hagamos algo un poco más interesante. Escoge algún jugador de todos los disponibles y toma 5 metricas, las que quieras. Debes concluir en qué percentil se encuentra el jugador en esas métricas que escogiste. Obviamente, vas a comparar sus valores con todos los demás con los que comparte posición y liga, para no tener un sesgo y que la información no pierda robustez. Por último, genera un DataFrame de Pyspark con todos los datos solicitados. Muestra el DataFrame y conviertelo a otro de tipo pandas. Muestra los dos."
   ]
  },
  {
   "cell_type": "code",
   "execution_count": null,
   "metadata": {},
   "outputs": [],
   "source": [
    "#Checo si existe el jugador que quiero\n",
    "df_futbol.filter(df_futbol['Player'] == \"Cristiano Ronaldo\").show()"
   ]
  },
  {
   "cell_type": "markdown",
   "metadata": {},
   "source": [
    "Observemos que es un delantero de la Serie A"
   ]
  },
  {
   "cell_type": "code",
   "execution_count": null,
   "metadata": {},
   "outputs": [],
   "source": [
    "#Filtramos para sólo tener jugadores de su posición que jueguen en la misma liga\n",
    "df_delanterosSerieA=df_futbol.filter((df_futbol['Comp']== 'it Serie A') & (col('pos').like(\"%FW%\")))\n",
    "df_delanterosSerieA.show()"
   ]
  },
  {
   "cell_type": "code",
   "execution_count": null,
   "metadata": {},
   "outputs": [],
   "source": [
    "df_delanterosSerieA.count()"
   ]
  },
  {
   "cell_type": "code",
   "execution_count": null,
   "metadata": {},
   "outputs": [],
   "source": [
    "#Creamos ventanas ordenadas con las métricas por las que vamos a evaluar\n",
    "window_npG=Window.orderBy(col('npG/90').desc())\n",
    "window_npGA=Window.orderBy(col('npG+A/90').desc())\n",
    "window_passComp=Window.orderBy(col('PassCmp/90').desc())\n",
    "window_keyPass=Window.orderBy(col('KeyPass/90').desc())\n",
    "window_SuccDrib=Window.orderBy(col('SuccDrib/90').desc())\n",
    "\n",
    "df_delanterosSerieA = df_delanterosSerieA.withColumn('percentile_npG/90', percent_rank().over(window_npG))\n",
    "df_delanterosSerieA = df_delanterosSerieA.withColumn('percentile_npG+A/90', percent_rank().over(window_npGA))\n",
    "df_delanterosSerieA = df_delanterosSerieA.withColumn('percentile_PassCmp/90', percent_rank().over(window_passComp))\n",
    "df_delanterosSerieA = df_delanterosSerieA.withColumn('percentile_KeyPass/90', percent_rank().over(window_keyPass))\n",
    "df_delanterosSerieA = df_delanterosSerieA.withColumn('percentile_SuccDrib/90', percent_rank().over(window_SuccDrib))"
   ]
  },
  {
   "cell_type": "code",
   "execution_count": null,
   "metadata": {},
   "outputs": [],
   "source": [
    "cristiano= df_delanterosSerieA.filter(df_delanterosSerieA['Player'] == 'Cristiano Ronaldo')\n",
    "cristiano_stats=cristiano.select('Player','percentile_npG/90', 'percentile_npG+A/90', 'percentile_PassCmp/90', 'percentile_KeyPass/90', 'percentile_SuccDrib/90')\n",
    "cristiano_stats_pd=cristiano_stats.toPandas()"
   ]
  },
  {
   "cell_type": "code",
   "execution_count": null,
   "metadata": {},
   "outputs": [],
   "source": [
    "cristiano_stats.show()"
   ]
  },
  {
   "cell_type": "code",
   "execution_count": null,
   "metadata": {},
   "outputs": [],
   "source": [
    "cristiano_stats_pd"
   ]
  }
 ],
 "metadata": {
  "language_info": {
   "name": "python"
  }
 },
 "nbformat": 4,
 "nbformat_minor": 2
}
