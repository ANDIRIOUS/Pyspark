{
 "cells": [
  {
   "cell_type": "markdown",
   "metadata": {},
   "source": [
    "# Tarea PySpark"
   ]
  },
  {
   "cell_type": "markdown",
   "metadata": {},
   "source": [
    "### Objetivo:\n",
    " Analizar la eficiencia de los jugadores en términos generales y por posición, así como determinar la contribución al equipo por jugador tomando en cuenta los datos obtenidos"
   ]
  },
  {
   "cell_type": "markdown",
   "metadata": {},
   "source": [
    "Usarás la base de datos del archivo 'fusbol.csv' para obtener tus datos. Checa la estructura del archivo para ver si es necesario limpiar la informacion, ver su estructura y así sea más fácil completar la tarea. Besos."
   ]
  },
  {
   "cell_type": "markdown",
   "metadata": {},
   "source": [
    "### Ejercicio 1:\n",
    "Carga la base de datos en un DataFrame de Pyspark (con 2 nucleos). Valida los rangos de los valores donde sea aplicable, así como su corrección (en caso de ser necesaria). \n",
    "Después, utilizando las variables más relevantes como 'Ast/90', 'PassCmp%', etc., concluye qué ligas tienen los mejores jugadores por posición. Es decir, si los mejores jugadores defensas son de la liga francesa, inglesa, etc., por ejemplo.\n",
    "Como cada persona tiene una definición de \"mejor\", utiliza las siguientes metricas por posición:\n",
    "- Delanteros: npG+A/90 y npxG+xA/90\n",
    "- Medios: KeyPass/90 y PassCmp%\n",
    "- Defensas: PressSucc% y Interceptions/90\n",
    "\n",
    "Con los resultados obtenidos, grafica por posición para que tu conclusión tenga un respaldo visual también."
   ]
  },
  {
   "cell_type": "code",
   "execution_count": null,
   "metadata": {},
   "outputs": [],
   "source": [
    "import findspark\n",
    "findspark.init()\n",
    "from pyspark.sql import SparkSession\n",
    "from pyspark.sql.functions import col, sum, when, avg, percent_rank\n",
    "from pyspark.sql.window import Window\n",
    "import matplotlib.pyplot as plt\n",
    "import numpy as np"
   ]
  },
  {
   "cell_type": "code",
   "execution_count": null,
   "metadata": {},
   "outputs": [],
   "source": [
    "#Esto me lo dijo ChatGPT\n",
    "spark = SparkSession.builder.appName('tarea')\\\n",
    "    .config('spark.master', 'local[2]')\\\n",
    "    .config('spark.executor.memory', '1g')\\\n",
    "    .config(\"spark.sql.shuffle.partitions\", 10)\\\n",
    "    .config('spark.driver.memory','1g')\\\n",
    "    .getOrCreate()"
   ]
  },
  {
   "cell_type": "code",
   "execution_count": null,
   "metadata": {},
   "outputs": [],
   "source": [
    "df = spark.read.csv('fusbol.csv', header=True, inferSchema=True)"
   ]
  },
  {
   "cell_type": "code",
   "execution_count": null,
   "metadata": {},
   "outputs": [],
   "source": [
    "df= df.dropna()"
   ]
  },
  {
   "cell_type": "code",
   "execution_count": null,
   "metadata": {},
   "outputs": [],
   "source": [
    "df = df.withColumn('PassCmp%', when(col('PassCmp%') > 100, 100).otherwise(col('PassCmp%')))\n",
    "df = df.withColumn('PassCmp%', when(col('PassCmp%') < 0, 0).otherwise(col('PassCmp%')))\n",
    "df = df.withColumn('PressSucc%', when(col('PressSucc%') > 100, 100).otherwise(col('PressSucc%')))\n",
    "df = df.withColumn('PressSucc%', when(col('PressSucc%') < 0, 0).otherwise(col('PressSucc%')))"
   ]
  },
  {
   "cell_type": "markdown",
   "metadata": {},
   "source": [
    "### Delanteros"
   ]
  },
  {
   "cell_type": "code",
   "execution_count": null,
   "metadata": {},
   "outputs": [],
   "source": [
    "delanteros=df.filter(col('pos').like(\"%FW%\"))\n",
    "del_met=delanteros.groupBy('Comp').agg(avg('npG+A/90').alias('prom_npG+A/90'), avg('npxG+xA/90').alias('prom_npxG+xA/90'))\n",
    "del_met.show()"
   ]
  },
  {
   "cell_type": "code",
   "execution_count": null,
   "metadata": {},
   "outputs": [],
   "source": [
    "# Extract data from DataFrame\n",
    "competitions = del_met.select('Comp').rdd.flatMap(lambda x: x).collect()\n",
    "prom_npG_A_90 = del_met.select('prom_npG+A/90').rdd.flatMap(lambda x: x).collect()\n",
    "prom_npxG_xA_90 = del_met.select('prom_npxG+xA/90').rdd.flatMap(lambda x: x).collect()\n",
    "\n",
    "# Plot data\n",
    "plt.figure(figsize=(10, 6))\n",
    "bar_width = 0.35\n",
    "index = range(len(competitions))\n",
    "\n",
    "plt.bar(index, prom_npG_A_90, bar_width, label='prom_npG+A/90')\n",
    "plt.bar([i + bar_width for i in index], prom_npxG_xA_90, bar_width, label='prom_npxG+xA/90')\n",
    "\n",
    "# Add labels and title\n",
    "plt.xlabel('Liga')\n",
    "plt.ylabel('Resultado')\n",
    "plt.title('Métrica por cada liga')\n",
    "plt.xticks([i + bar_width / 2 for i in index], competitions, rotation=45)\n",
    "plt.legend()\n",
    "\n",
    "plt.tight_layout()\n",
    "plt.show()"
   ]
  },
  {
   "cell_type": "markdown",
   "metadata": {},
   "source": [
    "La mejor en este caso es la it Serie A porque le va mejor en ambas variables en delanteros"
   ]
  },
  {
   "cell_type": "markdown",
   "metadata": {},
   "source": [
    "### Medios"
   ]
  },
  {
   "cell_type": "code",
   "execution_count": null,
   "metadata": {},
   "outputs": [],
   "source": [
    "medios=df.filter(col('pos').like(\"%MF%\"))\n",
    "med_met=medios.groupBy('Comp').agg(avg('KeyPass/90').alias('avg_KeyPass/90'), avg('PassCmp%').alias('avg_PassCmp%'))\n",
    "med_met.show()"
   ]
  },
  {
   "cell_type": "code",
   "execution_count": null,
   "metadata": {},
   "outputs": [],
   "source": [
    "# Extract data from DataFrame\n",
    "competitions_med = med_met.select('Comp').rdd.flatMap(lambda x: x).collect()\n",
    "avg_key_pass_90 = med_met.select('avg_KeyPass/90').rdd.flatMap(lambda x: x).collect()\n",
    "avg_pass_cmp = med_met.select('avg_PassCmp%').rdd.flatMap(lambda x: x).collect()\n",
    "\n",
    "# Plot data\n",
    "plt.figure(figsize=(10, 6))\n",
    "bar_width = 0.35\n",
    "index = range(len(competitions_med))\n",
    "\n",
    "plt.bar(index, avg_key_pass_90, bar_width, label='Average Key Passes/90')\n",
    "plt.bar([i + bar_width for i in index], avg_pass_cmp, bar_width, label='Average Pass Completion %')\n",
    "\n",
    "# Add labels and title\n",
    "plt.xlabel('Competition')\n",
    "plt.ylabel('Average Metric')\n",
    "plt.title('Average Metrics by Competition (Midfielders)')\n",
    "plt.xticks([i + bar_width / 2 for i in index], competitions_med, rotation=45)\n",
    "plt.legend()\n",
    "\n",
    "plt.tight_layout()\n",
    "plt.show()"
   ]
  },
  {
   "cell_type": "markdown",
   "metadata": {},
   "source": [
    "Como no se ve muy bien, usaremos otra gráfica"
   ]
  },
  {
   "cell_type": "code",
   "execution_count": null,
   "metadata": {},
   "outputs": [],
   "source": [
    "# Extract data from DataFrame\n",
    "avg_key_pass_90 = med_met.select('avg_KeyPass/90').rdd.flatMap(lambda x: x).collect()\n",
    "avg_pass_cmp_percent = med_met.select('avg_PassCmp%').rdd.flatMap(lambda x: x).collect()\n",
    "competitions = med_met.select('Comp').rdd.flatMap(lambda x: x).collect()\n",
    "\n",
    "# Plot data\n",
    "plt.figure(figsize=(10, 6))\n",
    "\n",
    "plt.scatter(avg_key_pass_90, avg_pass_cmp_percent, label='Competitions')\n",
    "\n",
    "# Add labels and title\n",
    "plt.xlabel('Average KeyPass/90')\n",
    "plt.ylabel('Average PassCmp%')\n",
    "plt.title('Average Metrics for Midfielders by Competition')\n",
    "\n",
    "# Add competition labels for each point\n",
    "for i, txt in enumerate(competitions):\n",
    "    plt.annotate(txt, (avg_key_pass_90[i], avg_pass_cmp_percent[i]), xytext=(5, -5), textcoords='offset points')\n",
    "\n",
    "plt.grid(True)\n",
    "plt.legend()\n",
    "\n",
    "plt.tight_layout()\n",
    "plt.show()"
   ]
  },
  {
   "cell_type": "markdown",
   "metadata": {},
   "source": [
    "Va a depender de qué nos interesa más peroestá entre la serie A y la Premier League en medios"
   ]
  },
  {
   "cell_type": "code",
   "execution_count": null,
   "metadata": {},
   "outputs": [],
   "source": [
    "### Defensas"
   ]
  },
  {
   "cell_type": "code",
   "execution_count": null,
   "metadata": {},
   "outputs": [],
   "source": [
    "defensas=df.filter(col('pos').like(\"%DF%\"))\n",
    "def_met=defensas.groupBy('Comp').agg(avg('PressSucc%').alias('avg_PressSucc%'), avg('Interceptions/90').alias('avg_Interceptions/90'))\n",
    "def_met.show()"
   ]
  },
  {
   "cell_type": "code",
   "execution_count": null,
   "metadata": {},
   "outputs": [],
   "source": [
    "# Extract data from DataFrame\n",
    "competitions = def_met.select('Comp').rdd.flatMap(lambda x: x).collect()\n",
    "avg_press_succ = def_met.select('avg_PressSucc%').rdd.flatMap(lambda x: x).collect()\n",
    "avg_interceptions_90 = def_met.select('avg_Interceptions/90').rdd.flatMap(lambda x: x).collect()\n",
    "\n",
    "# Plot data\n",
    "plt.figure(figsize=(10, 6))\n",
    "bar_width = 0.35\n",
    "index = range(len(competitions))\n",
    "\n",
    "plt.bar(index, avg_press_succ, bar_width, label='avg_PressSucc%')\n",
    "plt.bar([i + bar_width for i in index], avg_interceptions_90, bar_width, label='avg_Interceptions/90')\n",
    "\n",
    "# Add labels and title\n",
    "plt.xlabel('Competition')\n",
    "plt.ylabel('Average Metric')\n",
    "plt.title('Average Metrics by Competition for Defenders')\n",
    "plt.xticks([i + bar_width / 2 for i in index], competitions, rotation=45)\n",
    "plt.legend()"
   ]
  },
  {
   "cell_type": "code",
   "execution_count": null,
   "metadata": {},
   "outputs": [],
   "source": [
    "\n",
    "# Extract data from DataFrame\n",
    "avg_press_succ = def_met.select('avg_PressSucc%').rdd.flatMap(lambda x: x).collect()\n",
    "avg_interceptions_90 = def_met.select('avg_Interceptions/90').rdd.flatMap(lambda x: x).collect()\n",
    "competitions = def_met.select('Comp').rdd.flatMap(lambda x: x).collect()\n",
    "\n",
    "# Plot data\n",
    "plt.figure(figsize=(10, 6))\n",
    "\n",
    "plt.scatter(avg_press_succ, avg_interceptions_90, label='Competitions')\n",
    "\n",
    "# Add labels and title\n",
    "plt.xlabel('Average PressSucc%')\n",
    "plt.ylabel('Average Interceptions/90')\n",
    "plt.title('Average Metrics for Defenders by Competition')\n",
    "\n",
    "# Add competition labels for each point\n",
    "for i, txt in enumerate(competitions):\n",
    "    plt.annotate(txt, (avg_press_succ[i], avg_interceptions_90[i]), xytext=(5, -5), textcoords='offset points')\n",
    "\n",
    "plt.grid(True)\n",
    "plt.legend()\n",
    "\n",
    "plt.tight_layout()\n",
    "plt.show()\n"
   ]
  },
  {
   "cell_type": "markdown",
   "metadata": {},
   "source": [
    "Aquí vemos que está entre la Bundesliga y Ligue 1 en defensas"
   ]
  },
  {
   "cell_type": "markdown",
   "metadata": {
    "vscode": {
     "languageId": "plaintext"
    }
   },
   "source": [
    "### Ejercicio 2:"
   ]
  },
  {
   "cell_type": "markdown",
   "metadata": {},
   "source": [
    "Ahora hagamos algo un poco más interesante. Escoge algún jugador de todos los disponibles y toma 5 metricas, las que quieras. Debes concluir en qué percentil se encuentra el jugador en esas métricas que escogiste. Obviamente, vas a comparar sus valores con todos los demás con los que comparte posición y liga, para no tener un sesgo y que la información no pierda robustez. Por último, genera un DataFrame de Pyspark con todos los datos solicitados. Muestra el DataFrame y conviertelo a otro de tipo pandas. Muestra los dos."
   ]
  },
  {
   "cell_type": "code",
   "execution_count": null,
   "metadata": {},
   "outputs": [],
   "source": [
    "jugador = df.filter(df['Player'] == \"Robert Lewandowski\")\n",
    "jugador.show()"
   ]
  },
  {
   "cell_type": "code",
   "execution_count": null,
   "metadata": {},
   "outputs": [],
   "source": [
    "solo_delanteros_bundesliga=df.filter((df['Comp']== 'de Bundesliga') & (col('pos').like(\"%FW%\")))\n",
    "columns_windows = [\n",
    "    ('npG/90', Window.orderBy(col('npG/90').desc())),\n",
    "    ('npG+A/90', Window.orderBy(col('npG+A/90').desc())),\n",
    "    ('Interceptions/90', Window.orderBy(col('Interceptions/90').desc())),\n",
    "    ('KeyPass/90', Window.orderBy(col('KeyPass/90').desc())),\n",
    "    ('SuccDrib/90', Window.orderBy(col('SuccDrib/90').desc()))\n",
    "]\n",
    "\n",
    "# La neta no se de futbol entonces elegí las estadísticas que me dio ChatGPT\n",
    "for column, window in columns_windows:\n",
    "    percentile_column = f'percentile_{column}'\n",
    "    solo_delanteros_bundesliga = solo_delanteros_bundesliga.withColumn(percentile_column, percent_rank().over(window))\n",
    "jugador= solo_delanteros_bundesliga.filter(solo_delanteros_bundesliga['Player'] == 'Robert Lewandowski')\n",
    "metricas=jugador.select('Player','percentile_npG/90', 'percentile_npG+A/90', 'percentile_Interceptions/90', 'percentile_KeyPass/90', 'percentile_SuccDrib/90')\n",
    "metricas.show()"
   ]
  }
 ],
 "metadata": {
  "kernelspec": {
   "display_name": "base",
   "language": "python",
   "name": "python3"
  },
  "language_info": {
   "codemirror_mode": {
    "name": "ipython",
    "version": 3
   },
   "file_extension": ".py",
   "mimetype": "text/x-python",
   "name": "python",
   "nbconvert_exporter": "python",
   "pygments_lexer": "ipython3",
   "version": "3.11.5"
  }
 },
 "nbformat": 4,
 "nbformat_minor": 2
}
