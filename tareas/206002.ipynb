{
 "cells": [
  {
   "cell_type": "markdown",
   "metadata": {},
   "source": [
    "# Tarea PySpark"
   ]
  },
  {
   "cell_type": "markdown",
   "metadata": {},
   "source": [
    "### Objetivo:\n",
    " Analizar la eficiencia de los jugadores en términos generales y por posición, así como determinar la contribución al equipo por jugador tomando en cuenta los datos obtenidos"
   ]
  },
  {
   "cell_type": "markdown",
   "metadata": {},
   "source": [
    "Usarás la base de datos del archivo 'fusbol.csv' para obtener tus datos. Checa la estructura del archivo para ver si es necesario limpiar la informacion, ver su estructura y así sea más fácil completar la tarea. Besos."
   ]
  },
  {
   "cell_type": "markdown",
   "metadata": {},
   "source": [
    "### Ejercicio 1:\n",
    "Carga la base de datos en un DataFrame de Pyspark (con 2 nucleos). Valida los rangos de los valores donde sea aplicable, así como su corrección (en caso de ser necesaria). \n",
    "Después, utilizando las variables más relevantes como 'Ast/90', 'PassCmp%', etc., concluye qué ligas tienen los mejores jugadores por posición. Es decir, si los mejores jugadores defensas son de la liga francesa, inglesa, etc., por ejemplo.\n",
    "Como cada persona tiene una definición de \"mejor\", utiliza las siguientes metricas por posición:\n",
    "- Delanteros: npG+A/90 y npxG+xA/90\n",
    "- Medios: KeyPass/90 y PassCmp%\n",
    "- Defensas: PressSucc% y Interceptions/90\n",
    "\n",
    "Con los resultados obtenidos, grafica por posición para que tu conclusión tenga un respaldo visual también."
   ]
  },
  {
   "cell_type": "code",
   "execution_count": null,
   "metadata": {
    "vscode": {
     "languageId": "plaintext"
    }
   },
   "outputs": [],
   "source": [
    "import findspar\n",
    "findspark.init()\n",
    "from pyspark.sql import SparkSession\n",
    "spark = SparkSession.builder.appName('firstSession')\\\n",
    "    .config('spark.master', 'local[2]')\\\n",
    "    .config('spark.executor.memory', '1g')\\\n",
    "    .config(\"spark.sql.shuffle.partitions\", 10)\\\n",
    "    .config('spark.driver.memory','1g')\\\n",
    "    .getOrCreate()\n",
    "spark"
   ]
  },
  {
   "cell_type": "code",
   "execution_count": null,
   "metadata": {
    "vscode": {
     "languageId": "plaintext"
    }
   },
   "outputs": [],
   "source": [
    "df_c = spark.read.csv('fusbol.csv', header=True, inferSchema=True)\n",
    "df_c.show()"
   ]
  },
  {
   "cell_type": "code",
   "execution_count": null,
   "metadata": {
    "vscode": {
     "languageId": "plaintext"
    }
   },
   "outputs": [],
   "source": [
    "df_c.printSchema()"
   ]
  },
  {
   "cell_type": "code",
   "execution_count": null,
   "metadata": {
    "vscode": {
     "languageId": "plaintext"
    }
   },
   "outputs": [],
   "source": [
    "from pyspark.sql.functions import avg, desc\n",
    "delanteros_por_liga = df_c.filter(df_c[\"Pos\"] == \"FW\").groupby(\"Comp\").agg(\n",
    "    avg(\"npG+A/90\").alias(\"Promedio_npG_A_90\"),\n",
    "    avg(\"npxG+xA/90\").alias(\"Promedio_npxG_xA_90\")\n",
    ").orderBy(desc(\"Promedio_npG_A_90\"), desc(\"Promedio_npxG_xA_90\"))\n",
    "\n",
    "delanteros_por_liga.show()\n",
    "\n",
    "medios_por_comp = df_c.filter(df_c[\"Pos\"] == \"MF\").groupby(\"Comp\").agg(\n",
    "    avg(df_c[\"KeyPass/90\"]).alias(\"Promedio_KeyPass_90\"),\n",
    "    avg(df_c[\"PassCmp%\"]).alias(\"Promedio_PassCmp_porcentaje\")\n",
    ").orderBy(desc(\"Promedio_KeyPass_90\"), desc(\"Promedio_PassCmp_porcentaje\"))\n",
    "medios_por_comp.show()\n",
    "\n",
    "\n",
    "defensas_por_comp = df_c.filter(df_c[\"Pos\"] == \"DF\").groupby(\"Comp\").agg(\n",
    "    avg(df_c[\"PressSucc%\"]).alias(\"Promedio_PressSucc_porcentaje\"),\n",
    "    avg(df_c[\"Interceptions/90\"]).alias(\"Promedio_Interceptions_90\")\n",
    ").orderBy(desc(\"Promedio_PressSucc_porcentaje\"), desc(\"Promedio_Interceptions_90\"))\n",
    "defensas_por_comp.show()"
   ]
  },
  {
   "cell_type": "code",
   "execution_count": null,
   "metadata": {
    "vscode": {
     "languageId": "plaintext"
    }
   },
   "outputs": [],
   "source": [
    "import matplotlib.pyplot as plt\n",
    "import numpy as np\n",
    "df_delanteros_pandas= delanteros_por_comp.toPandas()\n",
    "df_medios_pandas= medios_por_comp.toPandas()\n",
    "df_defensas_pandas= defensas_por_comp.toPandas()\n",
    "\n",
    "print(df_delanteros_pandas)\n",
    "\n",
    "\n",
    "# Gráfico para delanteros\n",
    "fig, ax = plt.subplots(figsize=(10, 6))\n",
    "bar_width = 0.35\n",
    "index = np.arange(len(df_delanteros_pandas[\"Comp\"]))\n",
    "\n",
    "plt.barh(index, df_delanteros_pandas[\"Promedio_npG_A_90\"], bar_width, color='skyblue', label='Promedio npG+A/90')\n",
    "plt.barh(index + bar_width, df_delanteros_pandas[\"Promedio_npxG_xA_90\"], bar_width, color='orange', label='Promedio npxG+xA/90')\n",
    "\n",
    "plt.xlabel('Promedio')\n",
    "plt.ylabel('Competición')\n",
    "plt.title('Comparación de métricas para delanteros por competición')\n",
    "plt.yticks(index + bar_width / 2, df_delanteros_pandas[\"Comp\"])\n",
    "plt.legend()\n",
    "\n",
    "plt.show()\n",
    "\n",
    "# Gráfico para medios\n",
    "fig, ax = plt.subplots(figsize=(10, 6))\n",
    "bar_width = 0.35\n",
    "index = np.arange(len(df_medios_pandas[\"Comp\"]))\n",
    "\n",
    "plt.barh(index, df_medios_pandas[\"Promedio_KeyPass_90\"], bar_width, color='skyblue', label='Promedio KeyPass/90')\n",
    "plt.barh(index + bar_width, df_medios_pandas[\"Promedio_PassCmp_porcentaje\"], bar_width, color='orange', label='Promedio PassCmp%')\n",
    "\n",
    "plt.xlabel('Promedio')\n",
    "plt.ylabel('Competición')\n",
    "plt.title('Comparación de métricas para medios por competición')\n",
    "plt.yticks(index + bar_width / 2, df_medios_pandas[\"Comp\"])\n",
    "plt.legend()\n",
    "\n",
    "plt.show()\n",
    "\n",
    "# Gráfico para defensas\n",
    "fig, ax = plt.subplots(figsize=(10, 6))\n",
    "bar_width = 0.35\n",
    "index = np.arange(len(df_defensas_pandas[\"Comp\"]))\n",
    "\n",
    "plt.barh(index, df_defensas_pandas[\"Promedio_PressSucc_porcentaje\"], bar_width, color='skyblue', label='Promedio PressSucc%')\n",
    "plt.barh(index + bar_width, df_defensas_pandas[\"Promedio_Interceptions_90\"], bar_width, color='orange', label='Promedio Interceptions/90')\n",
    "\n",
    "plt.xlabel('Promedio')\n",
    "plt.ylabel('Competición')\n",
    "plt.title('Comparación de métricas para defensas por competición')\n",
    "plt.yticks(index + bar_width / 2, df_defensas_pandas[\"Comp\"])\n",
    "plt.legend()\n",
    "\n",
    "plt.show()"
   ]
  },
  {
   "cell_type": "markdown",
   "metadata": {
    "vscode": {
     "languageId": "plaintext"
    }
   },
   "source": [
    "### Ejercicio 2:"
   ]
  },
  {
   "cell_type": "markdown",
   "metadata": {},
   "source": [
    "Ahora hagamos algo un poco más interesante. Escoge algún jugador de todos los disponibles y toma 5 metricas, las que quieras. Debes concluir en qué percentil se encuentra el jugador en esas métricas que escogiste. Obviamente, vas a comparar sus valores con todos los demás con los que comparte posición y liga, para no tener un sesgo y que la información no pierda robustez. Por último, genera un DataFrame de Pyspark con todos los datos solicitados. Muestra el DataFrame y conviertelo a otro de tipo pandas. Muestra los dos."
   ]
  },
  {
   "cell_type": "code",
   "execution_count": null,
   "metadata": {
    "vscode": {
     "languageId": "plaintext"
    }
   },
   "outputs": [],
   "source": [
    "import pandas as pd\n",
    "import pyspark.sql.functions as F\n",
    "from pyspark.sql import Window\n",
    "import matplotlib.pyplot as plt\n",
    "\n",
    "# Encontrar la fila de Mbappé en el DataFrame\n",
    "mbappe_row = df_c.filter(F.col(\"Player\") == \"Kylian Mbappé\").collect()[0]\n",
    "\n",
    "# Extraer los valores de las métricas para Mbappé\n",
    "mbappe_values = {\n",
    "    'Shots/90': mbappe_row[\"Shots/90\"],  # Cambiado de 'npG/90' a 'Shots/90'\n",
    "    'npG+A/90': mbappe_row[\"npG+A/90\"],\n",
    "    'npG/90': mbappe_row[\"npG/90\"],\n",
    "    'SoTs/90': mbappe_row[\"SoTs/90\"],\n",
    "    'xA/90': mbappe_row[\"xA/90\"]\n",
    "}\n",
    "\n",
    "# Filtrar los datos para incluir solo los delanteros de la Ligue 1\n",
    "ligue1_forwards_df = df_c.filter((F.col(\"Comp\") == \"fr Ligue 1\") & (F.col(\"Pos\") == \"FW\"))\n",
    "\n",
    "# Métricas a considerar\n",
    "metrics = [\"Shots/90\", \"npG+A/90\", \"npG/90\", \"SoTs/90\", \"xA/90\"]  # Cambiado 'npG/90' por 'Shots/90'\n",
    "\n",
    "# Crear una lista para almacenar los resultados\n",
    "results = []\n",
    "\n",
    "# Comparar los valores de Kylian Mbappé con estos percentiles\n",
    "for metric in metrics:\n",
    "    quantile_df = ligue1_forwards_df.select(metric, F.percent_rank().over(Window.orderBy(F.desc(metric))).alias(f\"{metric}_quantile\"))\n",
    "    mbappe_quantile = quantile_df.filter(F.col(metric) == mbappe_values[metric]).select(f\"{metric}_quantile\").collect()[0][0]\n",
    "    results.append({'Categoria': metric, 'Percentil': mbappe_quantile * 100})\n",
    "\n",
    "#Df pyspark\n",
    "results_rows = [Row(Categoria=result['Categoria'], Percentil=result['Percentil']) for result in results]\n",
    "results_df_spark = spark.createDataFrame(results_rows)\n",
    "results_df_spark.show()\n",
    "\n",
    "#Df pandas\n",
    "results_df = pd.DataFrame(results)\n",
    "print(results_df)\n",
    "\n",
    "#ver quien es el delanteero de la ligue1 que tiene mas npG/90 para justificar el 0% en ell percentil\n",
    "fw_ligue1_df = df_c.filter((F.col(\"Pos\") == \"FW\") & (F.col(\"Comp\") == \"fr Ligue 1\"))\n",
    "mejor_delantero = fw_ligue1_df.orderBy(F.desc(\"npG/90\")).select(\"Player\", \"npG/90\").first()\n",
    "print(\"El mejor delantero de la fr Ligue 1 en términos de npG/90 es:\")\n",
    "print(mejor_delantero)\n",
    "results_df = results_df.sort_values(by='Percentil', ascending=True)\n",
    "\n",
    "#Graficar stats\n",
    "plt.figure(figsize=(10,6))\n",
    "plt.barh(results_df['Categoria'], results_df['Percentil'], color='skyblue')\n",
    "plt.xlabel('Percentil')\n",
    "plt.title('Percentiles de Kylian Mbappé en comparación con otros delanteros de la Ligue 1')\n",
    "plt.grid(axis='x')\n",
    "plt.show()"
   ]
  }
 ],
 "metadata": {
  "language_info": {
   "name": "python"
  }
 },
 "nbformat": 4,
 "nbformat_minor": 2
}
