{
 "cells": [
  {
   "cell_type": "markdown",
   "metadata": {},
   "source": [
    "# Tarea PySpark"
   ]
  },
  {
   "cell_type": "markdown",
   "metadata": {},
   "source": [
    "### Objetivo:\n",
    " Analizar la eficiencia de los jugadores en términos generales y por posición, así como determinar la contribución al equipo por jugador tomando en cuenta los datos obtenidos"
   ]
  },
  {
   "cell_type": "markdown",
   "metadata": {},
   "source": [
    "Usarás la base de datos del archivo 'fusbol.csv' para obtener tus datos. Checa la estructura del archivo para ver si es necesario limpiar la informacion, ver su estructura y así sea más fácil completar la tarea. Besos."
   ]
  },
  {
   "cell_type": "markdown",
   "metadata": {},
   "source": [
    "### Ejercicio 1:\n",
    "Carga la base de datos en un DataFrame de Pyspark (con 2 nucleos). Valida los rangos de los valores donde sea aplicable, así como su corrección (en caso de ser necesaria). \n",
    "Después, utilizando las variables más relevantes como 'Ast/90', 'PassCmp%', etc., concluye qué ligas tienen los mejores jugadores por posición. Es decir, si los mejores jugadores defensas son de la liga francesa, inglesa, etc., por ejemplo.\n",
    "Como cada persona tiene una definición de \"mejor\", utiliza las siguientes metricas por posición:\n",
    "- Delanteros: npG+A/90 y npxG+xA/90\n",
    "- Medios: KeyPass/90 y PassCmp%\n",
    "- Defensas: PressSucc% y Interceptions/90\n",
    "\n",
    "Con los resultados obtenidos, grafica por posición para que tu conclusión tenga un respaldo visual también."
   ]
  },
  {
   "cell_type": "code",
   "execution_count": 1,
   "metadata": {
    "vscode": {
     "languageId": "plaintext"
    }
   },
   "outputs": [],
   "source": [
    "import findspark\n",
    "findspark.init()\n",
    "from pyspark.sql import SparkSession\n",
    "from pyspark.sql.functions import col, when, explode, split"
   ]
  },
  {
   "cell_type": "code",
   "execution_count": 2,
   "metadata": {},
   "outputs": [
    {
     "data": {
      "text/html": [
       "\n",
       "            <div>\n",
       "                <p><b>SparkSession - in-memory</b></p>\n",
       "                \n",
       "        <div>\n",
       "            <p><b>SparkContext</b></p>\n",
       "\n",
       "            <p><a href=\"http://9fc1713f0c38:4041\">Spark UI</a></p>\n",
       "\n",
       "            <dl>\n",
       "              <dt>Version</dt>\n",
       "                <dd><code>v3.5.0</code></dd>\n",
       "              <dt>Master</dt>\n",
       "                <dd><code>local[2]</code></dd>\n",
       "              <dt>AppName</dt>\n",
       "                <dd><code>firstSession</code></dd>\n",
       "            </dl>\n",
       "        </div>\n",
       "        \n",
       "            </div>\n",
       "        "
      ],
      "text/plain": [
       "<pyspark.sql.session.SparkSession at 0xffff81dae990>"
      ]
     },
     "execution_count": 2,
     "metadata": {},
     "output_type": "execute_result"
    }
   ],
   "source": [
    "spark = SparkSession.builder.appName('firstSession')\\\n",
    "    .config('spark.master', 'local[2]')\\\n",
    "    .config('spark.executor.memory', '1g')\\\n",
    "    .config(\"spark.sql.shuffle.partitions\", 10)\\\n",
    "    .config('spark.driver.memory','1g')\\\n",
    "    .getOrCreate()\n",
    "\n",
    "spark"
   ]
  },
  {
   "cell_type": "code",
   "execution_count": 3,
   "metadata": {},
   "outputs": [
    {
     "name": "stdout",
     "output_type": "stream",
     "text": [
      "root\n",
      " |-- Player: string (nullable = true)\n",
      " |-- Nation: string (nullable = true)\n",
      " |-- Pos: string (nullable = true)\n",
      " |-- Squad: string (nullable = true)\n",
      " |-- Comp: string (nullable = true)\n",
      " |-- Age: double (nullable = true)\n",
      " |-- Born: double (nullable = true)\n",
      " |-- MP: integer (nullable = true)\n",
      " |-- Starts: integer (nullable = true)\n",
      " |-- Min: integer (nullable = true)\n",
      " |-- 90s: double (nullable = true)\n",
      " |-- Ast/90: double (nullable = true)\n",
      " |-- npG/90: double (nullable = true)\n",
      " |-- npG+A/90: double (nullable = true)\n",
      " |-- xA/90: double (nullable = true)\n",
      " |-- npxG/90: double (nullable = true)\n",
      " |-- npxG+xA/90: double (nullable = true)\n",
      " |-- Shots/90: double (nullable = true)\n",
      " |-- SoTs/90: double (nullable = true)\n",
      " |-- SoT%: double (nullable = true)\n",
      " |-- Gls/Shot: double (nullable = true)\n",
      " |-- Gls/SoT: double (nullable = true)\n",
      " |-- AvgShotDist: double (nullable = true)\n",
      " |-- FKSht/90: double (nullable = true)\n",
      " |-- npxG/Shot: double (nullable = true)\n",
      " |-- np:G-xG: double (nullable = true)\n",
      " |-- PassCmp/90: double (nullable = true)\n",
      " |-- PassAtt/90: double (nullable = true)\n",
      " |-- PassCmp%: double (nullable = true)\n",
      " |-- TotDistPass/90: double (nullable = true)\n",
      " |-- PrgDistPass/90: double (nullable = true)\n",
      " |-- ShortCmp/90: double (nullable = true)\n",
      " |-- ShortAtt/90: double (nullable = true)\n",
      " |-- ShortCmp%: double (nullable = true)\n",
      " |-- MedCmp/90: double (nullable = true)\n",
      " |-- MedAtt/90: double (nullable = true)\n",
      " |-- MedCmp%: double (nullable = true)\n",
      " |-- LongCmp/90: double (nullable = true)\n",
      " |-- LongAtt/90: double (nullable = true)\n",
      " |-- LongCmp%: double (nullable = true)\n",
      " |-- KeyPass/90: double (nullable = true)\n",
      " |-- PassIntoThird/90: double (nullable = true)\n",
      " |-- PassIntoBox/90: double (nullable = true)\n",
      " |-- CrossIntoBox/90: double (nullable = true)\n",
      " |-- ProgPass/90: double (nullable = true)\n",
      " |-- LivePassAtt/90: double (nullable = true)\n",
      " |-- DeadPassAtt/90: double (nullable = true)\n",
      " |-- FKPassAtt/90: double (nullable = true)\n",
      " |-- TBCmp/90: double (nullable = true)\n",
      " |-- PassUnderPress/90: double (nullable = true)\n",
      " |-- Switches/90: double (nullable = true)\n",
      " |-- Crosses/90: double (nullable = true)\n",
      " |-- GroundPass/90: double (nullable = true)\n",
      " |-- LowPass/90: double (nullable = true)\n",
      " |-- HighPass/90: double (nullable = true)\n",
      " |-- LeftPass/90: double (nullable = true)\n",
      " |-- RightPass/90: double (nullable = true)\n",
      " |-- HeadPass/90: double (nullable = true)\n",
      " |-- ThrowPass/90: double (nullable = true)\n",
      " |-- OtherPartPass/90: double (nullable = true)\n",
      " |-- OffsidePass/90: double (nullable = true)\n",
      " |-- OutOBPass/90: double (nullable = true)\n",
      " |-- PassesInt/90: double (nullable = true)\n",
      " |-- PassesBlk/90: double (nullable = true)\n",
      " |-- SCA/90: double (nullable = true)\n",
      " |-- PassLiveSCA/90: double (nullable = true)\n",
      " |-- PassDeadSCA/90: double (nullable = true)\n",
      " |-- DribSCA/90: double (nullable = true)\n",
      " |-- ShSCA/90: double (nullable = true)\n",
      " |-- FoulSCA/90: double (nullable = true)\n",
      " |-- DefSCA/90: double (nullable = true)\n",
      " |-- GCA/90: double (nullable = true)\n",
      " |-- PassLiveGCA/90: double (nullable = true)\n",
      " |-- PassDeadGCA/90: double (nullable = true)\n",
      " |-- DribGCA/90: double (nullable = true)\n",
      " |-- ShGCA/90: double (nullable = true)\n",
      " |-- FoulGCA/90: double (nullable = true)\n",
      " |-- DefGCA/90: double (nullable = true)\n",
      " |-- TklAtt/90: double (nullable = true)\n",
      " |-- TklW/90: double (nullable = true)\n",
      " |-- Def 3rdTkl/90: double (nullable = true)\n",
      " |-- Mid 3rdTkl/90: double (nullable = true)\n",
      " |-- Att 3rdTkl/90: double (nullable = true)\n",
      " |-- TklvDribW/90: double (nullable = true)\n",
      " |-- TklvDribAtt/90: double (nullable = true)\n",
      " |-- Tkl%vDrib: double (nullable = true)\n",
      " |-- DribPast/90: double (nullable = true)\n",
      " |-- PressAtt/90: double (nullable = true)\n",
      " |-- SuccPress/90: double (nullable = true)\n",
      " |-- PressSucc%: double (nullable = true)\n",
      " |-- Def 3rdPress/90: double (nullable = true)\n",
      " |-- Mid 3rdPress/90: double (nullable = true)\n",
      " |-- Att 3rdPress/90: double (nullable = true)\n",
      " |-- Blocks/90: double (nullable = true)\n",
      " |-- ShotBlocks/90: double (nullable = true)\n",
      " |-- PassBlk/90: double (nullable = true)\n",
      " |-- Interceptions/90: double (nullable = true)\n",
      " |-- Clearances/90: double (nullable = true)\n",
      " |-- ErrToShot/90: double (nullable = true)\n",
      " |-- Touches/90: double (nullable = true)\n",
      " |-- Def PenTchs/90: double (nullable = true)\n",
      " |-- Def 3rdTchs/90: double (nullable = true)\n",
      " |-- Mid 3rdTchs/90: double (nullable = true)\n",
      " |-- Att 3rdTchs/90: double (nullable = true)\n",
      " |-- Att PenTchs/90: double (nullable = true)\n",
      " |-- %TchsDefPen: double (nullable = true)\n",
      " |-- %TchsDefThrd: double (nullable = true)\n",
      " |-- %TchsMidThrd: double (nullable = true)\n",
      " |-- %TchsAttThrd: double (nullable = true)\n",
      " |-- %TchsAttPen: double (nullable = true)\n",
      " |-- LiveTchs/90: double (nullable = true)\n",
      " |-- SuccDrib/90: double (nullable = true)\n",
      " |-- AttDrib/90: double (nullable = true)\n",
      " |-- DribSucc%: double (nullable = true)\n",
      " |-- PlayersDribPast/90: double (nullable = true)\n",
      " |-- Megs/90: double (nullable = true)\n",
      " |-- Carries/90: double (nullable = true)\n",
      " |-- TotDistCarry/90: double (nullable = true)\n",
      " |-- PrgDistCarry/90: double (nullable = true)\n",
      " |-- ProgCarry/90: double (nullable = true)\n",
      " |-- CarryIntoThird/90: double (nullable = true)\n",
      " |-- CarryIntoBox/90: double (nullable = true)\n",
      " |-- Miscontrol/90: double (nullable = true)\n",
      " |-- Dispossessed/90: double (nullable = true)\n",
      " |-- PassTarget/90: double (nullable = true)\n",
      " |-- PassesReceived/90: double (nullable = true)\n",
      " |-- PassRec%: double (nullable = true)\n",
      " |-- ProgPassReceived/90: double (nullable = true)\n",
      "\n"
     ]
    }
   ],
   "source": [
    "# Cargo los datos y remuevo los nulls para tener un análisis robusto\n",
    "\n",
    "data = spark.read.csv('fusbol.csv', header=True, inferSchema=True)\n",
    "data = data.dropna()\n",
    "data.printSchema()"
   ]
  },
  {
   "cell_type": "code",
   "execution_count": 4,
   "metadata": {},
   "outputs": [],
   "source": [
    "# Valido que las métricas porcentuales estén entre 0 y 100\n",
    "\n",
    "data = data.withColumn('PassCmp%', when(col('PassCmp%') < 0, 0).otherwise(col('PassCmp%')))\n",
    "data = data.withColumn('PassCmp%', when(col('PassCmp%') > 100, 100).otherwise(col('PassCmp%')))\n",
    "data = data.withColumn('PressSucc%', when(col('PressSucc%') < 0, 0).otherwise(col('PressSucc%')))\n",
    "data = data.withColumn('PressSucc%', when(col('PressSucc%') > 100, 100).otherwise(col('PressSucc%')))\n",
    "\n",
    "\n",
    "# Para las demás, simplemente corroboro que sean valores positivos\n",
    "\n",
    "data = data.withColumn('npG+A/90', when(col('npG+A/90') < 0, 0).otherwise(col('npG+A/90')))\n",
    "data = data.withColumn('npxG+xA/90', when(col('npxG+xA/90') < 0, 0).otherwise(col('npxG+xA/90')))\n",
    "data = data.withColumn('KeyPass/90', when(col('KeyPass/90') < 0, 0).otherwise(col('KeyPass/90')))\n",
    "data = data.withColumn('Interceptions/90', when(col('Interceptions/90') < 0, 0).otherwise(col('Interceptions/90')))"
   ]
  },
  {
   "cell_type": "code",
   "execution_count": 5,
   "metadata": {},
   "outputs": [],
   "source": [
    "# Ahora haré que los jugadores con más de una posición se repitan (variando las posiciones)\n",
    "\n",
    "data = data.withColumn(\"UniquePos\", explode(split(col(\"Pos\"), \",\"))).drop(\"Pos\")\n",
    "\n",
    "# Así los jugadores podrán aparecer en más de una categoría al clasificarlos\n",
    "\n",
    "delanteros = data.filter(col(\"UniquePos\") == \"FW\")\n",
    "medios = data.filter(col(\"UniquePos\") == \"MF\")\n",
    "defensas = data.filter(col(\"UniquePos\") == \"DF\")"
   ]
  },
  {
   "cell_type": "code",
   "execution_count": null,
   "metadata": {},
   "outputs": [
    {
     "name": "stdout",
     "output_type": "stream",
     "text": [
      "+------------------+------------------+-------------------+\n",
      "|              Comp| Promedio_npG_A_90|Promedio_npxG_xA_90|\n",
      "+------------------+------------------+-------------------+\n",
      "|        it Serie A|0.4549264705882352| 0.4380882352941176|\n",
      "|     de Bundesliga|0.4301986754966887|   0.41476821192053|\n",
      "|        fr Ligue 1| 0.375688622754491| 0.3823353293413174|\n",
      "|eng Premier League|0.3722142857142859| 0.3900000000000001|\n",
      "|        es La Liga|0.3259375000000001|0.34431249999999997|\n",
      "+------------------+------------------+-------------------+\n",
      "\n"
     ]
    }
   ],
   "source": [
    "# Agrupamos por liga y calculamos los promedios pertinentes\n",
    "from pyspark.sql.functions import avg\n",
    "\n",
    "resultados_delanteros = delanteros.groupBy('Comp').agg(avg('npG+A/90').alias('Promedio_npG_A_90'), avg('npxG+xA/90').alias('Promedio_npxG_xA_90')).sort(col('Promedio_npG_A_90').desc())\n",
    "resultados_medios = medios.groupBy('Comp').agg(avg('KeyPass/90').alias('Promedio_KeyPass_90'), avg('PassCmp%').alias('Promedio_PassCmp')).sort(col('Promedio_KeyPass_90').desc())\n",
    "resultados_defensas = defensas.groupBy('Comp').agg(avg('PressSucc%').alias('Promedio_PressSucc'), avg('Interceptions/90').alias('Promedio_Interceptions_90')).sort(col('Promedio_PressSucc').desc())\n",
    "\n",
    "resultados_delanteros.show()\n",
    "resultados_medios.show()\n",
    "resultados_defensas.show()"
   ]
  },
  {
   "cell_type": "markdown",
   "metadata": {},
   "source": [
    "Vemos que la Serie A tiene a los mejores delanteros y medios. En cuanto a defensas, el lugar se disputa entre la Ligue 1 y la Bundesliga ya que ambas tienen el primer lugar en una métrica y el segundo lugar en la otra."
   ]
  },
  {
   "cell_type": "code",
   "execution_count": null,
   "metadata": {},
   "outputs": [],
   "source": [
    "# Graficamos los resultados\n",
    "import matplotlib.pyplot as plt\n",
    "import numpy as np\n",
    "\n",
    "# Datos de las ligas\n",
    "ligas = resultados_delanteros.select('Comp').rdd.flatMap(lambda x: x).collect()\n",
    "\n",
    "# Promedios de métricas para delanteros por liga\n",
    "promedios_delanteros_npGA90 = resultados_delanteros.select('Promedio_npG_A_90').rdd.flatMap(lambda x: x).collect()\n",
    "promedios_delanteros_npxGxA90 = resultados_delanteros.select('Promedio_npxG_xA_90').rdd.flatMap(lambda x: x).collect()\n",
    "\n",
    "# Promedios de métricas para medios por liga\n",
    "promedios_medios_keyPass90 = resultados_medios.select('Promedio_KeyPass_90').rdd.flatMap(lambda x: x).collect()\n",
    "promedios_medios_passCmp = resultados_medios.select('Promedio_PassCmp').rdd.flatMap(lambda x: x).collect()\n",
    "\n",
    "# Promedios de métricas para defensas por liga\n",
    "promedios_defensas_pressSucc = resultados_defensas.select('Promedio_PressSucc').rdd.flatMap(lambda x: x).collect()\n",
    "promedios_defensas_interceptions90 = resultados_defensas.select('Promedio_Interceptions_90').rdd.flatMap(lambda x: x).collect()\n",
    "\n",
    "# Configuración de las barras\n",
    "bar_width = 0.35\n",
    "index = np.arange(len(ligas))\n",
    "\n",
    "# Graficar para delanteros\n",
    "plt.figure(figsize=(10, 6))\n",
    "plt.bar(index, promedios_delanteros_npGA90, bar_width, label='Promedio npG+A/90', color='skyblue')\n",
    "plt.bar(index + bar_width, promedios_delanteros_npxGxA90, bar_width, label='Promedio npxG+xA/90', color='lightgreen')\n",
    "plt.xlabel('Ligas')\n",
    "plt.ylabel('Promedio')\n",
    "plt.title('Promedio de Métricas para Delanteros por Liga')\n",
    "plt.xticks(index + bar_width / 2, ligas)\n",
    "plt.legend()\n",
    "plt.tight_layout()\n",
    "plt.show()\n",
    "\n",
    "# Graficar para medios\n",
    "plt.figure(figsize=(10, 6))\n",
    "plt.bar(index, promedios_medios_keyPass90, bar_width, label='Promedio KeyPass/90', color='skyblue')\n",
    "plt.bar(index + bar_width, promedios_medios_passCmp, bar_width, label='Promedio PassCmp%', color='lightgreen')\n",
    "plt.xlabel('Ligas')\n",
    "plt.ylabel('Promedio')\n",
    "plt.title('Promedio de Métricas para Medios por Liga')\n",
    "plt.xticks(index + bar_width / 2, ligas)\n",
    "plt.legend()\n",
    "plt.tight_layout()\n",
    "plt.show()\n",
    "\n",
    "# Graficar para defensas\n",
    "plt.figure(figsize=(10, 6))\n",
    "plt.bar(index, promedios_defensas_pressSucc, bar_width, label='Promedio PressSucc%', color='skyblue')\n",
    "plt.bar(index + bar_width, promedios_defensas_interceptions90, bar_width, label='Promedio Interceptions/90', color='lightgreen')\n",
    "plt.xlabel('Ligas')\n",
    "plt.ylabel('Promedio')\n",
    "plt.title('Promedio de Métricas para Defensas por Liga')\n",
    "plt.xticks(index + bar_width / 2, ligas)\n",
    "plt.legend()\n",
    "plt.tight_layout()\n",
    "plt.show()"
   ]
  },
  {
   "cell_type": "markdown",
   "metadata": {
    "vscode": {
     "languageId": "plaintext"
    }
   },
   "source": [
    "### Ejercicio 2:"
   ]
  },
  {
   "cell_type": "markdown",
   "metadata": {},
   "source": [
    "Ahora hagamos algo un poco más interesante. Escoge algún jugador de todos los disponibles y toma 5 metricas, las que quieras. Debes concluir en qué percentil se encuentra el jugador en esas métricas que escogiste. Obviamente, vas a comparar sus valores con todos los demás con los que comparte posición y liga, para no tener un sesgo y que la información no pierda robustez. Por último, genera un DataFrame de Pyspark con todos los datos solicitados. Muestra el DataFrame y conviertelo a otro de tipo pandas. Muestra los dos."
   ]
  },
  {
   "cell_type": "code",
   "execution_count": null,
   "metadata": {
    "vscode": {
     "languageId": "plaintext"
    }
   },
   "outputs": [],
   "source": [
    "# Vamos a analizar Mohamed Salah. Primero filtramos por liga a los delanteros\n",
    "delanteros_premier = delanteros.filter(delanteros['Comp'] == 'eng Premier League')\n",
    "\n",
    "# Guardamos la información de Salah\n",
    "metricas = ['npG+A/90', 'npxG+xA/90', 'KeyPass/90', 'Shots/90', 'SoTs/90']\n",
    "salah_data = delanteros_premier.filter(col('Player') == 'Mohamed Salah')\n",
    "salah_metricas = [salah_data.select(metrica).collect()[0][0] for metrica in metricas]\n",
    "\n",
    "print(salah_metricas)"
   ]
  },
  {
   "cell_type": "code",
   "execution_count": null,
   "metadata": {},
   "outputs": [],
   "source": [
    "from pyspark.sql import functions as F\n",
    "from pyspark.sql.window import Window\n",
    "\n",
    "#Guardamos los percentiles por métrica\n",
    "percentiles_df = delanteros_premier.approxQuantile(metricas, [i * 0.01 for i in range(1, 101)], relativeError=0.0)"
   ]
  },
  {
   "cell_type": "code",
   "execution_count": null,
   "metadata": {},
   "outputs": [],
   "source": [
    "#Comparamos con las de Salah e imprimimos\n",
    "salah_percentiles = [\n",
    "    next((i / 100 for i, p in enumerate(metric_percentiles) if salah_metric_value <= p), 1.0)\n",
    "    for metric_percentiles, salah_metric_value in zip(percentiles_df, salah_metricas)\n",
    "]\n",
    "\n",
    "salah_percentiles"
   ]
  },
  {
   "cell_type": "code",
   "execution_count": null,
   "metadata": {},
   "outputs": [],
   "source": [
    "# Finalmente calculamos el promedio de estos percentiles para situar a Mohamed Salah\n",
    "\n",
    "print('Situamos a Salah en el percentil', sum(salah_percentiles)/5, 'dadas las métricas que elegimos')"
   ]
  }
 ],
 "metadata": {
  "kernelspec": {
   "display_name": "Python 3 (ipykernel)",
   "language": "python",
   "name": "python3"
  },
  "language_info": {
   "codemirror_mode": {
    "name": "ipython",
    "version": 3
   },
   "file_extension": ".py",
   "mimetype": "text/x-python",
   "name": "python",
   "nbconvert_exporter": "python",
   "pygments_lexer": "ipython3",
   "version": "3.11.6"
  }
 },
 "nbformat": 4,
 "nbformat_minor": 4
}
