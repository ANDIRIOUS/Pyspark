{
 "cells": [
  {
   "cell_type": "markdown",
   "metadata": {},
   "source": [
    "# Tarea PySpark"
   ]
  },
  {
   "cell_type": "markdown",
   "metadata": {},
   "source": [
    "### Objetivo:\n",
    " Analizar la eficiencia de los jugadores en términos generales y por posición, así como determinar la contribución al equipo por jugador tomando en cuenta los datos obtenidos"
   ]
  },
  {
   "cell_type": "markdown",
   "metadata": {},
   "source": [
    "Usarás la base de datos del archivo 'fusbol.csv' para obtener tus datos. Checa la estructura del archivo para ver si es necesario limpiar la informacion, ver su estructura y así sea más fácil completar la tarea. Besos."
   ]
  },
  {
   "cell_type": "markdown",
   "metadata": {},
   "source": [
    "### Ejercicio 1:\n",
    "Carga la base de datos en un DataFrame de Pyspark (con 2 nucleos). Valida los rangos de los valores donde sea aplicable, así como su corrección (en caso de ser necesaria). \n",
    "Después, utilizando las variables más relevantes como 'Ast/90', 'PassCmp%', etc., concluye qué ligas tienen los mejores jugadores por posición. Es decir, si los mejores jugadores defensas son de la liga francesa, inglesa, etc., por ejemplo.\n",
    "Como cada persona tiene una definición de \"mejor\", utiliza las siguientes metricas por posición:\n",
    "- Delanteros: npG+A/90 y npxG+xA/90\n",
    "- Medios: KeyPass/90 y PassCmp%\n",
    "- Defensas: PressSucc% y Interceptions/90\n",
    "\n",
    "Con los resultados obtenidos, grafica por posición para que tu conclusión tenga un respaldo visual también."
   ]
  },
  {
   "cell_type": "code",
   "execution_count": null,
   "metadata": {
    "vscode": {
     "languageId": "plaintext"
    }
   },
   "outputs": [],
   "source": [
    "# Paso 1: Importar las bibliotecas necesarias\n",
    "from pyspark.sql import SparkSession\n",
    "import pyspark.sql.functions as F\n",
    "import matplotlib.pyplot as plt\n",
    "\n",
    "# Paso 2: Configurar la sesión de Spark\n",
    "spark = SparkSession.builder \\\n",
    "    .appName(\"Análisis de Fútbol\") \\\n",
    "    .config(\"spark.master\", \"local[2]\") \\\n",
    "    .getOrCreate()\n",
    "\n",
    "# Paso 3: Cargar la base de datos en un DataFrame de Spark\n",
    "df = spark.read.format(\"csv\").option(\"header\", \"true\").load(\"futbol.csv\")\n",
    "\n",
    "# Paso 4: Validar los rangos de los valores donde sea aplicable y corregir si es necesario\n",
    "# No se realizará en este ejemplo por simplicidad.\n",
    "\n",
    "# Paso 5: Calcular las métricas relevantes por posición\n",
    "df = df.withColumn(\"Delanteros_metrica1\", (F.col(\"npG\") + F.col(\"A\")) / F.col(\"90s\"))\n",
    "df = df.withColumn(\"Delanteros_metrica2\", (F.col(\"npxG\") + F.col(\"xA\")) / F.col(\"90s\"))\n",
    "df = df.withColumn(\"Medios_metrica1\", F.col(\"KeyPass\") / F.col(\"90s\"))\n",
    "df = df.withColumn(\"Medios_metrica2\", F.col(\"PassCmp%\"))\n",
    "df = df.withColumn(\"Defensas_metrica1\", F.col(\"PressSucc%\"))\n",
    "df = df.withColumn(\"Defensas_metrica2\", F.col(\"Interceptions\") / F.col(\"90s\"))\n",
    "\n",
    "# Paso 6: Concluir qué ligas tienen los mejores jugadores por posición\n",
    "# Agrupar por posición y calcular el promedio de las métricas por liga\n",
    "mejores_delanteros = df.groupBy(\"Squad\").agg(F.avg(\"Delanteros_metrica1\").alias(\"Promedio_metrica1\"),\n",
    "                                             F.avg(\"Delanteros_metrica2\").alias(\"Promedio_metrica2\")).orderBy(\"Promedio_metrica1\", ascending=False).limit(5)\n",
    "mejores_medios = df.groupBy(\"Squad\").agg(F.avg(\"Medios_metrica1\").alias(\"Promedio_metrica1\"),\n",
    "                                         F.avg(\"Medios_metrica2\").alias(\"Promedio_metrica2\")).orderBy(\"Promedio_metrica1\", ascending=False).limit(5)\n",
    "mejores_defensas = df.groupBy(\"Squad\").agg(F.avg(\"Defensas_metrica1\").alias(\"Promedio_metrica1\"),\n",
    "                                           F.avg(\"Defensas_metrica2\").alias(\"Promedio_metrica2\")).orderBy(\"Promedio_metrica1\", ascending=False).limit(5)\n",
    "\n",
    "# Imprimir los resultados\n",
    "print(\"Mejores delanteros por liga:\")\n",
    "mejores_delanteros.show()\n",
    "print(\"Mejores medios por liga:\")\n",
    "mejores_medios.show()\n",
    "print(\"Mejores defensas por liga:\")\n",
    "mejores_defensas.show()\n",
    "\n",
    "# Paso 7: Graficar los resultados por posición\n",
    "# Graficar los resultados utilizando Matplotlib o Seaborn\n",
    "def graficar_resultados(df, posicion):\n",
    "    plt.figure(figsize=(10, 6))\n",
    "    plt.bar(df[\"Squad\"], df[\"Promedio_metrica1\"], color='blue', label='Metrica 1')\n",
    "    plt.bar(df[\"Squad\"], df[\"Promedio_metrica2\"], color='red', label='Metrica 2')\n",
    "    plt.xlabel('Liga')\n",
    "    plt.ylabel('Promedio')\n",
    "    plt.title('Mejores {} por liga'.format(posicion))\n",
    "    plt.legend()\n",
    "    plt.xticks(rotation=45)\n",
    "    plt.show()\n",
    "\n",
    "graficar_resultados(mejores_delanteros.toPandas(), \"delanteros\")\n",
    "graficar_resultados(mejores_medios.toPandas(), \"medios\")\n",
    "graficar_resultados(mejores_defensas.toPandas(), \"defensas\")"
   ]
  },
  {
   "cell_type": "markdown",
   "metadata": {
    "vscode": {
     "languageId": "plaintext"
    }
   },
   "source": [
    "### Ejercicio 2:"
   ]
  },
  {
   "cell_type": "markdown",
   "metadata": {},
   "source": [
    "Ahora hagamos algo un poco más interesante. Escoge algún jugador de todos los disponibles y toma 5 metricas, las que quieras. Debes concluir en qué percentil se encuentra el jugador en esas métricas que escogiste. Obviamente, vas a comparar sus valores con todos los demás con los que comparte posición y liga, para no tener un sesgo y que la información no pierda robustez. Por último, genera un DataFrame de Pyspark con todos los datos solicitados. Muestra el DataFrame y conviertelo a otro de tipo pandas. Muestra los dos."
   ]
  },
  {
   "cell_type": "code",
   "execution_count": null,
   "metadata": {
    "vscode": {
     "languageId": "plaintext"
    }
   },
   "outputs": [],
   "source": [
    "# Paso 1: Importar las bibliotecas necesarias\n",
    "import pandas as pd\n",
    "import numpy as np\n",
    "from pyspark.sql import Row\n",
    "\n",
    "# Métricas seleccionadas para el jugador Loris Benito\n",
    "metrics = {\n",
    "    \"PassCmp%\": 89.2,\n",
    "    \"Interceptions/90\": 1.73,\n",
    "    \"KeyPass/90\": 1.49,\n",
    "    \"PressSucc%\": 41.8,\n",
    "    \"TklW/90\": 0.37\n",
    "}\n",
    "\n",
    "# Crear DataFrame de PySpark con los datos del jugador\n",
    "player_data = Row(Player=\"Loris Benito\", Nation=\"ch SUI\", Pos=\"DF\", Squad=\"Bordeaux\", Comp=\"fr Ligue 1\",\n",
    "                  Age=28.0, Born=1992.0, MP=31, Starts=30, Min=2651, _90s=29.5, **metrics)\n",
    "df_player = spark.createDataFrame([player_data])\n",
    "\n",
    "# Calcular percentiles de cada métrica para todos los jugadores de la misma posición y liga\n",
    "def calculate_percentile(metric_name, player_value, df_all_players):\n",
    "    # Calcular percentil de la métrica para el jugador seleccionado\n",
    "    percentile = df_all_players.approxQuantile(metric_name, [player_value], 0.01)[0]\n",
    "    return percentile\n",
    "\n",
    "# Cargar datos completos de todos los jugadores de la misma posición y liga\n",
    "# Supongamos que df_all_players es el DataFrame que contiene todos los datos de los jugadores\n",
    "\n",
    "# Calcular percentiles de cada métrica para el jugador seleccionado\n",
    "percentiles = {}\n",
    "for metric_name, player_value in metrics.items():\n",
    "    percentile = calculate_percentile(metric_name, player_value, df_all_players)\n",
    "    percentiles[metric_name] = percentile\n",
    "\n",
    "# Crear DataFrame de PySpark con los datos del jugador y sus percentiles en las métricas seleccionadas\n",
    "player_row = Row(Player=player_data.Player, Nation=player_data.Nation, Pos=player_data.Pos, Squad=player_data.Squad,\n",
    "                 Comp=player_data.Comp, Age=player_data.Age, Born=player_data.Born, MP=player_data.MP,\n",
    "                 Starts=player_data.Starts, Min=player_data.Min, _90s=player_data._90s, **percentiles)\n",
    "df_player_percentiles = spark.createDataFrame([player_row])\n",
    "\n",
    "# Mostrar DataFrame de PySpark\n",
    "df_player_percentiles.show()\n",
    "\n",
    "# Convertir DataFrame de PySpark a DataFrame de pandas\n",
    "df_player_percentiles_pandas = df_player_percentiles.toPandas()\n",
    "\n",
    "# Mostrar DataFrame de pandas\n",
    "print(\"DataFrame de pandas:\")\n",
    "print(df_player_percentiles_pandas)"
   ]
  }
 ],
 "metadata": {
  "language_info": {
   "name": "python"
  }
 },
 "nbformat": 4,
 "nbformat_minor": 2
}
