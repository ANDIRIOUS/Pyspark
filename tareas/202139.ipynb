print("este es un ejemplo")
