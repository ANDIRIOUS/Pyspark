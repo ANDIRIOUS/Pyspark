{
 "cells": [
  {
   "cell_type": "markdown",
   "metadata": {},
   "source": [
    "# Tarea PySpark"
   ]
  },
  {
   "cell_type": "markdown",
   "metadata": {},
   "source": [
    "### Objetivo:\n",
    " Analizar la eficiencia de los jugadores en términos generales y por posición, así como determinar la contribución al equipo por jugador tomando en cuenta los datos obtenidos"
   ]
  },
  {
   "cell_type": "markdown",
   "metadata": {},
   "source": [
    "Usarás la base de datos del archivo 'fusbol.csv' para obtener tus datos. Checa la estructura del archivo para ver si es necesario limpiar la informacion, ver su estructura y así sea más fácil completar la tarea. Besos."
   ]
  },
  {
   "cell_type": "markdown",
   "metadata": {},
   "source": [
    "### Ejercicio 1:\n",
    "Carga la base de datos en un DataFrame de Pyspark (con 2 nucleos). Valida los rangos de los valores donde sea aplicable, así como su corrección (en caso de ser necesaria). \n",
    "Después, utilizando las variables más relevantes como 'Ast/90', 'PassCmp%', etc., concluye qué ligas tienen los mejores jugadores por posición. Es decir, si los mejores jugadores defensas son de la liga francesa, inglesa, etc., por ejemplo.\n",
    "Como cada persona tiene una definición de \"mejor\", utiliza las siguientes metricas por posición:\n",
    "- Delanteros: npG+A/90 y npxG+xA/90\n",
    "- Medios: KeyPass/90 y PassCmp%\n",
    "- Defensas: PressSucc% y Interceptions/90\n",
    "\n",
    "Con los resultados obtenidos, grafica por posición para que tu conclusión tenga un respaldo visual también."
   ]
  },
  {
   "cell_type": "code",
   "execution_count": null,
   "metadata": {},
   "outputs": [],
   "source": [
    "import findspark\n",
    "findspark.init()\n",
    "import matplotlib.pyplot as plt\n",
    "import seaborn as sns\n",
    "from pyspark.sql import SparkSession\n",
    "from pyspark.sql.functions import *\n",
    "from pyspark.sql.window import Window"
   ]
  },
  {
   "cell_type": "code",
   "execution_count": null,
   "metadata": {},
   "outputs": [],
   "source": [
    "spark = SparkSession.builder.appName('firstSession')\\\n",
    "    .config('spark.master', 'local[2]')\\\n",
    "    .config('spark.executor.memory', '1g')\\\n",
    "    .config(\"spark.sql.shuffle.partitions\", 10)\\\n",
    "    .config('spark.driver.memory','1g')\\\n",
    "    .getOrCreate()"
   ]
  },
  {
   "cell_type": "code",
   "execution_count": null,
   "metadata": {},
   "outputs": [],
   "source": [
    "spark"
   ]
  },
  {
   "cell_type": "code",
   "execution_count": null,
   "metadata": {},
   "outputs": [],
   "source": [
    "df_c = spark.read.csv('fusbol.csv', header=True, inferSchema=True)\n",
    "df_c.show()"
   ]
  },
  {
   "cell_type": "code",
   "execution_count": null,
   "metadata": {},
   "outputs": [],
   "source": [
    "df_c.printSchema()"
   ]
  },
  {
   "cell_type": "code",
   "execution_count": null,
   "metadata": {},
   "outputs": [],
   "source": [
    "df_c.count()"
   ]
  },
  {
   "cell_type": "code",
   "execution_count": null,
   "metadata": {},
   "outputs": [],
   "source": [
    "df_c= df_c.dropna()"
   ]
  },
  {
   "cell_type": "code",
   "execution_count": null,
   "metadata": {},
   "outputs": [],
   "source": [
    "df_c.count()"
   ]
  },
  {
   "cell_type": "markdown",
   "metadata": {},
   "source": [
    "### Delanteros "
   ]
  },
  {
   "cell_type": "code",
   "execution_count": null,
   "metadata": {},
   "outputs": [],
   "source": [
    "#Filtro para solo tener delanteros\n",
    "\n",
    "delanteros_df = df_c.filter(col(\"Pos\").like(\"%FW%\"))\n",
    "#Confirmo la respuesta\n",
    "delanteros_df.select(\"Pos\").show()\n",
    "\n",
    "# Agrupar por la columna 'Comp' y promediar los valores de 'npG+A/90'\n",
    "avg_npG = delanteros_df.groupBy(\"Comp\").agg(avg(\"npG+A/90\").alias(\"npG+A/90\")).orderBy(desc(\"npG+A/90\"))\n",
    "# Mostrar el resultado\n",
    "avg_npG.show()\n",
    "#Agrupar por la columna 'Comp' y promediar los valores de 'npG+A/90'\n",
    "avg_npxG = delanteros_df.groupBy(\"Comp\").agg(avg(\"npxG+xA/90\").alias(\"npxG+xA/90\")).orderBy(desc(\"npxG+xA/90\"))\n",
    "avg_npxG.show()"
   ]
  },
  {
   "cell_type": "markdown",
   "metadata": {},
   "source": [
    "### Graficas"
   ]
  },
  {
   "cell_type": "code",
   "execution_count": null,
   "metadata": {},
   "outputs": [],
   "source": [
    "# Convierte los DataFrames de Spark a Pandas DataFrames\n",
    "avg_npG_pd = avg_npG.toPandas()\n",
    "avg_npxG_pd = avg_npxG.toPandas()"
   ]
  },
  {
   "cell_type": "code",
   "execution_count": null,
   "metadata": {},
   "outputs": [],
   "source": [
    "#Grafica de avg_npG_pd\n",
    "plt.figure(figsize=(12, 7))\n",
    "sns.barplot(x='Comp', y='npG+A/90', data=avg_npG_pd, palette='viridis')\n",
    "plt.title('Promedio de Goles y Asistencias No Penales por 90 Minutos por Competencia')\n",
    "plt.xlabel('Competencia')\n",
    "plt.ylabel('Goles y Asistencias No Penales por 90 Minutos')\n",
    "plt.xticks(rotation=45)\n",
    "plt.tight_layout()\n",
    "plt.show()\n"
   ]
  },
  {
   "cell_type": "code",
   "execution_count": null,
   "metadata": {},
   "outputs": [],
   "source": [
    "#Grafica de avg_npxG_pd\n",
    "plt.figure(figsize=(12, 7))\n",
    "sns.barplot(x='Comp', y='npxG+xA/90', data=avg_npxG_pd, palette='viridis')\n",
    "plt.title('Promedio de Goles y Asistencias Esperadas No Penales por 90 Minutos por Competencia')\n",
    "plt.xlabel('Competencia')\n",
    "plt.ylabel('Goles y Asistencias Esperadas No Penales por 90 Minutos')\n",
    "plt.xticks(rotation=45)\n",
    "plt.tight_layout()\n",
    "plt.show()\n"
   ]
  },
  {
   "cell_type": "markdown",
   "metadata": {},
   "source": [
    "### Medios"
   ]
  },
  {
   "cell_type": "code",
   "execution_count": null,
   "metadata": {},
   "outputs": [],
   "source": [
    "#Filtro para solo tener medios\n",
    "\n",
    "medios_df = df_c.filter(col(\"Pos\").like(\"%MF%\"))\n",
    "#Confirmo la respuesta\n",
    "medios_df.select(\"Pos\").show()\n",
    "\n",
    "# Agrupar por la columna 'Comp' y promediar los valores de 'KeyPass/90'\n",
    "keyPass = medios_df.groupBy(\"Comp\").agg(avg(\"KeyPass/90\").alias(\"KeyPass/90\")).orderBy(desc(\"KeyPass/90\"))\n",
    "# Mostrar el resultado\n",
    "keyPass.show()\n",
    "#Agrupar por la columna 'Comp' y promediar los valores de 'PassCmp%'\n",
    "passCmp = medios_df.groupBy(\"Comp\").agg(avg(\"PassCmp%\").alias(\"PassCmp%\")).orderBy(desc(\"PassCmp%\"))\n",
    "passCmp.show()"
   ]
  },
  {
   "cell_type": "markdown",
   "metadata": {},
   "source": [
    "### Graficas"
   ]
  },
  {
   "cell_type": "code",
   "execution_count": null,
   "metadata": {},
   "outputs": [],
   "source": [
    "# Convertir a Pandas DataFrames\n",
    "keyPass_pd = keyPass.toPandas()\n",
    "passCmp_pd = passCmp.toPandas()"
   ]
  },
  {
   "cell_type": "code",
   "execution_count": null,
   "metadata": {},
   "outputs": [],
   "source": [
    "# Gráfico para Key Passes por 90 minutos\n",
    "plt.figure(figsize=(12, 7))\n",
    "sns.barplot(x='Comp', y='KeyPass/90', data=keyPass_pd, palette='magma')\n",
    "plt.title('Promedio de Pases Clave por 90 Minutos por Competencia')\n",
    "plt.xlabel('Competencia')\n",
    "plt.ylabel('Pases Clave por 90 Minutos')\n",
    "plt.xticks(rotation=45)\n",
    "plt.tight_layout()\n",
    "plt.show()"
   ]
  },
  {
   "cell_type": "code",
   "execution_count": null,
   "metadata": {},
   "outputs": [],
   "source": [
    "# Gráfico para Porcentaje de Pases Completados\n",
    "plt.figure(figsize=(12, 7))\n",
    "sns.barplot(x='Comp', y='PassCmp%', data=passCmp_pd, palette='magma')\n",
    "plt.title('Promedio de Porcentaje de Pases Completados por Competencia')\n",
    "plt.xlabel('Competencia')\n",
    "plt.ylabel('Porcentaje de Pases Completados')\n",
    "plt.xticks(rotation=45)\n",
    "plt.tight_layout()\n",
    "plt.show()"
   ]
  },
  {
   "cell_type": "markdown",
   "metadata": {},
   "source": [
    "### Defensa "
   ]
  },
  {
   "cell_type": "code",
   "execution_count": null,
   "metadata": {},
   "outputs": [],
   "source": [
    "#Filtro para solo tener defensas\n",
    "\n",
    "defensas_df = df_c.filter(col(\"Pos\").like(\"%DF%\"))\n",
    "#Confirmo la respuesta\n",
    "defensas_df.select(\"Pos\").show()\n",
    "\n",
    "# Agrupar por la columna 'Comp' y promediar los valores de 'PressSucc%\"'\n",
    "pressSucc = defensas_df.groupBy(\"Comp\").agg(avg(\"PressSucc%\").alias(\"PressSucc%\")).orderBy(desc(\"PressSucc%\"))\n",
    "# Mostrar el resultado\n",
    "pressSucc.show()\n",
    "#Agrupar por la columna 'Comp' y promediar los valores de 'Interceptions/90'\n",
    "interceptions = defensas_df.groupBy(\"Comp\").agg(avg(\"Interceptions/90\").alias(\"Interceptions/90\")).orderBy(desc(\"Interceptions/90\"))\n",
    "interceptions.show()"
   ]
  },
  {
   "cell_type": "markdown",
   "metadata": {},
   "source": [
    "### Graficas "
   ]
  },
  {
   "cell_type": "code",
   "execution_count": null,
   "metadata": {},
   "outputs": [],
   "source": [
    "# Convierte los DataFrames de Spark a Pandas DataFrames\n",
    "interceptions_pd = interceptions.toPandas()\n",
    "pressSucc_pd = pressSucc.toPandas()"
   ]
  },
  {
   "cell_type": "code",
   "execution_count": null,
   "metadata": {},
   "outputs": [],
   "source": [
    "#Grafica de press_Succ\n",
    "plt.figure(figsize=(10, 6))\n",
    "sns.barplot(x='Comp', y='PressSucc%', data=pressSucc_pd)\n",
    "plt.title('Porcentaje de Éxito en Presión por Competencia')\n",
    "plt.xlabel('Competencia')\n",
    "plt.ylabel('Porcentaje de Éxito en Presión')\n",
    "plt.xticks(rotation=45)\n",
    "plt.show()"
   ]
  },
  {
   "cell_type": "code",
   "execution_count": null,
   "metadata": {},
   "outputs": [],
   "source": [
    "#Grafica de Interceptions\n",
    "plt.figure(figsize=(10, 6))\n",
    "sns.barplot(x='Comp', y='Interceptions/90', data=interceptions_pd)\n",
    "plt.title('Promedio de Intercepciones por 90 minutos por Competencia')\n",
    "plt.xlabel('Competencia')\n",
    "plt.ylabel('Intercepciones por 90 minutos')\n",
    "plt.xticks(rotation=45)\n",
    "plt.show()"
   ]
  },
  {
   "cell_type": "markdown",
   "metadata": {},
   "source": [
    "### Nota importante \n",
    "Considerar el promedio para entender cual es la liga con mejores jugadores puede ser un error estadistico. En este caso estamos considerando la liga que en promedio tiene a los mejores jugadores. Esto no significa que todos los mejores jugadores pertenescan a esta liga. \n"
   ]
  },
  {
   "cell_type": "markdown",
   "metadata": {
    "vscode": {
     "languageId": "plaintext"
    }
   },
   "source": [
    "### Ejercicio 2:"
   ]
  },
  {
   "cell_type": "markdown",
   "metadata": {},
   "source": [
    "Ahora hagamos algo un poco más interesante. Escoge algún jugador de todos los disponibles y toma 5 metricas, las que quieras. Debes concluir en qué percentil se encuentra el jugador en esas métricas que escogiste. Obviamente, vas a comparar sus valores con todos los demás con los que comparte posición y liga, para no tener un sesgo y que la información no pierda robustez. Por último, genera un DataFrame de Pyspark con todos los datos solicitados. Muestra el DataFrame y conviertelo a otro de tipo pandas. Muestra los dos."
   ]
  },
  {
   "cell_type": "code",
   "execution_count": null,
   "metadata": {},
   "outputs": [],
   "source": [
    "# Filtrar para encontrar jugadores cuyo nombre incluya 'Timo' (en cualquier combinación de mayúsculas y minúsculas)\n",
    "#Intento buscar al GOAT Timo Werner \n",
    "players_with_timo = df_c.filter(lower(col(\"Player\")).like(\"%timo%\"))\n",
    "players_with_timo.show()"
   ]
  },
  {
   "cell_type": "code",
   "execution_count": null,
   "metadata": {},
   "outputs": [],
   "source": [
    "#Filtro para solo tener jugadores de su pos y su liga\n",
    "fw_eng_prem_df = df_c.filter((col(\"Pos\").like(\"%FW%\")) & (col(\"Comp\") == \"eng Premier League\"))\n",
    "fw_eng_prem_df.show()"
   ]
  },
  {
   "cell_type": "markdown",
   "metadata": {},
   "source": [
    "### Nota \n",
    "Aqui estamos viendo el Percentil del jugador, el promedio de la liga, el maximo, el minimo, la desviacion en esa estadistica. Esto nos ayuda a comprobar los resultados más adelante"
   ]
  },
  {
   "cell_type": "code",
   "execution_count": null,
   "metadata": {},
   "outputs": [],
   "source": [
    "\n",
    "metrics = [\"npG+A/90\",\"npxG+xA/90\", \"Shots/90\", \"SoT%\", \"AvgShotDist\", \"PassAtt/90\"]\n",
    "\n",
    "# Iterar sobre cada métrica para realizar análisis\n",
    "for metric in metrics:\n",
    "    # Definir la ventana sobre la que se calculará el percentil\n",
    "    windowSpec = Window.orderBy(col(metric).desc())\n",
    "\n",
    "    # Calcular el percentil para cada jugador\n",
    "    fw_eng_prem_df = fw_eng_prem_df.withColumn(f\"Percentile_{metric}\", percent_rank().over(windowSpec))\n",
    "\n",
    "    # Buscar un jugador específico y ver su percentil\n",
    "    specific_player = fw_eng_prem_df.filter(col(\"Player\").like(\"%Timo Werner%\"))\n",
    "    specific_player.select(\"Player\", metric, f\"Percentile_{metric}\").show()\n",
    "\n",
    "    # Calcular y mostrar el promedio\n",
    "    average_metric = fw_eng_prem_df.agg(avg(metric).alias(f\"Average_{metric}\"))\n",
    "    average_metric.show()\n",
    "\n",
    "    # Calcular y mostrar estadísticas básicas\n",
    "    stats = fw_eng_prem_df.agg(\n",
    "        max(metric).alias(\"Max\"),\n",
    "        min(metric).alias(\"Min\"),\n",
    "        stddev(metric).alias(\"Standard Deviation\")\n",
    "    )\n",
    "    stats.show()\n"
   ]
  },
  {
   "cell_type": "markdown",
   "metadata": {},
   "source": [
    "### Nota\n",
    "Cuando usas el método append() en la lista results en el contexto del código de PySpark que has proporcionado, estás agregando un DataFrame a la lista. Cada elemento de la lista results es un DataFrame de Spark que contiene los resultados específicos para \"Timo Werner\" de una métrica particular."
   ]
  },
  {
   "cell_type": "code",
   "execution_count": null,
   "metadata": {},
   "outputs": [],
   "source": [
    "# Asumiendo que fw_eng_prem_df ya está cargado y definido\n",
    "metrics = [\"npG+A/90\", \"npxG+xA/90\", \"Shots/90\", \"SoT%\", \"AvgShotDist\", \"PassAtt/90\"]\n",
    "\n",
    "# Lista para acumular los resultados de cada métrica\n",
    "results = []\n",
    "\n",
    "# Iterar sobre cada métrica para realizar análisis\n",
    "for metric in metrics:\n",
    "    windowSpec = Window.orderBy(col(metric).desc())\n",
    "    fw_eng_prem_df = fw_eng_prem_df.withColumn(f\"Percentile_{metric}\", percent_rank().over(windowSpec))\n",
    "\n",
    "    # Filtrar por un jugador específico y seleccionar los datos necesarios\n",
    "    specific_player = fw_eng_prem_df.filter(col(\"Player\").like(\"%Timo Werner%\"))\n",
    "    specific_player_data = specific_player.select(\"Player\", lit(metric).alias(\"Metric\"), col(f\"Percentile_{metric}\").alias(\"Percentile\"))\n",
    "\n",
    "    # Agregar los resultados al listado\n",
    "    results.append(specific_player_data)\n",
    "\n",
    "# Concatenar todos los DataFrames en la lista en un único DataFrame\n",
    "final_result_df = results[0]\n",
    "for df in results[1:]:\n",
    "    final_result_df = final_result_df.union(df)\n",
    "\n",
    "# Mostrar el DataFrame final con todos los percentiles\n",
    "final_result_df.show()\n",
    "final_result_pd = final_result_df.toPandas()\n",
    "print(final_result_pd)"
   ]
  }
 ],
 "metadata": {
  "kernelspec": {
   "display_name": "myenv",
   "language": "python",
   "name": "python3"
  },
  "language_info": {
   "name": "python",
   "version": "3.10.14"
  }
 },
 "nbformat": 4,
 "nbformat_minor": 2
}
